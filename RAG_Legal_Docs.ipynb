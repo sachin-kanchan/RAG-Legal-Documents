{
 "cells": [
  {
   "cell_type": "markdown",
   "metadata": {},
   "source": [
    " # **Extracting Information from Legal Documents Using RAG**"
   ]
  },
  {
   "cell_type": "markdown",
   "metadata": {},
   "source": [
    " ## **Objective**"
   ]
  },
  {
   "cell_type": "markdown",
   "metadata": {},
   "source": [
    "The main objective of this project is to build and evaluate an end-to-end **Retrieval-Augmented Generation (RAG)** system tailored for legal document analysis. We will process a corpus of legal agreements, transform the raw text into a structured and searchable knowledge base, and then use this base to accurately answer complex legal questions.\n",
    "\n",
    "The project lifecycle involves:\n",
    "\n",
    "*   **Data Ingestion and Preprocessing:** Understanding and cleaning the legal text to prepare it for analysis.\n",
    "\n",
    "*   **Exploratory Data Analysis (EDA):** Uncovering characteristics and patterns within the corpus to inform our modeling strategy.\n",
    "\n",
    "*   **Vectorization and Indexing:** Transforming documents into numerical representations and storing them in a specialized vector database for efficient retrieval.\n",
    "\n",
    "*   **RAG Pipeline Construction:** Building the core chain that connects the retriever (finds relevant information) and the generator (answers questions based on that information).\n",
    "\n",
    "*   **Comprehensive Evaluation:** Measuring the pipeline's performance using a combination of lexical and semantic metrics to ensure accuracy and reliability.\n",
    "\n",
    "\n",
    "The ultimate goal is to create a robust and verifiable question-answering system that can serve as a powerful tool for legal professionals."
   ]
  },
  {
   "cell_type": "markdown",
   "metadata": {},
   "source": [
    " ### **Business Value**\n",
    "\n"
   ]
  },
  {
   "cell_type": "markdown",
   "metadata": {},
   "source": [
    " The project aims to leverage RAG to enhance legal document processing for businesses, law firms, and regulatory bodies. The key business objectives include:\n",
    "\n",
    "\n",
    "\n",
    " * Faster Legal Research: <br> Reduce the time lawyers and compliance officers spend searching for relevant case laws, precedents, statutes, or contract clauses.\n",
    "\n",
    " * Improved Contract Analysis: <br> Automatically extract key terms, obligations, and risks from lengthy contracts.\n",
    "\n",
    " * Regulatory Compliance Monitoring: <br> Help businesses stay updated with legal and regulatory changes by retrieving relevant legal updates.\n",
    "\n",
    " * Enhanced Decision-Making: <br> Provide accurate and context-aware legal insights to assist in risk assessment and legal strategy.\n",
    "\n",
    "\n",
    "\n",
    "\n",
    "\n",
    " **Use Cases**\n",
    "\n",
    " * Legal Chatbots\n",
    "\n",
    " * Contract Review Automation\n",
    "\n",
    " * Tracking Regulatory Changes and Compliance Monitoring\n",
    "\n",
    " * Case Law Analysis of past judgments\n",
    "\n",
    " * Due Diligence & Risk Assessment"
   ]
  },
  {
   "cell_type": "markdown",
   "metadata": {},
   "source": [
    " ## **1. Data Loading, Preparation and Analysis**"
   ]
  },
  {
   "cell_type": "markdown",
   "metadata": {},
   "source": [
    " ### **1.1 Data Understanding**"
   ]
  },
  {
   "cell_type": "markdown",
   "metadata": {},
   "source": [
    " The dataset contains legal documents and contracts collected from various sources. The documents are present as text files (`.txt`) in the *corpus* folder.\n",
    "\n",
    "\n",
    "\n",
    " There are four types of documents in the *courpus* folder, divided into four subfolders.\n",
    "\n",
    " - `contractnli`: contains various non-disclosure and confidentiality agreements\n",
    "\n",
    " - `cuad`: contains contracts with annotated legal clauses\n",
    "\n",
    " - `maud`: contains various merger/acquisition contracts and agreements\n",
    "\n",
    " - `privacy_qa`: a question-answering dataset containing privacy policies\n",
    "\n",
    "\n",
    "\n",
    " The dataset also contains evaluation files in JSON format in the *benchmark* folder. The files contain the questions and their answers, along with sources. For each of the above four folders, there is a `json` file: `contractnli.json`, `cuad.json`, `maud.json` `privacy_qa.json`. The file structure is as follows:\n",
    "\n",
    "\n",
    "\n",
    " ```\n",
    "\n",
    " {\n",
    "\n",
    "     \"tests\": [\n",
    "\n",
    "         {\n",
    "\n",
    "             \"query\": <question1>,\n",
    "\n",
    "             \"snippets\": [{\n",
    "\n",
    "                     \"file_path\": <source_file1>,\n",
    "\n",
    "                     \"span\": [ begin_position, end_position ],\n",
    "\n",
    "                     \"answer\": <relevant answer to the question 1>\n",
    "\n",
    "                 },\n",
    "\n",
    "                 {\n",
    "\n",
    "                     \"file_path\": <source_file2>,\n",
    "\n",
    "                     \"span\": [ begin_position, end_position ],\n",
    "\n",
    "                     \"answer\": <relevant answer to the question 2>\n",
    "\n",
    "                 }, ....\n",
    "\n",
    "             ]\n",
    "\n",
    "         },\n",
    "\n",
    "         {\n",
    "\n",
    "             \"query\": <question2>,\n",
    "\n",
    "             \"snippets\": [{<answer context for que 2>}]\n",
    "\n",
    "         },\n",
    "\n",
    "         ... <more queries>\n",
    "\n",
    "     ]\n",
    "\n",
    " }\n",
    "\n",
    " ```"
   ]
  },
  {
   "cell_type": "markdown",
   "metadata": {},
   "source": [
    " ### **1.2 Load and Preprocess the data**"
   ]
  },
  {
   "cell_type": "markdown",
   "metadata": {},
   "source": [
    " #### Loading libraries"
   ]
  },
  {
   "cell_type": "code",
   "execution_count": 1,
   "metadata": {},
   "outputs": [],
   "source": [
    "# # The following libraries might be useful\n",
    "# !pip install -q langchain-openai\n",
    "# !pip install -U -q langchain-community\n",
    "# !pip install -U -q langchain-chroma\n",
    "# !pip install -U -q datasets\n",
    "# !pip install -U -q ragas\n",
    "# !pip install -U -q rouge_score\n",
    "# !pip install -q evaluate # For BLEU score\n",
    "# !pip install -q nltk\n",
    "# !pip install -q scikit-learn\n",
    "# !pip install -q tqdm\n",
    "# !pip install -q pandas\n",
    "# !pip install -q numpy\n",
    "# !pip install -q matplotlib\n",
    "# !pip install -q seaborn\n",
    "# !pip install -q pathlib\n"
   ]
  },
  {
   "cell_type": "code",
   "execution_count": 2,
   "metadata": {},
   "outputs": [
    {
     "name": "stdout",
     "output_type": "stream",
     "text": [
      "Libraries imported and NLTK resources checked.\n",
      "OpenAI API Key found.\n"
     ]
    }
   ],
   "source": [
    "# %%\n",
    "# import essential libraries\n",
    "import os\n",
    "import json\n",
    "import re\n",
    "import numpy as np\n",
    "import pandas as pd\n",
    "import matplotlib.pyplot as plt\n",
    "import seaborn as sns\n",
    "from collections import Counter\n",
    "from pathlib import Path\n",
    "from tqdm import tqdm\n",
    "import random\n",
    "import shutil\n",
    "\n",
    "import warnings\n",
    "warnings.filterwarnings('ignore')\n",
    "\n",
    "# Langchain imports\n",
    "from langchain.document_loaders import DirectoryLoader # Keep if you used it initially, TextLoader is used in your load_documents_from_corpus\n",
    "from langchain.text_splitter import RecursiveCharacterTextSplitter\n",
    "from langchain_openai import OpenAIEmbeddings\n",
    "from langchain_chroma import Chroma\n",
    "from langchain_openai import ChatOpenAI\n",
    "from langchain.chains import RetrievalQA\n",
    "from langchain.docstore.document import Document\n",
    "# from pathlib import Path # Already imported\n",
    "from langchain.document_loaders import TextLoader # Used in your load_documents_from_corpus\n",
    "\n",
    "# NLTK for text processing\n",
    "import nltk\n",
    "from nltk.corpus import stopwords\n",
    "from nltk.tokenize import word_tokenize\n",
    "\n",
    "# scikit-learn for TF-IDF and similarity\n",
    "from sklearn.feature_extraction.text import TfidfVectorizer\n",
    "from sklearn.metrics.pairwise import cosine_similarity\n",
    "\n",
    "# Evaluation libraries\n",
    "from rouge_score import rouge_scorer\n",
    "import evaluate as hf_evaluate # For BLEU score (aliased)\n",
    "from ragas import evaluate as ragas_evaluate # For RAGAS (aliased)\n",
    "from ragas.metrics import (\n",
    "    faithfulness,\n",
    "    answer_relevancy,\n",
    "    context_recall,\n",
    "    context_precision,\n",
    "    answer_correctness\n",
    ")\n",
    "from datasets import Dataset # For RAGAS\n",
    "\n",
    "# ensure NLTK resources are available\n",
    "try:\n",
    "    nltk.data.find('tokenizers/punkt')\n",
    "except nltk.downloader.DownloadError:\n",
    "    nltk.download('punkt')\n",
    "try:\n",
    "    nltk.data.find('corpora/stopwords')\n",
    "except nltk.downloader.DownloadError:\n",
    "    nltk.download('stopwords')\n",
    "\n",
    "print(\"Libraries imported and NLTK resources checked.\")\n",
    "# Make sure your OPENAI_API_KEY is set in your environment\n",
    "openai_api_key = os.getenv(\"OPENAI_API_KEY\")\n",
    "if not openai_api_key:\n",
    "    print(\"CRITICAL: OpenAI API Key not found. RAG and RAGAS evaluation will likely fail.\")\n",
    "else:\n",
    "    print(\"OpenAI API Key found.\")"
   ]
  },
  {
   "cell_type": "markdown",
   "metadata": {},
   "source": [
    "#### **1.2.1 Programmatic Document Loading**\n",
    "\n",
    "We begin by loading all `.txt` files from the corpus. Using a programmatic loader like LangChain's `TextLoader` within a recursive function ensures that our data ingestion process is scalable, reproducible, and can handle complex directory structures without manual intervention. We also enrich each document with metadata, such as its file path, which is crucial for traceability and sourcing answers later."
   ]
  },
  {
   "cell_type": "code",
   "execution_count": 3,
   "metadata": {},
   "outputs": [],
   "source": [
    "from pathlib import Path\n",
    "from langchain.document_loaders import TextLoader\n",
    "from tqdm import tqdm\n",
    "\n",
    "def load_documents_from_corpus(corpus_dir_path):\n",
    "    \"\"\"\n",
    "    recursively loads all clean .txt files from the corpus directory.\n",
    "    this processes all txt files found in the directory structure.\n",
    "    \"\"\"\n",
    "    corpus_path = Path(corpus_dir_path)\n",
    "    all_documents = []\n",
    "\n",
    "    print(f\"starting recursive loading from: {corpus_path}\")\n",
    "\n",
    "    # find all .txt files, excluding macos metadata\n",
    "    txt_files = [f for f in corpus_path.rglob(\"*.txt\") if not f.name.startswith(\"._\")]\n",
    "\n",
    "    print(f\"found {len(txt_files)} .txt files to process.\")\n",
    "\n",
    "    for file_path in tqdm(txt_files, desc=\"loading txt files\"):\n",
    "        try:\n",
    "            loader = TextLoader(str(file_path), autodetect_encoding=True)\n",
    "            docs = loader.load()\n",
    "            \n",
    "            if not docs:\n",
    "                continue\n",
    "\n",
    "            for doc in docs:\n",
    "                if not doc.page_content.strip():\n",
    "                    # skip empty content\n",
    "                    continue\n",
    "\n",
    "                # useful metadata for tracking\n",
    "                doc.metadata['filename'] = file_path.name\n",
    "                # store relative path from corpus root\n",
    "                doc.metadata['relative_path'] = str(file_path.relative_to(corpus_path))\n",
    "                doc.metadata['file_path'] = str(file_path)\n",
    "\n",
    "                all_documents.append(doc)\n",
    "\n",
    "        except Exception as e:\n",
    "            print(f\"error loading {file_path}: {e}\")\n",
    "\n",
    "    print(f\"successfully loaded {len(all_documents)} documents from {len(txt_files)} files.\")\n",
    "    return all_documents\n"
   ]
  },
  {
   "cell_type": "code",
   "execution_count": 4,
   "metadata": {},
   "outputs": [
    {
     "name": "stdout",
     "output_type": "stream",
     "text": [
      "LOADING ALL DOCUMENTS\n",
      "starting recursive loading from: rag_legal\n",
      "found 698 .txt files to process.\n"
     ]
    },
    {
     "name": "stderr",
     "output_type": "stream",
     "text": [
      "loading txt files: 100%|██████████| 698/698 [00:00<00:00, 1745.37it/s]"
     ]
    },
    {
     "name": "stdout",
     "output_type": "stream",
     "text": [
      "successfully loaded 698 documents from 698 files.\n"
     ]
    },
    {
     "name": "stderr",
     "output_type": "stream",
     "text": [
      "\n"
     ]
    }
   ],
   "source": [
    "print(\"LOADING ALL DOCUMENTS\")\n",
    "corpus_data_path = Path('./rag_legal')\n",
    "documents = load_documents_from_corpus(corpus_data_path)"
   ]
  },
  {
   "cell_type": "markdown",
   "metadata": {},
   "source": [
    "#### **1.2.2 Advanced Text Preprocessing for Legal Text**\n",
    "\n",
    "Preprocessing is a critical step to standardize the corpus and remove noise that could interfere with the embedding model's performance. Our cleaning function is specifically designed to handle the nuances of legal documents.\n",
    "\n",
    "Key steps include:\n",
    "*   **Removing Noise:** We eliminate irrelevant information like email addresses and phone numbers.\n",
    "*   **Normalizing Text:** Converting text to lowercase ensures consistency. We intentionally **do not** remove stopwords (like \"shall,\" \"may,\" \"agreement\") because these words carry significant semantic weight in a legal context and are vital for the RAG system's understanding.\n",
    "*   **Handling Formatting:** We normalize whitespace and split compound words (e.g., camelCase) to ensure proper tokenization.\n",
    "*   **Data Integrity:** We log errors and skip corrupted or empty files to maintain the quality of our dataset."
   ]
  },
  {
   "cell_type": "code",
   "execution_count": 5,
   "metadata": {},
   "outputs": [],
   "source": [
    "# normalize horizontal and vertical whitespaces\n",
    "import re\n",
    "def clean_document_text(text, remove_stop_words=False, to_lowercase=True):\n",
    "    \"\"\"\n",
    "    Cleans and preprocesses legal document text.\n",
    "    \n",
    "    Handles:\n",
    "    - Removes emails and phone numbers\n",
    "    - Normalizes unicode characters\n",
    "    - Splits camelCase and PascalCase words\n",
    "    - Separates letters and numbers\n",
    "    - Optionally converts to lowercase\n",
    "    - Optionally removes stop words\n",
    "    - Normalizes multiple newlines to double newlines (for paragraph breaks)\n",
    "    - Normalizes other whitespace (spaces, tabs) to single spaces\n",
    "    - Cleans most special characters (preserving some legal/common ones)\n",
    "    - Final strip of leading/trailing whitespace\n",
    "    \"\"\"\n",
    "    \n",
    "    if not isinstance(text, str) or not text.strip():\n",
    "        return \"\"\n",
    "\n",
    "    try:\n",
    "        # step 1: remove emails and phone numbers\n",
    "        text = re.sub(r'\\b[A-Za-z0-9._%+-]+@[A-Za-z0-9.-]+\\.[A-Z|a-z]{2,}\\b', ' ', text) # case-insensitive email\n",
    "        text = re.sub(r'\\b\\d{3}[-.\\s]?\\d{3}[-.\\s]?\\d{4}\\b', ' ', text)\n",
    "        text = re.sub(r'\\(\\d{3}\\)\\s*\\d{3}[-.\\s]?\\d{4}', ' ', text)\n",
    "        text = re.sub(r'\\+\\d{1,3}[\\s-]?\\(?\\d{1,4}\\)?[\\s-]?\\d{3,4}[\\s-]?\\d{3,4}', ' ', text)\n",
    "\n",
    "        # step 2: normalize unicode quotes, dashes, and special spaces\n",
    "        text = re.sub(r'[\"“”（`‘’‛‟„‚“”—–]', '\"', text) # normalize quotes and dashes to standard double quote\n",
    "        text = text.replace('\\u2013', '-') # dash to hyphen\n",
    "        text = text.replace('\\u2014', '--') # dash to double hyphen\n",
    "        text = text.replace('\\xa0', ' ') \n",
    "        text = re.sub(r'[\\u200B-\\u200D\\uFEFF]', '', text)\n",
    "\n",
    "        # step 3: split camelCase, PascalCase, and letter/number joins\n",
    "        text = re.sub(r'([a-z])([A-Z])', r'\\1 \\2', text)\n",
    "        text = re.sub(r'([A-Z])([A-Z][a-z])', r'\\1 \\2', text)\n",
    "        text = re.sub(r'([a-zA-Z])(\\d)', r'\\1 \\2', text)\n",
    "        text = re.sub(r'(\\d)([a-zA-Z])', r'\\1 \\2', text)\n",
    "\n",
    "        # step 4: lowercase the entire text if requested\n",
    "        if to_lowercase:\n",
    "            text = text.lower()\n",
    "        \n",
    "        # step 5: (skipping commented-out joined word splitting for now)\n",
    "\n",
    "        # step 6: clean special characters but preserve important legal/common symbols.\n",
    "        text = re.sub(r'[^\\w\\s\\.\\,\\;\\:\\!\\?\\(\\)\\\"\\'\\-\\$\\€\\£\\¥§%©®]', ' ', text)\n",
    "\n",
    "        # step 7: whitespace normalization\n",
    "        # 7a: normalize multiple newlines (3 or more) to double newlines\n",
    "        text = re.sub(r'\\n{3,}', '\\n\\n', text)\n",
    "        # 7b: normalize sequences of spaces and tabs to a single space\n",
    "        text = re.sub(r'[ \\t\\f\\v\\r]+', ' ', text)\n",
    "        # 7c: convert single newlines \n",
    "        # text = re.sub(r'(?<!\\n)\\n(?!\\n)', ' ', text)\n",
    "\n",
    "        # 7d: clean up spaces around newlines\n",
    "        text = re.sub(r'\\s*\\n\\s*', '\\n', text).strip('\\n') # strip leading/trailing newlines from the whole text here before final strip\n",
    "\n",
    "        # step 8: optionally remove stop words\n",
    "        if remove_stop_words:\n",
    "            stop_words_set = set(stopwords.words('english'))\n",
    "            words = text.split()\n",
    "            filtered_words = []\n",
    "            for w in words:\n",
    "                \n",
    "                if (w not in stop_words_set or \n",
    "                    w.isdigit() or\n",
    "                    w in ['shall', 'may', 'must', 'agreement', 'contract', 'party', 'parties']): # Example important words\n",
    "                    filtered_words.append(w)\n",
    "            text = ' '.join(filtered_words)\n",
    "\n",
    "        # Step 9: final strip of any leading/trailing whitespace\n",
    "        return text.strip()\n",
    "\n",
    "    except Exception as e:\n",
    "        print(f\"Error cleaning text: {e}\")\n",
    "        return \"\""
   ]
  },
  {
   "cell_type": "code",
   "execution_count": 6,
   "metadata": {},
   "outputs": [],
   "source": [
    "def preprocess_loaded_documents(loaded_documents, remove_stop_words = False, to_lowercase = True, min_length = 100):\n",
    "    \"\"\"\n",
    "    applies cleaning to the page_content of each document object according to your requirements.\n",
    "    this processes all documents in the input list and handles missing/corrupted data.\n",
    "    \n",
    "    parameters:\n",
    "    - loaded_documents: list of document objects to process\n",
    "    - remove_stop_words: whether to remove stop words (False recommended for RAG)\n",
    "    - to_lowercase: whether to convert to lowercase (True follows your requirements)\n",
    "    - min_length: minimum character length to keep document (default: 100 for RAG)\n",
    "    \n",
    "    handles corrupted data by:\n",
    "    - logging errors for problematic files\n",
    "    - skipping documents that can't be processed\n",
    "    - skipping documents that become too short after cleaning\n",
    "    \"\"\"\n",
    "    processed_documents = []\n",
    "    skipped_count = 0\n",
    "    error_count = 0\n",
    "    \n",
    "    if not loaded_documents:\n",
    "        print(\"no documents to preprocess.\")\n",
    "        return []\n",
    "\n",
    "    # display processing configuration\n",
    "    stop_word_status = \"removing stop words\" if remove_stop_words else \"keeping stop words\"\n",
    "    case_status = \"converting to lowercase\" if to_lowercase else \"preserving original case\"\n",
    "    \n",
    "    print(f\"starting preprocessing for {len(loaded_documents)} documents...\")\n",
    "    print(f\"configuration: {stop_word_status}, {case_status}\")\n",
    "    print(f\"minimum document length: {min_length} characters\")\n",
    "    \n",
    "    for doc in tqdm(loaded_documents, desc=\"preprocessing documents\"):\n",
    "        try:\n",
    "            # attempt to clean the document content\n",
    "            cleaned_content = clean_document_text(\n",
    "                doc.page_content, \n",
    "                remove_stop_words=remove_stop_words,\n",
    "                to_lowercase=to_lowercase\n",
    "            )\n",
    "            \n",
    "            # skip if document is too short after cleaning\n",
    "            if len(cleaned_content) < min_length:\n",
    "                skipped_count += 1\n",
    "                continue\n",
    "                \n",
    "            # create a new document object with cleaned content\n",
    "            processed_doc = type(doc)(\n",
    "                page_content=cleaned_content,\n",
    "                metadata=doc.metadata  # retain original metadata\n",
    "            )\n",
    "            processed_documents.append(processed_doc)\n",
    "            \n",
    "        except Exception as e:\n",
    "            # handle missing or corrupted data by logging and skipping\n",
    "            filename = doc.metadata.get('filename', 'unknown')\n",
    "            print(f\"error processing {filename}: {e}\")\n",
    "            error_count += 1\n",
    "            continue\n",
    "        \n",
    "    print(f\"successfully preprocessed {len(processed_documents)} documents.\")\n",
    "    if skipped_count > 0:\n",
    "        print(f\"skipped {skipped_count} documents that were too short after cleaning.\")\n",
    "    if error_count > 0:\n",
    "        print(f\"encountered errors in {error_count} documents (logged and skipped).\")\n",
    "    \n",
    "    return processed_documents"
   ]
  },
  {
   "cell_type": "code",
   "execution_count": 7,
   "metadata": {},
   "outputs": [
    {
     "name": "stdout",
     "output_type": "stream",
     "text": [
      "starting preprocessing for 698 documents...\n",
      "configuration: keeping stop words, converting to lowercase\n",
      "minimum document length: 100 characters\n"
     ]
    },
    {
     "name": "stderr",
     "output_type": "stream",
     "text": [
      "preprocessing documents: 100%|██████████| 698/698 [00:08<00:00, 84.81it/s] "
     ]
    },
    {
     "name": "stdout",
     "output_type": "stream",
     "text": [
      "successfully preprocessed 698 documents.\n"
     ]
    },
    {
     "name": "stderr",
     "output_type": "stream",
     "text": [
      "\n"
     ]
    }
   ],
   "source": [
    "# RAG optimized cleanup\n",
    "processed_documents = preprocess_loaded_documents(\n",
    "    documents, \n",
    "    remove_stop_words=False,  # better for rag\n",
    "    to_lowercase=True,        # normalize text\n",
    "    min_length=100\n",
    ")\n"
   ]
  },
  {
   "cell_type": "code",
   "execution_count": 8,
   "metadata": {},
   "outputs": [
    {
     "name": "stdout",
     "output_type": "stream",
     "text": [
      "\n",
      "--- document 1 ---\n",
      "\n",
      "filename: The Michaels Companies, Inc._Apollo Global Management, LLC.txt\n",
      "path:     rag_legal/corpus/maud/The Michaels Companies, Inc._Apollo Global Management, LLC.txt\n",
      "\n",
      "Metadata: {'source': 'rag_legal/corpus/maud/The Michaels Companies, Inc._Apollo Global Management, LLC.txt', 'filename': 'The Michaels Companies, Inc._Apollo Global Management, LLC.txt', 'relative_path': 'corpus/maud/The Michaels Companies, Inc._Apollo Global Management, LLC.txt', 'file_path': 'rag_legal/corpus/maud/The Michaels Companies, Inc._Apollo Global Management, LLC.txt'}\n",
      "\n",
      "content sample:\n",
      "exhibit 2.1 execution version agreement and plan of merger dated as of march 2, 2021 among the michaels companies, inc., magic acquireco, inc. and magic mergeco, inc.\n",
      "table of contents page article 1 definitions 2 section 1.01. definitions 2 article 2 the offer and the merger 16 section 2.01. the offer 16 section 2.02. company actions 21 section 2.03. the merger. 22 section 2.04. conversion of shares 23 section 2.05. surrender and payment 24 section 2.06. appraisal shares 26 section 2.07. compan\n",
      "\n",
      "\n",
      "\n",
      "--- document 2 ---\n",
      "\n",
      "filename: WPX Energy, Inc._Devon Energy Corporation.txt\n",
      "path:     rag_legal/corpus/maud/WPX Energy, Inc._Devon Energy Corporation.txt\n",
      "\n",
      "Metadata: {'source': 'rag_legal/corpus/maud/WPX Energy, Inc._Devon Energy Corporation.txt', 'filename': 'WPX Energy, Inc._Devon Energy Corporation.txt', 'relative_path': 'corpus/maud/WPX Energy, Inc._Devon Energy Corporation.txt', 'file_path': 'rag_legal/corpus/maud/WPX Energy, Inc._Devon Energy Corporation.txt'}\n",
      "\n",
      "content sample:\n",
      "exhibit 2.1\n",
      "execution version agreement and plan of merger\n",
      "by and among\n",
      "devon energy corporation,\n",
      "east merger sub, inc. and\n",
      "wpx energy, inc. september 26, 2020\n",
      "________________\n",
      "table of contents page article i\n",
      "the merger\n",
      "section 1.1 merger of merger sub into east 2 section 1.2 effect of the merger 2 section 1.3 closing; effective time 2 section 1.4 certificate of incorporation and bylaws of the surviving corporation 2 section 1.5 directors and officers of the surviving corporation 3 section 1.6 \n",
      "\n",
      "\n",
      "\n",
      "--- document 3 ---\n",
      "\n",
      "filename: DSP_Group_Synaptics_Incorporated.txt\n",
      "path:     rag_legal/corpus/maud/DSP_Group_Synaptics_Incorporated.txt\n",
      "\n",
      "Metadata: {'source': 'rag_legal/corpus/maud/DSP_Group_Synaptics_Incorporated.txt', 'filename': 'DSP_Group_Synaptics_Incorporated.txt', 'relative_path': 'corpus/maud/DSP_Group_Synaptics_Incorporated.txt', 'file_path': 'rag_legal/corpus/maud/DSP_Group_Synaptics_Incorporated.txt'}\n",
      "\n",
      "content sample:\n",
      "exhibit 2.1 agreement and plan of merger\n",
      "by and among\n",
      "dsp group, inc.,\n",
      "synaptics incorporated,\n",
      "and\n",
      "osprey merger sub, inc.\n",
      "august 30, 2021\n",
      "________________\n",
      "table of contents page article 1 definitions 1 section 1.01 definitions 1 section 1.02 other definitional and interpretative provisions 16 article 2 the merger 17 section 2.01 the closing 17 section 2.02 the merger 17 section 2.03 conversion of shares 17 section 2.04 exchange and payment 18 section 2.05 dissenting shares 20 section 2.06 compa\n",
      "\n",
      "\n"
     ]
    }
   ],
   "source": [
    "# show first 3 samples\n",
    "for i, doc in enumerate(processed_documents[:3]):\n",
    "    print(f\"\\n--- document {i+1} ---\\n\")\n",
    "    print(f\"filename: {doc.metadata.get('filename', 'unknown')}\")\n",
    "    print(f\"path:     {doc.metadata.get('file_path', 'unknown')}\\n\")\n",
    "    print(f\"Metadata: {doc.metadata}\\n\")\n",
    "    print(\"content sample:\")\n",
    "    print(doc.page_content[:500])  # print first 500 chars of the cleaned content\n",
    "    print('\\n')\n"
   ]
  },
  {
   "cell_type": "markdown",
   "metadata": {},
   "source": [
    " ### **1.3 Exploratory Data Analysis**"
   ]
  },
  {
   "cell_type": "markdown",
   "metadata": {},
   "source": [
    "Before building the RAG pipeline, we perform EDA to understand the fundamental characteristics of our preprocessed corpus. This analysis helps us answer key questions: How long are the documents? What is the topical diversity? Are there clusters of similar documents? The answers will directly influence our chunking strategy and help set expectations for retrieval performance."
   ]
  },
  {
   "cell_type": "markdown",
   "metadata": {},
   "source": [
    " #### **1.3.1** \n",
    "\n",
    " Calculate the average, maximum and minimum document length."
   ]
  },
  {
   "cell_type": "code",
   "execution_count": 9,
   "metadata": {},
   "outputs": [
    {
     "name": "stdout",
     "output_type": "stream",
     "text": [
      "--- Document Length Statistics ---\n",
      "Total Documents: 698\n",
      "Average Length: 102447.15 characters\n",
      "Median Length: 37622.50 characters\n",
      "Maximum Length: 985629 characters\n",
      "Minimum Length: 1442 characters\n",
      "Standard Deviation: 131937.28 characters\n"
     ]
    },
    {
     "data": {
      "image/png": "[encoded data removed]",
      "text/plain": [
       "<Figure size 1200x600 with 1 Axes>"
      ]
     },
     "metadata": {},
     "output_type": "display_data"
    }
   ],
   "source": [
    "# calculate avg, max and min document length.\n",
    "def display_document_length_stats(docs):\n",
    "    \"\"\"\n",
    "    Calculates and displays statistics about document lengths and plots a histogram.\n",
    "    \"\"\"\n",
    "    if not docs:\n",
    "        print(\"No documents to analyze for length statistics.\")\n",
    "        return\n",
    "\n",
    "    doc_lengths = [len(doc.page_content) for doc in docs]\n",
    "    \n",
    "    avg_length = np.mean(doc_lengths)\n",
    "    max_length = np.max(doc_lengths)\n",
    "    min_length = np.min(doc_lengths)\n",
    "    median_length = np.median(doc_lengths)\n",
    "    std_dev_length = np.std(doc_lengths)\n",
    "    \n",
    "    print(\"--- Document Length Statistics ---\")\n",
    "    print(f\"Total Documents: {len(doc_lengths)}\")\n",
    "    print(f\"Average Length: {avg_length:.2f} characters\")\n",
    "    print(f\"Median Length: {median_length:.2f} characters\")\n",
    "    print(f\"Maximum Length: {max_length} characters\")\n",
    "    print(f\"Minimum Length: {min_length} characters\")\n",
    "    print(f\"Standard Deviation: {std_dev_length:.2f} characters\")\n",
    "    \n",
    "    # Plotting the distribution of document lengths\n",
    "    plt.figure(figsize=(12, 6))\n",
    "    sns.histplot(doc_lengths, bins=50, kde=True)\n",
    "    plt.title('Distribution of Document Lengths (Post-Preprocessing)')\n",
    "    plt.xlabel('Document Length (Number of Characters)')\n",
    "    plt.ylabel('Frequency')\n",
    "    plt.axvline(avg_length, color='r', linestyle='dashed', linewidth=1, label=f'Mean: {avg_length:.0f}')\n",
    "    plt.axvline(median_length, color='g', linestyle='dashed', linewidth=1, label=f'Median: {median_length:.0f}')\n",
    "    plt.legend()\n",
    "    plt.grid(axis='y', alpha=0.75)\n",
    "    plt.show()\n",
    "\n",
    "display_document_length_stats(processed_documents)"
   ]
  },
  {
   "cell_type": "markdown",
   "metadata": {},
   "source": [
    " #### **1.3.2**\n",
    "\n",
    " Analyse the frequency of occurrence of words and find the most and least occurring words."
   ]
  },
  {
   "cell_type": "markdown",
   "metadata": {},
   "source": [
    " Find the 20 most common and least common words in the text. Ignore stop words such as articles and prepositions."
   ]
  },
  {
   "cell_type": "code",
   "execution_count": 10,
   "metadata": {},
   "outputs": [],
   "source": [
    "# frequency of occurence of words\n",
    "def analyze_word_frequencies(docs: list[Document], top_n: int = 20):\n",
    "    \"\"\"\n",
    "    Analyzes word frequencies across all documents, excluding stop words.\n",
    "    Displays the most and least common words and plots their frequencies.\n",
    "    \"\"\"\n",
    "    if not docs:\n",
    "        print(\"No documents to analyze for word frequencies.\")\n",
    "        return\n",
    "\n",
    "    # NLTK stop words\n",
    "    stop_words = set(stopwords.words('english'))\n",
    "    \n",
    "    # custom stop words relevant to legal/general documents\n",
    "    custom_stop_words = {\n",
    "        'shall', 'may', 'agreement', 'company', 'party', 'parties', 'inc', 'corp', 'llc',\n",
    "        'contract', 'section', 'article', 'clause', 'exhibit', 'appendix', 'schedule',\n",
    "        'pursuant', 'hereto', 'herein', 'thereof', 'hereunder', 'including', 'com',\n",
    "        'www', 'http', 'https', 'also', 'therein', 'thereon', 'thereby', 'therefor',\n",
    "        'therefrom', 'notwithstanding', 'provided', 'however', 'unless', 'thereunder',\n",
    "        'information', 'confidential', 'services', 'date', 'term', 'year', 'time',\n",
    "        'defined', 'set', 'forth', 'terms', 'conditions', 'rights', 'obligations',\n",
    "        'notice', 'written', 'consent', 'law', 'laws', 'business', 'use', 'used',\n",
    "        'service', 'product', 'products', 'data', 'content', 'user', 'users',\n",
    "        'effective', 'date', 'title', 'page', 'contents', 'table', 'fig', 'figure'\n",
    "    }\n",
    "    stop_words.update(custom_stop_words)\n",
    "\n",
    "    all_words = []\n",
    "    print(\"Tokenizing and filtering words for frequency analysis...\")\n",
    "    for doc in tqdm(docs, desc=\"Processing documents for word frequency\"):\n",
    "        tokens = word_tokenize(doc.page_content)  # page_content is already lowercased\n",
    "        # filter for alphabetic words, not in stop_words, and length > 2\n",
    "        filtered_tokens = [\n",
    "            word for word in tokens \n",
    "            if word.isalpha() and word.lower() not in stop_words and len(word) > 2\n",
    "\n",
    "        ]\n",
    "        all_words.extend(filtered_tokens)\n",
    "\n",
    "    if not all_words:\n",
    "        print(\"No words found after filtering. Check stop word list or document content.\")\n",
    "        return\n",
    "\n",
    "    word_counts = Counter(all_words)\n",
    "    \n",
    "    most_common_words = word_counts.most_common(top_n)\n",
    "    # for least common, ensure we handle cases with fewer unique words than top_n\n",
    "    least_common_words = sorted(word_counts.items(), key=lambda item: item[1])[:top_n]\n",
    "\n",
    "    print(f\"\\n--- Top {top_n} Most Common Words (excluding stop words) ---\")\n",
    "    for word, count in most_common_words:\n",
    "        print(f\"{word}: {count}\")\n",
    "\n",
    "    print(f\"\\n--- Top {top_n} Least Common Words (excluding stop words, occurring at least once) ---\")\n",
    "    for word, count in least_common_words:\n",
    "        print(f\"{word}: {count}\")\n",
    "\n",
    "    # visualization\n",
    "    fig, axes = plt.subplots(2, 1, figsize=(12, 10))\n",
    "    \n",
    "    # Most common\n",
    "    words_mc, counts_mc = zip(*most_common_words)\n",
    "    axes[0].barh(list(words_mc)[::-1], list(counts_mc)[::-1], color='skyblue')\n",
    "    axes[0].set_title(f'Top {top_n} Most Common Words')\n",
    "    axes[0].set_xlabel('Frequency')\n",
    "    \n",
    "    # least common\n",
    "    words_lc, counts_lc = zip(*least_common_words)\n",
    "    axes[1].barh(list(words_lc), list(counts_lc), color='lightcoral') # No need to reverse for least common\n",
    "    axes[1].set_title(f'Top {top_n} Least Common Words (Min. 1 occurrence)')\n",
    "    axes[1].set_xlabel('Frequency')\n",
    "    \n",
    "    plt.tight_layout()\n",
    "    plt.show()\n"
   ]
  },
  {
   "cell_type": "code",
   "execution_count": 11,
   "metadata": {},
   "outputs": [
    {
     "name": "stdout",
     "output_type": "stream",
     "text": [
      "Tokenizing and filtering words for frequency analysis...\n"
     ]
    },
    {
     "name": "stderr",
     "output_type": "stream",
     "text": [
      "Processing documents for word frequency: 100%|██████████| 698/698 [00:23<00:00, 29.82it/s] \n"
     ]
    },
    {
     "name": "stdout",
     "output_type": "stream",
     "text": [
      "\n",
      "--- Top 20 Most Common Words (excluding stop words) ---\n",
      "parent: 60660\n",
      "material: 34216\n",
      "merger: 33852\n",
      "subsidiaries: 33320\n",
      "applicable: 31371\n",
      "respect: 28848\n",
      "stock: 26652\n",
      "prior: 23341\n",
      "shares: 22158\n",
      "required: 21252\n",
      "except: 20379\n",
      "effect: 20019\n",
      "person: 18658\n",
      "reasonably: 18658\n",
      "otherwise: 18380\n",
      "would: 18122\n",
      "subject: 17747\n",
      "termination: 15756\n",
      "made: 15415\n",
      "means: 15391\n",
      "\n",
      "--- Top 20 Least Common Words (excluding stop words, occurring at least once) ---\n",
      "victims: 1\n",
      "hypothec: 1\n",
      "instability: 1\n",
      "remodels: 1\n",
      "ppsa: 1\n",
      "shields: 1\n",
      "michener: 1\n",
      "sarah: 1\n",
      "centerville: 1\n",
      "wxp: 1\n",
      "bokf: 1\n",
      "convincingly: 1\n",
      "lacked: 1\n",
      "repeals: 1\n",
      "openness: 1\n",
      "persuasively: 1\n",
      "assertively: 1\n",
      "supportively: 1\n",
      "levelsare: 1\n",
      "prosper: 1\n"
     ]
    },
    {
     "data": {
      "image/png": "[encoded data removed]",
      "text/plain": [
       "<Figure size 1200x1000 with 2 Axes>"
      ]
     },
     "metadata": {},
     "output_type": "display_data"
    }
   ],
   "source": [
    "analyze_word_frequencies(processed_documents)"
   ]
  },
  {
   "cell_type": "markdown",
   "metadata": {},
   "source": [
    "#### **1.3.3 Document Similarity Analysis with TF-IDF**\n",
    "\n",
    "To gauge the topical diversity of the corpus, we analyze the similarity between documents. We use the **Term Frequency-Inverse Document Frequency (TF-IDF)** method to represent each document as a numerical vector based on word importance. Then, we calculate the **cosine similarity** between these vectors.\n",
    "\n",
    "A high similarity score (close to 1.0) indicates that two documents share significant terminology and are likely about similar topics. This analysis can reveal clusters of document types (e.g., all NDAs) or highlight highly unique documents. We perform this on both a sequential and a random sample to get a comprehensive view."
   ]
  },
  {
   "cell_type": "code",
   "execution_count": 12,
   "metadata": {},
   "outputs": [],
   "source": [
    "# transform the page contents of documents\n",
    "def analyze_document_similarity_tfidf(docs, indices = None, description = \"\"):\n",
    "    \"\"\"\n",
    "    Calculates and visualizes document similarity using TF-IDF and cosine similarity.\n",
    "    If indices is None, uses the first 10 documents. Otherwise, uses documents at specified indices.\n",
    "    \"\"\"\n",
    "    if not docs:\n",
    "        print(\"No documents to analyze for similarity.\")\n",
    "        return\n",
    "\n",
    "    if indices is None:\n",
    "        sample_docs = docs[:10]\n",
    "        doc_labels = [f\"Doc{i}_{d.metadata.get('filename', 'N/A')[:15]}\" for i, d in enumerate(sample_docs)]\n",
    "        title_desc = \"First 10 Documents\"\n",
    "    else:\n",
    "        if not all(0 <= idx < len(docs) for idx in indices):\n",
    "            print(\"Error: Provided indices are out of bounds.\")\n",
    "            return\n",
    "        sample_docs = [docs[i] for i in indices]\n",
    "        doc_labels = [f\"Doc{i}_{d.metadata.get('filename', 'N/A')[:15]}\" for i, d in enumerate(sample_docs)]\n",
    "        title_desc = description if description else f\"Documents at Indices: {indices}\"\n",
    "\n",
    "    if len(sample_docs) < 2:\n",
    "        print(f\"Not enough documents ({len(sample_docs)}) to compare for similarity in '{title_desc}'. Need at least 2.\")\n",
    "        return\n",
    "\n",
    "    print(f\"\\nAnalyzing TF-IDF similarity for: {title_desc}\")\n",
    "    \n",
    "    page_contents = [doc.page_content for doc in sample_docs]\n",
    "\n",
    "    # initialize TF-IDF Vectorizer\n",
    "    # using more features to capture more nuance, but can be tuned\n",
    "    vectorizer = TfidfVectorizer(stop_words='english', max_features=5000, min_df=2, max_df=0.95)\n",
    "    tfidf_matrix = vectorizer.fit_transform(page_contents)\n",
    "\n",
    "    # calculate Cosine Similarity\n",
    "    similarity_matrix = cosine_similarity(tfidf_matrix)\n",
    "\n",
    "    # plotting the similarity matrix\n",
    "    plt.figure(figsize=(10, 8))\n",
    "    sns.heatmap(similarity_matrix, annot=True, cmap=\"viridis\", fmt=\".2f\", \n",
    "                xticklabels=doc_labels, yticklabels=doc_labels)\n",
    "    plt.title(f'TF-IDF Document Similarity Matrix ({title_desc})')\n",
    "    plt.xticks(rotation=45, ha=\"right\")\n",
    "    plt.yticks(rotation=0)\n",
    "    plt.tight_layout()\n",
    "    plt.show()\n",
    "    "
   ]
  },
  {
   "cell_type": "code",
   "execution_count": 13,
   "metadata": {},
   "outputs": [
    {
     "name": "stdout",
     "output_type": "stream",
     "text": [
      "\n",
      "Analyzing TF-IDF similarity for: First 10 Documents\n"
     ]
    },
    {
     "data": {
      "image/png": "[encoded data removed]",
      "text/plain": [
       "<Figure size 1000x800 with 2 Axes>"
      ]
     },
     "metadata": {},
     "output_type": "display_data"
    }
   ],
   "source": [
    "# compute similarity scores for the first 10 documents\n",
    "analyze_document_similarity_tfidf(processed_documents, description=\"First 10 Documents\")"
   ]
  },
  {
   "cell_type": "markdown",
   "metadata": {},
   "source": [
    "**Observations for: TF-IDF Document Similarity Matrix (First 10 Documents)**\n",
    "\n",
    "*   A very strong cluster of high similarity persists among **Doc7 (Century Bancorp)**, **Doc8 (GP\\_Strategies\\_C)**, and **Doc9 (Virtusa Corpora)**, with scores consistently between **0.88 and 0.95**. This reaffirms they likely share substantial identical or near-identical legal text, common in series of related corporate or financial agreements.\n",
    "*   Moderate similarity is noted between **Doc0 (Groupon.txt)** and **Doc1 (fiverr.txt)** at **0.55**, and also between **Doc2 (Keep.txt)** and **Doc6 (Viber Messenger)** at **0.41**. These pairings suggest shared terminology or clauses common in online service agreements, privacy policies, or general tech-related contracts.\n",
    "*   The documents outside the main Doc7-9 cluster (i.e., Docs 0-6) generally exhibit low similarity scores (many below 0.30) with each other and very low similarity (around 0.10) with the Doc7-9 cluster, indicating significant lexical diversity in this initial sequential sample.\n",
    "*   The diagonal shows perfect self-similarity (1.00), and the matrix is symmetrical, as expected for cosine similarity."
   ]
  },
  {
   "cell_type": "code",
   "execution_count": 14,
   "metadata": {},
   "outputs": [
    {
     "name": "stdout",
     "output_type": "stream",
     "text": [
      "\n",
      "Selected random indices: [303, 375, 130, 99, 455, 234, 342, 637, 194, 521]\n",
      "\n",
      "Analyzing TF-IDF similarity for: 10 Randomly Selected Documents\n"
     ]
    },
    {
     "data": {
      "image/png": "[encoded data removed]",
      "text/plain": [
       "<Figure size 1000x800 with 2 Axes>"
      ]
     },
     "metadata": {},
     "output_type": "display_data"
    }
   ],
   "source": [
    "# create a list of 10 random integers\n",
    "num_random_docs = 10\n",
    "if len(processed_documents) >= num_random_docs: # Use processed_documents\n",
    "    random_indices = random.sample(range(len(processed_documents)), num_random_docs) # Use processed_documents\n",
    "    print(f\"\\nSelected random indices: {random_indices}\")\n",
    "    # Compute similarity scores for 10 random documents\n",
    "    analyze_document_similarity_tfidf(processed_documents, indices=random_indices, description=\"10 Randomly Selected Documents\")\n",
    "else:\n",
    "    print(f\"\\nNot enough documents ({len(processed_documents)}) to select {num_random_docs} random ones. Skipping random similarity analysis.\")"
   ]
  },
  {
   "cell_type": "markdown",
   "metadata": {},
   "source": [
    "**Observations for: TF-IDF Document Similarity Matrix (10 Randomly Selected Documents)**\n",
    "\n",
    "*   This random sample shows a more dispersed similarity pattern compared to the first 10 documents. The highest off-diagonal similarity is between **Doc1 (KIROMICBIOPHARM)** and **Doc3 (GLOBALTECHNOLOG)** at **0.79**, suggesting these two randomly selected documents might come from a similar industry (e.g., biotech/pharma with technology aspects) or deal with similar contractual frameworks.\n",
    "*   **Doc0 (Vine\\_Energy\\_Inc)** and **Doc4 (Select\\_Bancorp\\_)** show a moderate similarity of **0.53**. Other moderate pairings include **Doc2 (OMINTO,INC\\_03\\_2)** with **Doc9 (BravatekSolutio)** at **0.43**. These suggest some shared vocabulary or themes, possibly related to corporate structure or specific types of agreements within their respective sectors.\n",
    "*   Many document pairs exhibit very low similarity scores (numerous values below 0.20, e.g., **Doc6 (LUCIDINC\\_04\\_15\\_)** with most others), highlighting the broad topical and lexical diversity present across the entire corpus when documents are selected randomly.\n",
    "*   Unlike the first plot, there isn't one dominant, very tight cluster, but rather a few moderate connections, reinforcing the idea that while specific similar document types exist, the overall corpus is varied."
   ]
  },
  {
   "cell_type": "markdown",
   "metadata": {},
   "source": [
    " ### **1.4 Document Creation and Chunking** "
   ]
  },
  {
   "cell_type": "markdown",
   "metadata": {},
   "source": [
    "The performance of a RAG system is highly dependent on how the source documents are split into smaller pieces, or \"chunks.\" Each chunk will be embedded and retrieved individually. The goal is to create chunks that are small enough to fit into the model's context window but large enough to contain meaningful, coherent information."
   ]
  },
  {
   "cell_type": "markdown",
   "metadata": {},
   "source": [
    "#### **1.4.1 Implementing a Recursive Chunking Strategy**\n",
    "\n",
    "We use LangChain's `RecursiveCharacterTextSplitter`, which is a robust method for chunking. It attempts to split text based on a prioritized list of separators. We provide a custom list of separators common in legal documents (e.g., \"ARTICLE I.\", \"Section 1.\", \"\\n\\n\") to create more semantically coherent chunks that respect the document's structure. We then analyze the distribution of chunk lengths to confirm our strategy is effective."
   ]
  },
  {
   "cell_type": "code",
   "execution_count": 15,
   "metadata": {},
   "outputs": [],
   "source": [
    "import re\n",
    "import numpy as np\n",
    "import pandas as pd\n",
    "import matplotlib.pyplot as plt\n",
    "import seaborn as sns\n",
    "from langchain.text_splitter import RecursiveCharacterTextSplitter\n",
    "from langchain.docstore.document import Document\n",
    "from tqdm import tqdm\n",
    "\n",
    "\n",
    "def create_document_chunks(processed_docs,\n",
    "                           chunk_size = 1200,\n",
    "                           chunk_overlap = 250,\n",
    "                           min_chunk_char_length = 50,\n",
    "                           verbose = False):\n",
    "    \"\"\"\n",
    "    splits documents into smaller, overlapping chunks using RecursiveCharacterTextSplitter.\n",
    "    assumes documents have already been adequately cleaned by clean_document_text.\n",
    "    retains metadata from the original document for each chunk.\n",
    "    \"\"\"\n",
    "    if not processed_docs:\n",
    "        print(\"No documents provided for chunking.\")\n",
    "        return []\n",
    "\n",
    "    # define separators\n",
    "    legal_separators = [\n",
    "        \"\\n\\nARTICLE I.\", \"\\n\\nARTICLE II.\", \"\\n\\nARTICLE III.\", \n",
    "        \"\\n\\nSection 1.\", \"\\n\\nSection 2.\", \"\\n\\nSection 1.1.\", \n",
    "        \"\\n\\nEXHIBIT A:\", \"\\n\\nEXHIBIT B:\", \n",
    "        \"\\n\\nAPPENDIX 1:\", \"\\n\\nAPPENDIX A:\",\n",
    "        \"\\n\\nRECITALS:\", \"\\nRECITALS:\",\n",
    "        \"\\n\\nWHEREAS,\", \"\\nWHEREAS,\",\n",
    "        \"\\n\\nNOW, THEREFORE,\", \"\\nNOW, THEREFORE,\",\n",
    "        \"\\n\\nIT IS HEREBY AGREED AS FOLLOWS:\",\n",
    "        \"\\n\\nIN WITNESS WHEREOF,\",\n",
    "        \"\\n1.\", \"\\n2.\", \"\\n(a)\", \"\\n(b)\", \"\\n(i)\", \"\\n(ii)\",\n",
    "        \"\\n\\n\\n\", \"\\n\\n\", \"\\n\",\n",
    "        \". \", \".\\n\", \"? \", \"!\\n\",\n",
    "        \" \", \"\"\n",
    "    ]\n",
    "\n",
    "    text_splitter = RecursiveCharacterTextSplitter(\n",
    "        chunk_size=chunk_size,\n",
    "        chunk_overlap=chunk_overlap,\n",
    "        length_function=len,\n",
    "        separators=legal_separators,\n",
    "        is_separator_regex=False,\n",
    "        keep_separator=False\n",
    "    )\n",
    "\n",
    "    all_chunks = []\n",
    "    print(f\"Starting chunking for {len(processed_docs)} documents with chunk_size={chunk_size}, chunk_overlap={chunk_overlap}...\")\n",
    "\n",
    "    for doc_idx, doc in enumerate(tqdm(processed_docs, desc=\"Chunking documents\")):\n",
    "        # The content from processed_docs is already cleaned by clean_document_text\n",
    "        content_for_splitting = doc.page_content \n",
    "\n",
    "        if not content_for_splitting.strip(): # Check if content is empty after main cleaning\n",
    "            if verbose: print(f\"Skipping document {doc.metadata.get('filename', 'N/A')} as its content is empty.\")\n",
    "            continue\n",
    "\n",
    "        # create a Document object to pass to the splitter, preserving original metadata.\n",
    "        # no need for temp_doc_for_splitting if doc itself is the right input type and content.\n",
    "        # splitter's split_documents method takes a list of Document objects.\n",
    "        \n",
    "        try:\n",
    "            # Pass the original doc (which has the cleaned page_content) directly\n",
    "            # The splitter will operate on doc.page_content and copy metadata.\n",
    "            chunks_from_doc = text_splitter.split_documents([doc]) \n",
    "        except Exception as e:\n",
    "            print(f\"Error splitting document {doc.metadata.get('filename', 'N/A')}: {e}\")\n",
    "            continue\n",
    "            \n",
    "        for chunk_idx, chunk in enumerate(chunks_from_doc):\n",
    "            chunk_content = chunk.page_content.strip() \n",
    "\n",
    "            if len(chunk_content) < min_chunk_char_length or len(chunk_content.split()) < 5:\n",
    "                if verbose: print(f\"Skipping short chunk from {chunk.metadata.get('filename', 'N/A')}: '{chunk_content[:50]}...'\")\n",
    "                continue\n",
    "            \n",
    "            # Metadata from the original 'doc' should be automatically copied to each 'chunk'\n",
    "            chunk.metadata['filename'] = doc.metadata.get('filename', 'Unknown') # Ensure filename consistency\n",
    "            chunk.metadata['chunk_number'] = chunk_idx + 1\n",
    "            chunk.metadata['total_chunks_in_doc'] = len(chunks_from_doc)\n",
    "            # 'relative_path' and 'file_path' should already be in chunk.metadata if they were in doc.metadata\n",
    "\n",
    "            all_chunks.append(chunk)\n",
    "\n",
    "    if not all_chunks:\n",
    "        print(\"No chunks were generated. Check documents, cleaning, and splitter settings.\")\n",
    "        return []\n",
    "\n",
    "    print(f\"\\nSuccessfully generated {len(all_chunks)} chunks from {len(processed_docs)} documents.\")\n",
    "\n",
    "    # Analyze chunk lengths\n",
    "    chunk_lengths = [len(chunk.page_content) for chunk in all_chunks]\n",
    "    if chunk_lengths: # Ensure not empty before calculating stats\n",
    "        print(f\"Average chunk length: {np.mean(chunk_lengths):.2f} characters\")\n",
    "        print(f\"Median chunk length: {np.median(chunk_lengths):.2f} characters\")\n",
    "        print(f\"Min chunk length: {np.min(chunk_lengths)} characters\")\n",
    "        print(f\"Max chunk length: {np.max(chunk_lengths)} characters\")\n",
    "\n",
    "        plt.figure(figsize=(12, 6))\n",
    "        sns.histplot(chunk_lengths, bins=50, kde=True)\n",
    "        plt.title('Distribution of Chunk Lengths')\n",
    "        plt.xlabel('Chunk Length (Number of Characters)')\n",
    "        plt.ylabel('Frequency')\n",
    "        if chunk_lengths: \n",
    "             mean_val = np.mean(chunk_lengths)\n",
    "             median_val = np.median(chunk_lengths)\n",
    "             plt.axvline(mean_val, color='r', linestyle='dashed', linewidth=1, label=f'Mean: {mean_val:.0f}')\n",
    "             plt.axvline(median_val, color='g', linestyle='dashed', linewidth=1, label=f'Median: {median_val:.0f}')\n",
    "        plt.legend()\n",
    "        plt.grid(axis='y', alpha=0.75)\n",
    "        plt.show()\n",
    "    else:\n",
    "        print(\"No valid chunks to analyze for length statistics.\")\n",
    "        \n",
    "    return all_chunks\n"
   ]
  },
  {
   "cell_type": "code",
   "execution_count": 16,
   "metadata": {},
   "outputs": [
    {
     "name": "stdout",
     "output_type": "stream",
     "text": [
      "Starting chunking for 698 documents with chunk_size=1200, chunk_overlap=250...\n"
     ]
    },
    {
     "name": "stderr",
     "output_type": "stream",
     "text": [
      "Chunking documents: 100%|██████████| 698/698 [00:02<00:00, 270.97it/s]\n"
     ]
    },
    {
     "name": "stdout",
     "output_type": "stream",
     "text": [
      "\n",
      "Successfully generated 90230 chunks from 698 documents.\n",
      "Average chunk length: 841.84 characters\n",
      "Median chunk length: 927.00 characters\n",
      "Min chunk length: 50 characters\n",
      "Max chunk length: 1200 characters\n"
     ]
    },
    {
     "data": {
      "image/png": "[encoded data removed]",
      "text/plain": [
       "<Figure size 1200x600 with 1 Axes>"
      ]
     },
     "metadata": {},
     "output_type": "display_data"
    },
    {
     "name": "stdout",
     "output_type": "stream",
     "text": [
      "\n",
      "Sample of generated chunks (first 3 from the new list):\n",
      "--- Chunk 1 ---\n",
      "Content (first 100 chars): exhibit 2.1 execution version agreement and plan of merger dated as of march 2, 2021 among the micha...\n",
      "Metadata: {'source': 'rag_legal/corpus/maud/The Michaels Companies, Inc._Apollo Global Management, LLC.txt', 'filename': 'The Michaels Companies, Inc._Apollo Global Management, LLC.txt', 'relative_path': 'corpus/maud/The Michaels Companies, Inc._Apollo Global Management, LLC.txt', 'file_path': 'rag_legal/corpus/maud/The Michaels Companies, Inc._Apollo Global Management, LLC.txt', 'chunk_number': 1, 'total_chunks_in_doc': 521}\n",
      "--- Chunk 2 ---\n",
      "Content (first 100 chars): table of contents page article 1 definitions 2 section 1.01. definitions 2 article 2 the offer and t...\n",
      "Metadata: {'source': 'rag_legal/corpus/maud/The Michaels Companies, Inc._Apollo Global Management, LLC.txt', 'filename': 'The Michaels Companies, Inc._Apollo Global Management, LLC.txt', 'relative_path': 'corpus/maud/The Michaels Companies, Inc._Apollo Global Management, LLC.txt', 'file_path': 'rag_legal/corpus/maud/The Michaels Companies, Inc._Apollo Global Management, LLC.txt', 'chunk_number': 2, 'total_chunks_in_doc': 521}\n",
      "--- Chunk 3 ---\n",
      "Content (first 100 chars): disclosure documents 34 section 4.10. absence of certain changes 35 section 4.11. no undisclosed mat...\n",
      "Metadata: {'source': 'rag_legal/corpus/maud/The Michaels Companies, Inc._Apollo Global Management, LLC.txt', 'filename': 'The Michaels Companies, Inc._Apollo Global Management, LLC.txt', 'relative_path': 'corpus/maud/The Michaels Companies, Inc._Apollo Global Management, LLC.txt', 'file_path': 'rag_legal/corpus/maud/The Michaels Companies, Inc._Apollo Global Management, LLC.txt', 'chunk_number': 3, 'total_chunks_in_doc': 521}\n"
     ]
    }
   ],
   "source": [
    "document_chunks = create_document_chunks(\n",
    "    processed_documents, \n",
    "    chunk_size=1200,\n",
    "    chunk_overlap=250,\n",
    "    min_chunk_char_length=50,\n",
    "    verbose=False # set to True for more detailed o/p\n",
    ")\n",
    "\n",
    "# display a few chunks to verify\n",
    "if document_chunks:\n",
    "    print(f\"\\nSample of generated chunks (first 3 from the new list):\")\n",
    "    for i, chunk in enumerate(document_chunks[:3]):\n",
    "        print(f\"--- Chunk {i+1} ---\")\n",
    "        print(f\"Content (first 100 chars): {chunk.page_content[:100].strip()}...\")\n",
    "        print(f\"Metadata: {chunk.metadata}\")\n",
    "else:\n",
    "    print(\"No chunks were generated by the new function.\")"
   ]
  },
  {
   "cell_type": "markdown",
   "metadata": {},
   "source": [
    " ## **2. Vector Database and RAG Chain Creation**"
   ]
  },
  {
   "cell_type": "markdown",
   "metadata": {},
   "source": [
    "With our data prepared and chunked, we now build the core components of the RAG pipeline. This involves two main steps:\n",
    "1.  **Embedding and Storage:** Converting our text chunks into numerical vectors (embeddings) and storing them in a specialized **Vector Database** for fast and efficient similarity searches.\n",
    "2.  **Chain Creation:** Building the logic that orchestrates the retrieval of relevant chunks and the generation of a final answer by a Large Language Model (LLM)."
   ]
  },
  {
   "cell_type": "markdown",
   "metadata": {},
   "source": [
    " ### **2.1 Vector Embedding and Vector Database Creation**"
   ]
  },
  {
   "cell_type": "markdown",
   "metadata": {},
   "source": [
    "#### **2.1.1 Initializing the Embedding Model**\n",
    "\n",
    "We use OpenAI's `text-embedding-3-small` model to convert our text chunks into vector embeddings. This model provides a strong balance of high performance and computational efficiency, making it an excellent choice for creating the semantic representations needed for our retriever."
   ]
  },
  {
   "cell_type": "markdown",
   "metadata": {},
   "source": [
    " Initialise a function to transform the text to vectors using OPENAI Embeddings module. You can also use this function to transform during vector DB creation itself."
   ]
  },
  {
   "cell_type": "code",
   "execution_count": 17,
   "metadata": {},
   "outputs": [
    {
     "name": "stdout",
     "output_type": "stream",
     "text": [
      "OpenAI API Key found.\n"
     ]
    }
   ],
   "source": [
    "openai_api_key = os.getenv(\"OPENAI_API_KEY\")\n",
    "if not openai_api_key:\n",
    "    print(\"OpenAI API Key not found in environment variables.\")\n",
    "    print(\"Please set the OPENAI_API_KEY environment variable for embedding and LLM functionalities.\")\n",
    "    # You might want to raise an error or use a fallback embedding model if no key is found.\n",
    "    # For this assignment, we'll proceed, but embedding/LLM steps will fail.\n",
    "else:\n",
    "    print(\"OpenAI API Key found.\")"
   ]
  },
  {
   "cell_type": "code",
   "execution_count": 18,
   "metadata": {},
   "outputs": [],
   "source": [
    "# initialise an embedding function\n",
    "def get_openai_embeddings(api_key):\n",
    "    \"\"\"\n",
    "    Initializes and returns an OpenAIEmbeddings object.\n",
    "    Uses the \"text-embedding-3-small\" model by default.\n",
    "    \"\"\"\n",
    "    if not api_key:\n",
    "        print(\"Cannot initialize OpenAI embeddings without an API key.\")\n",
    "        return None\n",
    "    \n",
    "    try:\n",
    "        embeddings_model = OpenAIEmbeddings(\n",
    "            openai_api_key=api_key,\n",
    "            model=\"text-embedding-3-small\"  # Recommended for balance of performance and cost\n",
    "        )\n",
    "        print(f\"OpenAIEmbeddings initialized successfully with model: {embeddings_model.model}\")\n",
    "        return embeddings_model\n",
    "    except Exception as e:\n",
    "        print(f\"Error initializing OpenAIEmbeddings: {e}\")\n",
    "        return None"
   ]
  },
  {
   "cell_type": "code",
   "execution_count": 19,
   "metadata": {},
   "outputs": [
    {
     "name": "stdout",
     "output_type": "stream",
     "text": [
      "OpenAIEmbeddings initialized successfully with model: text-embedding-3-small\n"
     ]
    }
   ],
   "source": [
    "# initialize the embedding function\n",
    "embeddings_function = get_openai_embeddings(openai_api_key)"
   ]
  },
  {
   "cell_type": "markdown",
   "metadata": {},
   "source": [
    "#### **2.1.2 Creating the ChromaDB Vector Store**\n",
    "\n",
    "The generated embeddings are loaded into a **ChromaDB** vector store. Chroma is a vector database that allows us to persist the embeddings locally. This is highly efficient for development, as it enables us to create the database once and simply load it for subsequent experiments without the need for repeated, costly embedding computations."
   ]
  },
  {
   "cell_type": "markdown",
   "metadata": {},
   "source": [
    " Create a directory for vector database and enter embedding data to the vector DB."
   ]
  },
  {
   "cell_type": "code",
   "execution_count": 20,
   "metadata": {},
   "outputs": [],
   "source": [
    "import shutil\n",
    "from pathlib import Path\n",
    "from langchain_chroma import Chroma\n",
    "from langchain.schema import Document  # optional, for type clarity\n",
    "\n",
    "# updated function with load/create toggle\n",
    "def create_or_load_chroma_db(chunks, \n",
    "                              embedding_func, \n",
    "                              db_path = \"./rag_vector_db_chroma\", \n",
    "                              load_existing = True):\n",
    "    \"\"\"\n",
    "    loads existing Chroma vector db if available and load_existing=True.\n",
    "    else deletes existing db (if any) and creates a new one using the provided chunks.\n",
    "    \"\"\"\n",
    "    if not embedding_func:\n",
    "        print(\"embedding function not provided.\")\n",
    "        return None\n",
    "\n",
    "    db_exists = Path(db_path).exists()\n",
    "\n",
    "    # if user wants to load existing db\n",
    "    if db_exists and load_existing:\n",
    "        print(f\"loading existing vector db from: {db_path}\")\n",
    "        try:\n",
    "            vector_db = Chroma(persist_directory=db_path, embedding_function=embedding_func)\n",
    "            print(\"loaded existing vector db.\")\n",
    "            return vector_db\n",
    "        except Exception as e:\n",
    "            print(f\"error loading vector db: {e}\")\n",
    "            return None\n",
    "\n",
    "    # if user wants to recreate or no db exists\n",
    "    if db_exists:\n",
    "        print(f\"deleting existing vector db at: {db_path}\")\n",
    "        try:\n",
    "            shutil.rmtree(db_path)\n",
    "            print(\"successfully deleted existing db.\")\n",
    "        except Exception as e:\n",
    "            print(f\"error deleting db: {e}\")\n",
    "            return None\n",
    "\n",
    "    if not chunks:\n",
    "        print(\"no chunks provided to create a new db.\")\n",
    "        return None\n",
    "\n",
    "    print(f\"creating new vector db at: {db_path}\")\n",
    "    try:\n",
    "        vector_db = Chroma.from_documents(\n",
    "            documents=chunks,\n",
    "            embedding=embedding_func,\n",
    "            persist_directory=db_path\n",
    "        )\n",
    "        vector_db.persist()\n",
    "        print(f\"created vector db with {len(chunks)} chunks.\")\n",
    "        return vector_db\n",
    "    except Exception as e:\n",
    "        print(f\"error creating vector db: {e}\")\n",
    "        return None\n"
   ]
  },
  {
   "cell_type": "markdown",
   "metadata": {},
   "source": [
    "#### Choose between existing vector db or creating new"
   ]
  },
  {
   "cell_type": "code",
   "execution_count": 21,
   "metadata": {},
   "outputs": [
    {
     "name": "stdout",
     "output_type": "stream",
     "text": [
      "loading existing vector db from: ./rag_vector_db_chroma\n",
      "loaded existing vector db.\n"
     ]
    }
   ],
   "source": [
    "# True to load existing, False to delete and create new\n",
    "use_existing_db = True\n",
    "\n",
    "# define path for the persistent vector database\n",
    "vector_db_directory = \"./rag_vector_db_chroma\"\n",
    "\n",
    "# create or load the vector database\n",
    "if document_chunks and embeddings_function:\n",
    "    vector_database = create_or_load_chroma_db(\n",
    "        chunks=document_chunks,\n",
    "        embedding_func=embeddings_function,\n",
    "        db_path=vector_db_directory,\n",
    "        load_existing=use_existing_db\n",
    "    )\n",
    "else:\n",
    "    print(\"skipping vector database creation due to missing chunks or embedding function.\")\n",
    "    vector_database = None"
   ]
  },
  {
   "cell_type": "markdown",
   "metadata": {},
   "source": [
    " ### **2.2 Create RAG Chain**"
   ]
  },
  {
   "cell_type": "markdown",
   "metadata": {},
   "source": [
    "#### **2.2.1 Building the `RetrievalQA` Chain**\n",
    "\n",
    "We construct the RAG pipeline using LangChain's `RetrievalQA` chain. This chain seamlessly integrates the key components:\n",
    "*   **Retriever:** This is built directly from our ChromaDB vector store. Its job is to find and return the most relevant document chunks based on the user's query.\n",
    "*   **Language Model (LLM):** We use an OpenAI model (e.g., `gpt-4.1-mini`) as the \"brain\" of our system to synthesize the information from the retrieved chunks and generate a human-readable answer.\n",
    "*   **Custom Prompt:** We design a specific prompt template to guide the LLM's behavior, instructing it to act as a legal AI assistant, base its answers strictly on the provided context, and cite its sources.\n",
    "*   **Chain Type (\"stuff\"):** This method involves \"stuffing\" all retrieved chunks into a single context window for the LLM. It is straightforward and effective when the retrieved context is not excessively long."
   ]
  },
  {
   "cell_type": "code",
   "execution_count": 22,
   "metadata": {},
   "outputs": [
    {
     "name": "stdout",
     "output_type": "stream",
     "text": [
      "Attempting to use LLM model: gpt-4.1-mini\n",
      "Initializing RAG chain...\n",
      "LLM initialized with model: gpt-4.1-mini\n",
      "Retriever initialized with k=3 and search_type='similarity'\n",
      "RAG chain (RetrievalQA) created successfully with custom prompt.\n"
     ]
    }
   ],
   "source": [
    "from langchain.prompts import PromptTemplate\n",
    "\n",
    "# create a RAG chain\n",
    "def initialize_rag_chain(db, llm_api_key, k_retriever = 5, \n",
    "                         llm_model_name = \"gpt-4.1-mini\"):\n",
    "    \"\"\"\n",
    "    Initializes a RetrievalQA chain using a Chroma vector database as a retriever\n",
    "    and an OpenAI Chat model as the language model, with a custom prompt.\n",
    "    \"\"\"\n",
    "    if not db:\n",
    "        print(\"Vector database not provided. Cannot create RAG chain.\")\n",
    "        return None\n",
    "    if not llm_api_key:\n",
    "        print(\"OpenAI API key not provided for LLM. Cannot create RAG chain.\")\n",
    "        return None\n",
    "\n",
    "    print(\"Initializing RAG chain...\")\n",
    "    \n",
    "    try:\n",
    "        # Use the passed llm_model_name or a default\n",
    "        llm = ChatOpenAI(model_name=llm_model_name, openai_api_key=llm_api_key, temperature=0.1)\n",
    "        print(f\"LLM initialized with model: {llm.model_name}\")\n",
    "    except Exception as e:\n",
    "        print(f\"Error initializing LLM: {e}. Check API key and model name ('{llm_model_name}').\")\n",
    "        return None\n",
    "\n",
    "    try:\n",
    "        retriever = db.as_retriever(\n",
    "            search_type=\"similarity\",\n",
    "            search_kwargs={'k': k_retriever} \n",
    "        )\n",
    "        print(f\"Retriever initialized with k={k_retriever} and search_type='similarity'\")\n",
    "    except Exception as e:\n",
    "        print(f\"Error initializing retriever: {e}\")\n",
    "        return None\n",
    "\n",
    "    # Custom Prompt Template for Legal Documents\n",
    "    prompt_template = \"\"\"\n",
    "    You are an AI assistant specialized in analyzing legal documents.\n",
    "    Use the following pieces of context to answer the question at the end.\n",
    "    If you don't know the answer from the context provided, just say that you don't know, do not try to make up an answer.\n",
    "    If the answer is found, be concise and directly address the question based on the information in the context.\n",
    "    Try to quote or refer to specific phrases from the context if they directly answer the question.\n",
    "\n",
    "    Context:\n",
    "    {context}\n",
    "\n",
    "    Question: {question}\n",
    "\n",
    "    Helpful Answer:\n",
    "    \"\"\"\n",
    "    QA_CHAIN_PROMPT = PromptTemplate.from_template(prompt_template)\n",
    "\n",
    "    try:\n",
    "        rag_qa_chain = RetrievalQA.from_chain_type(\n",
    "            llm=llm,\n",
    "            chain_type=\"stuff\",\n",
    "            retriever=retriever,\n",
    "            return_source_documents=True,\n",
    "            chain_type_kwargs={\"prompt\": QA_CHAIN_PROMPT} # custom prompt\n",
    "        )\n",
    "        print(\"RAG chain (RetrievalQA) created successfully with custom prompt.\")\n",
    "        return rag_qa_chain\n",
    "    except Exception as e:\n",
    "        print(f\"Error creating RAG chain: {e}\")\n",
    "        return None\n",
    "\n",
    "# Initialize the RAG chain\n",
    "if vector_database and openai_api_key:\n",
    "    chosen_llm_model = \"gpt-4.1-mini\"\n",
    "    print(f\"Attempting to use LLM model: {chosen_llm_model}\")\n",
    "    \n",
    "    rag_chain_instance = initialize_rag_chain(\n",
    "        db=vector_database, \n",
    "        llm_api_key=openai_api_key, \n",
    "        k_retriever=3,\n",
    "        llm_model_name=chosen_llm_model \n",
    "    )\n",
    "else:\n",
    "    print(\"Skipping RAG chain creation due to missing vector database or API key.\")\n",
    "    rag_chain_instance = None"
   ]
  },
  {
   "cell_type": "markdown",
   "metadata": {},
   "source": [
    "#### **2.2.2 Creating the Query-Answering Function**\n",
    "\n",
    "To make the RAG chain easily usable, we wrap it in a simple function. This function takes a user's query, passes it to the chain, and neatly formats the output by separating the generated answer from the list of source documents that were used to create it. This provides the crucial element of traceability and allows users to verify the information."
   ]
  },
  {
   "cell_type": "markdown",
   "metadata": {},
   "source": [
    " Use the RAG chain to generate answer for a question and provide source documents"
   ]
  },
  {
   "cell_type": "code",
   "execution_count": 23,
   "metadata": {},
   "outputs": [],
   "source": [
    "# question answering\n",
    "def get_answer_from_rag(chain, query):\n",
    "    \"\"\"\n",
    "    Gets an answer and source documents for a given query using the RAG chain.\n",
    "    \"\"\"\n",
    "    if not chain:\n",
    "        print(\"RAG chain is not available. Cannot process query.\")\n",
    "        return None, None\n",
    "    \n",
    "    print(f\"\\nProcessing query: \\\"{query}\\\"\")\n",
    "    try:\n",
    "        response = chain.invoke({\"query\": query}) \n",
    "        \n",
    "        answer = response.get(\"result\", \"No answer generated.\")\n",
    "        source_documents = response.get(\"source_documents\", [])\n",
    "        \n",
    "        print(f\"\\nGenerated Answer:\\n{answer}\")\n",
    "        \n",
    "        if source_documents:\n",
    "            print(f\"\\nSource Documents ({len(source_documents)} retrieved):\")\n",
    "            for i, doc_source in enumerate(source_documents):\n",
    "                print(f\"  --- Source {i+1} ---\")\n",
    "                # Use the 'filename' key that Langchain natively carries\n",
    "                print(f\"  Filename: {doc_source.metadata.get('filename', 'N/A')}\")\n",
    "                # Use 'relative_path' for directory information\n",
    "                print(f\"  Directory: {doc_source.metadata.get('relative_path', 'N/A')}\")\n",
    "                print(f\"  Chunk Num: {doc_source.metadata.get('chunk_number', 'N/A')}\")\n",
    "\n",
    "        else:\n",
    "            print(\"  No source documents were returned.\")\n",
    "            \n",
    "        return answer, source_documents\n",
    "    except Exception as e:\n",
    "        print(f\"Error during RAG chain invocation for query '{query}': {e}\")\n",
    "        return f\"Error processing query: {e}\", []\n",
    "\n"
   ]
  },
  {
   "cell_type": "code",
   "execution_count": 24,
   "metadata": {},
   "outputs": [
    {
     "name": "stdout",
     "output_type": "stream",
     "text": [
      "\n",
      "Processing query: \"What does an NDA usually entail?\"\n",
      "\n",
      "Generated Answer:\n",
      "An NDA (Non-Disclosure Agreement) usually entails that the parties agree to keep certain non-public, confidential, or proprietary information shared between them confidential. For example, the provided context states that the recipient \"desires to receive certain information from the disclosing party that is non-public, confidential, or proprietary in nature,\" and both parties agree to be bound by \"all of the protective terms and conditions of the nda\" during the term of the agreement and for a specified period thereafter (e.g., five years). This typically includes mutual covenants to protect such information from unauthorized use or disclosure.\n",
      "\n",
      "Source Documents (3 retrieved):\n",
      "  --- Source 1 ---\n",
      "  Filename: Standard_20NDA_20by_20Axial.txt\n",
      "  Directory: corpus/contractnli/Standard_20NDA_20by_20Axial.txt\n",
      "  Chunk Num: 1\n",
      "  --- Source 2 ---\n",
      "  Filename: NDA-M5-Systems.txt\n",
      "  Directory: corpus/contractnli/NDA-M5-Systems.txt\n",
      "  Chunk Num: 1\n",
      "  --- Source 3 ---\n",
      "  Filename: HfEnterprisesInc_20191223_S-1_EX-10.22_11931299_EX-10.22_Development Agreement.txt\n",
      "  Directory: corpus/cuad/HfEnterprisesInc_20191223_S-1_EX-10.22_11931299_EX-10.22_Development Agreement.txt\n",
      "  Chunk Num: 11\n"
     ]
    }
   ],
   "source": [
    "# example query\n",
    "if rag_chain_instance:\n",
    "    example_query = \"What does an NDA usually entail?\"\n",
    "    generated_answer, source_docs = get_answer_from_rag(rag_chain_instance, example_query)\n",
    "else:\n",
    "    print(\"RAG chain not initialized. Cannot run example query.\")"
   ]
  },
  {
   "cell_type": "markdown",
   "metadata": {},
   "source": [
    " ## **3. RAG Evaluation**"
   ]
  },
  {
   "cell_type": "markdown",
   "metadata": {},
   "source": [
    "Evaluation is the most critical phase for understanding the quality and reliability of our RAG system. A simple accuracy score is insufficient. Instead, we employ a multi-faceted evaluation strategy using a benchmark dataset. This allows us to measure performance from different angles, including the relevance of retrieved content and the quality of the final generated answer."
   ]
  },
  {
   "cell_type": "markdown",
   "metadata": {},
   "source": [
    " ### **3.1 Evaluation and Inference**"
   ]
  },
  {
   "cell_type": "markdown",
   "metadata": {},
   "source": [
    " #### **3.1.1**\n",
    "\n",
    " Extract all the questions and all the answers/ground truths from the benchmark files."
   ]
  },
  {
   "cell_type": "markdown",
   "metadata": {},
   "source": [
    " Create a questions set and an answers set containing all the questions and answers from the benchmark files to run evaluations."
   ]
  },
  {
   "cell_type": "code",
   "execution_count": 25,
   "metadata": {},
   "outputs": [],
   "source": [
    "# create question set from all the questions from the benchmark data\n",
    "# create ground truth/answer set\n",
    "def load_benchmark_qna(benchmark_dir_path = \"benchmark\"):\n",
    "    \"\"\"\n",
    "    loads questions and their corresponding ground truth answers from JSON benchmark files.\n",
    "    each question can have multiple ground truth snippets/answers.\n",
    "    returns:\n",
    "        - list of questions (queries).\n",
    "        - list of lists of ground truth answers (one list of answers per question).\n",
    "    \"\"\"\n",
    "    benchmark_path = Path(benchmark_dir_path)\n",
    "    all_queries = []\n",
    "    all_ground_truth_sets = [] # list of lists, as one query can have multiple GT answers\n",
    "\n",
    "    benchmark_files = [\"contractnli.json\", \"cuad.json\", \"maud.json\", \"privacy_qa.json\"]\n",
    "    \n",
    "    print(f\"Loading benchmark data from: {benchmark_path}\")\n",
    "\n",
    "    for file_name in benchmark_files:\n",
    "        file_path = benchmark_path / file_name\n",
    "        if not file_path.exists():\n",
    "            print(f\"Benchmark file not found: {file_path}. Skipping.\")\n",
    "            continue\n",
    "        \n",
    "        try:\n",
    "            with open(file_path, 'r', encoding='utf-8') as f:\n",
    "                data = json.load(f)\n",
    "            \n",
    "            num_tests_in_file = 0\n",
    "            for test_case in data.get(\"tests\", []):\n",
    "                query = test_case.get(\"query\")\n",
    "                snippets = test_case.get(\"snippets\", [])\n",
    "                \n",
    "                current_ground_truths = [s.get(\"answer\", \"\").strip() for s in snippets if s.get(\"answer\", \"\").strip()]\n",
    "                \n",
    "                if query and current_ground_truths: # Only add if query and some GT answers exist\n",
    "                    all_queries.append(query)\n",
    "                    all_ground_truth_sets.append(current_ground_truths)\n",
    "                    num_tests_in_file += 1\n",
    "            print(f\"Loaded {num_tests_in_file} valid Q&A pairs from {file_name}.\")\n",
    "        except json.JSONDecodeError:\n",
    "            print(f\"Error decoding JSON from {file_path}. Skipping.\")\n",
    "        except Exception as e:\n",
    "            print(f\"An unexpected error occurred with {file_path}: {e}. Skipping.\")\n",
    "            \n",
    "    print(f\"\\nTotal questions loaded for evaluation: {len(all_queries)}\")\n",
    "    print(f\"Total sets of ground truth answers loaded: {len(all_ground_truth_sets)}\")\n",
    "    \n",
    "    return all_queries, all_ground_truth_sets\n"
   ]
  },
  {
   "cell_type": "code",
   "execution_count": 26,
   "metadata": {},
   "outputs": [
    {
     "name": "stdout",
     "output_type": "stream",
     "text": [
      "Loading benchmark data from: rag_legal/benchmarks\n",
      "Loaded 977 valid Q&A pairs from contractnli.json.\n",
      "Loaded 4042 valid Q&A pairs from cuad.json.\n",
      "Loaded 1676 valid Q&A pairs from maud.json.\n",
      "Loaded 194 valid Q&A pairs from privacy_qa.json.\n",
      "\n",
      "Total questions loaded for evaluation: 6889\n",
      "Total sets of ground truth answers loaded: 6889\n",
      "\n",
      "Sample benchmark data (first Q&A):\n",
      "Question 1: Consider the Non-Disclosure Agreement between CopAcc and ToP Mentors; Does the document indicate that the Agreement does not grant the Receiving Party any rights to the Confidential Information?\n",
      "Ground Truths for Q1: ['Any and all proprietary rights, including but not limited to rights to and in inventions, patent rights, utility models, copyrights, trademarks and trade secrets, in and to any Confidential Information shall be and remain with the Participants respectively, and Mentor shall not have any right, license, title or interest in or to any Confidential Information, except the limited right to review, assess and help develop such Confidential Information in connection with the Copernicus Accelerator 2017.']\n"
     ]
    }
   ],
   "source": [
    "# load benchmark data\n",
    "benchmark_data_directory = \"./rag_legal/benchmarks\" # Adjust if your folder is named differently\n",
    "evaluation_questions, evaluation_ground_truths = load_benchmark_qna(benchmark_data_directory)\n",
    "\n",
    "# verify loaded data\n",
    "if evaluation_questions and evaluation_ground_truths:\n",
    "    print(f\"\\nSample benchmark data (first Q&A):\")\n",
    "    print(f\"Question 1: {evaluation_questions[0]}\")\n",
    "    print(f\"Ground Truths for Q1: {evaluation_ground_truths[0]}\")\n",
    "else:\n",
    "    print(\"No benchmark data loaded. Evaluation cannot proceed.\")"
   ]
  },
  {
   "cell_type": "markdown",
   "metadata": {},
   "source": [
    "#### **3.1.2 Defining the Evaluation Functions**\n",
    "\n",
    "We will evaluate the pipeline using two families of metrics:\n",
    "\n",
    "*   **Lexical Similarity Metrics (ROUGE & BLEU):** These metrics measure the word-level overlap between the generated answer and the ground-truth answer.\n",
    "    *   **ROUGE** (Recall-Oriented Understudy for Gisting Evaluation) is useful for measuring how much of the reference answer is captured in the generated one.\n",
    "    *   **BLEU** (Bilingual Evaluation Understudy) measures precision, or how much of the generated answer was relevant.\n",
    "    *   While useful, these metrics are limited as they don't capture semantic meaning (i.e., two sentences can mean the same thing but use different words).\n",
    "\n",
    "*   **Framework-based Evaluation (RAGAS):** RAGAS (RAG Assessment) is a more advanced framework that uses an LLM to evaluate the different components of the RAG pipeline. This provides deeper, more semantic insights into performance:\n",
    "    *   `faithfulness`: Does the answer stay true to the retrieved context? (Measures hallucinations)\n",
    "    *   `answer_relevancy`: Is the answer relevant to the question?\n",
    "    *   `context_precision` and `context_recall`: How relevant and complete was the retrieved context?\n",
    "    *   `answer_correctness`: How semantically similar is the answer to the ground truth?"
   ]
  },
  {
   "cell_type": "code",
   "execution_count": 27,
   "metadata": {},
   "outputs": [],
   "source": [
    "# evaluate the RAG pipeline\n",
    "def calculate_evaluation_scores(generated_answers, \n",
    "                                ground_truth_sets):\n",
    "    \"\"\"\n",
    "    calculates ROUGE and BLEU scores for generated answers against ground truth sets.\n",
    "    for ROUGE, it compares the generated answer against a concatenated string of all ground truths for that question.\n",
    "    for BLEU, it compares the generated answer against the list of individual ground truth answers.\n",
    "    \"\"\"\n",
    "    if not generated_answers or not ground_truth_sets or len(generated_answers) != len(ground_truth_sets):\n",
    "        print(\"Mismatch in lengths of generated answers and ground truth sets for ROUGE/BLEU, or lists are empty.\")\n",
    "        return {\"rouge1_f1\": 0, \"rouge2_f1\": 0, \"rougeL_f1\": 0, \"bleu\": 0}\n",
    "\n",
    "    rouge_metrics = ['rouge1', 'rouge2', 'rougeL']\n",
    "    rouge_calc = rouge_scorer.RougeScorer(rouge_metrics, use_stemmer=True)\n",
    "    \n",
    "    bleu_calc = None # Initialize\n",
    "    try:\n",
    "        bleu_calc = hf_evaluate.load('bleu') # <<< USE ALIASED hf_evaluate\n",
    "        print(\"BLEU metric loaded successfully from Hugging Face evaluate.\")\n",
    "    except Exception as e:\n",
    "        print(f\"Could not load BLEU metric from Hugging Face evaluate: {e}. BLEU scores will be 0.\")\n",
    "        # bleu_calc remains None\n",
    "\n",
    "    all_rouge_f1 = {metric: [] for metric in rouge_metrics}\n",
    "    all_bleu = []\n",
    "\n",
    "    print(f\"Calculating ROUGE and BLEU scores for {len(generated_answers)} responses...\")\n",
    "    for gen_ans, gt_list in tqdm(zip(generated_answers, ground_truth_sets), total=len(generated_answers), desc=\"Evaluating ROUGE/BLEU\"):\n",
    "        \n",
    "        current_gen_ans = str(gen_ans) if gen_ans is not None else \"\"\n",
    "        \n",
    "        # For ROUGE\n",
    "        current_gt_list_for_rouge = [str(g) for g in gt_list if g is not None] if gt_list else [\"\"]\n",
    "        concatenated_gt = \" \".join(current_gt_list_for_rouge)\n",
    "        \n",
    "        if not gt_list: # If no ground truths for this question, effectively\n",
    "            for metric in rouge_metrics: all_rouge_f1[metric].append(0)\n",
    "            if bleu_calc: all_bleu.append(0)\n",
    "            continue\n",
    "        \n",
    "        try:\n",
    "            rouge_scores = rouge_calc.score(concatenated_gt, current_gen_ans)\n",
    "            for metric in rouge_metrics:\n",
    "                all_rouge_f1[metric].append(rouge_scores[metric].fmeasure)\n",
    "        except Exception as e:\n",
    "            print(f\"Error calculating ROUGE for a response: {e}\")\n",
    "            for metric in rouge_metrics: all_rouge_f1[metric].append(0)\n",
    "            \n",
    "        # For BLEU\n",
    "        if bleu_calc:\n",
    "            try:\n",
    "                # BLEU expects a list of reference strings for each prediction\n",
    "                current_gt_list_for_bleu = [[str(g) for g in gt_list if g is not None]] if any(g is not None for g in gt_list) else [[\"\"]]\n",
    "                predictions_for_bleu = [current_gen_ans]\n",
    "                \n",
    "                bleu_result = bleu_calc.compute(predictions=predictions_for_bleu, references=current_gt_list_for_bleu)\n",
    "                all_bleu.append(bleu_result['bleu'])\n",
    "            except Exception as e:\n",
    "                print(f\"Error calculating BLEU for a response: {e}\")\n",
    "                all_bleu.append(0)\n",
    "        else:\n",
    "            all_bleu.append(0) # If bleu_calc is None\n",
    "\n",
    "    avg_scores = {}\n",
    "    for metric in rouge_metrics:\n",
    "        avg_scores[f\"{metric}_f1\"] = np.mean(all_rouge_f1[metric]) if all_rouge_f1[metric] else 0\n",
    "    \n",
    "    avg_scores[\"bleu\"] = np.mean(all_bleu) if all_bleu else 0\n",
    "\n",
    "    print(\"\\n--- Evaluation Metrics Summary (ROUGE/BLEU) ---\")\n",
    "    for metric_name, score_val in avg_scores.items():\n",
    "        print(f\"  Average {metric_name.replace('_f1', ' F1').upper()}: {score_val:.4f}\")\n",
    "    print(\"----------------------------------\")\n",
    "    \n",
    "    return avg_scores\n"
   ]
  },
  {
   "cell_type": "markdown",
   "metadata": {},
   "source": [
    "#### **3.1.3 Executing the End-to-End Evaluation**\n",
    "\n",
    "We now run our evaluation by feeding a subset of the benchmark questions into our complete RAG pipeline. For each question, we generate an answer and collect the retrieved contexts. This dataset of questions, ground truths, generated answers, and contexts becomes the input for our ROUGE, BLEU, and RAGAS scoring functions."
   ]
  },
  {
   "cell_type": "markdown",
   "metadata": {},
   "source": [
    " To save time and computing power, you can just run the evaluation on first 100 questions."
   ]
  },
  {
   "cell_type": "code",
   "execution_count": 28,
   "metadata": {},
   "outputs": [],
   "source": [
    "from ragas import evaluate\n",
    "from ragas.metrics import (\n",
    "    faithfulness,\n",
    "    answer_relevancy,\n",
    "    context_recall,\n",
    "    context_precision,\n",
    "    answer_correctness \n",
    ")\n",
    "from datasets import Dataset\n",
    "import pandas as pd\n",
    "\n",
    "\n",
    "def perform_full_evaluation(rag_pipeline,\n",
    "                            questions_list,\n",
    "                            ground_truth_answers_list,\n",
    "                            max_questions_to_eval = 100,\n",
    "                            ragas_llm = None, \n",
    "                            ragas_embeddings = None\n",
    "                           ):\n",
    "    \"\"\"\n",
    "    Runs the full evaluation pipeline: ROUGE, BLEU, and RAGAS.\n",
    "    \"\"\"\n",
    "    if not rag_pipeline:\n",
    "        print(\"RAG pipeline is not initialized. Cannot perform evaluation.\")\n",
    "        return None, None\n",
    "    if not questions_list: # check if the list itself is None or empty\n",
    "        print(\"Evaluation questions are missing or empty.\")\n",
    "        return None, None\n",
    "    if not ground_truth_answers_list: # check if the list itself is None or empty\n",
    "        print(\"Evaluation ground truths are missing or empty.\")\n",
    "        return None, None\n",
    "    \n",
    "    num_available_questions = len(questions_list)\n",
    "    actual_eval_count = min(max_questions_to_eval, num_available_questions)\n",
    "\n",
    "    if actual_eval_count == 0:\n",
    "        print(\"No questions available for evaluation after limiting (actual_eval_count is 0).\")\n",
    "        return None, None\n",
    "\n",
    "    print(f\"Starting full evaluation for {actual_eval_count} questions (out of {num_available_questions} available).\")\n",
    "\n",
    "    current_eval_questions = questions_list[:actual_eval_count]\n",
    "    current_eval_ground_truths_lists = ground_truth_answers_list[:actual_eval_count]\n",
    "\n",
    "    generated_answers_for_eval = []\n",
    "    ragas_eval_data = {\"question\": [], \"answer\": [], \"contexts\": [], \"ground_truth\": []}\n",
    "\n",
    "    print(\"Generating RAG answers and preparing data for all evaluations...\")\n",
    "    for i, query_text in enumerate(tqdm(current_eval_questions, desc=\"Generating RAG answers\")):\n",
    "        ans_text, source_docs = get_answer_from_rag(rag_pipeline, query_text)\n",
    "        \n",
    "        generated_ans = str(ans_text) if ans_text is not None else \"\"\n",
    "        generated_answers_for_eval.append(generated_ans)\n",
    "\n",
    "        ragas_eval_data[\"question\"].append(str(query_text))\n",
    "        ragas_eval_data[\"answer\"].append(generated_ans)\n",
    "        contexts = [str(doc.page_content) for doc in source_docs] if source_docs else []\n",
    "        ragas_eval_data[\"contexts\"].append(contexts)\n",
    "        gt_for_ragas = str(current_eval_ground_truths_lists[i][0]) if current_eval_ground_truths_lists[i] and current_eval_ground_truths_lists[i][0] is not None else \"\"\n",
    "        ragas_eval_data[\"ground_truth\"].append(gt_for_ragas)\n",
    "\n",
    "        if i < 3: # print samples\n",
    "            print(f\"\\n--- Eval Sample Q&A ({i+1}/{actual_eval_count}) ---\")\n",
    "            print(f\"  Question: {query_text}\")\n",
    "            print(f\"  Generated Answer: {generated_ans}\")\n",
    "            print(f\"  Retrieved Contexts (first 50 chars each): {[c[:50]+'...' for c in contexts]}\")\n",
    "            print(f\"  Ground Truths (original list): {current_eval_ground_truths_lists[i]}\")\n",
    "            print(f\"  Ground Truth (for RAGAS): {gt_for_ragas}\")\n",
    "            print(\"---------------------------------------\\n\")\n",
    "\n",
    "    # calculate ROUGE and BLEU scores using the dedicated function\n",
    "    print(\"\\nCalculating ROUGE and BLEU scores...\")\n",
    "    rouge_bleu_scores = calculate_evaluation_scores(generated_answers_for_eval, current_eval_ground_truths_lists)\n",
    "\n",
    "    # Calculate RAGAS scores\n",
    "    ragas_scores_dict = None\n",
    "    if ragas_llm: # Proceed only if RAGAS LLM is available\n",
    "        print(\"\\nCalculating RAGAS scores...\")\n",
    "        try:\n",
    "            ragas_dataset = Dataset.from_dict(ragas_eval_data)\n",
    "            metrics_to_evaluate = [faithfulness, answer_relevancy, context_precision, context_recall, answer_correctness]\n",
    "            \n",
    "            results = ragas_evaluate(\n",
    "                dataset=ragas_dataset,\n",
    "                metrics=metrics_to_evaluate,\n",
    "                llm=ragas_llm,\n",
    "                embeddings=ragas_embeddings\n",
    "            )\n",
    "            ragas_scores_dict = results \n",
    "            print(\"\\n--- RAGAS Metrics Summary ---\")\n",
    "            print(ragas_scores_dict) # print the raw result object/dictionary\n",
    "            print(\"-----------------------------\")\n",
    "        except Exception as e:\n",
    "            print(f\"Error during RAGAS evaluation: {e}\")\n",
    "            ragas_scores_dict = {\"error\": str(e)} # store error info\n",
    "    else:\n",
    "        print(\"Skipping RAGAS evaluation as RAGAS LLM was not provided (e.g., API key issue or failed init).\")\n",
    "        ragas_scores_dict = {\"status\": \"skipped_no_llm\"}\n",
    "\n",
    "    return rouge_bleu_scores, ragas_scores_dict"
   ]
  },
  {
   "cell_type": "code",
   "execution_count": 29,
   "metadata": {},
   "outputs": [
    {
     "name": "stdout",
     "output_type": "stream",
     "text": [
      "RAGAS LLM (gpt-4.1-mini) and Embeddings initialized.\n",
      "\n",
      "Initiating RAG pipeline evaluation on up to 100 question(s).\n",
      "Starting full evaluation for 100 questions (out of 6889 available).\n",
      "Generating RAG answers and preparing data for all evaluations...\n"
     ]
    },
    {
     "name": "stderr",
     "output_type": "stream",
     "text": [
      "Generating RAG answers:   0%|          | 0/100 [00:00<?, ?it/s]"
     ]
    },
    {
     "name": "stdout",
     "output_type": "stream",
     "text": [
      "\n",
      "Processing query: \"Consider the Non-Disclosure Agreement between CopAcc and ToP Mentors; Does the document indicate that the Agreement does not grant the Receiving Party any rights to the Confidential Information?\"\n"
     ]
    },
    {
     "name": "stderr",
     "output_type": "stream",
     "text": [
      "Generating RAG answers:   1%|          | 1/100 [00:02<03:19,  2.02s/it]"
     ]
    },
    {
     "name": "stdout",
     "output_type": "stream",
     "text": [
      "\n",
      "Generated Answer:\n",
      "Yes, the document indicates that the Agreement does not grant the Receiving Party any rights to the Confidential Information. It states, \"the information, relating to the other party, shall remain the property of such other party (as disclosing party) and its disclosure shall not confer on the other party (as receiving party) any rights. no license is hereby granted by either party to the other party, directly or indirectly, under any patent, trademark, trade secret or other intellectual property.\"\n",
      "\n",
      "Source Documents (3 retrieved):\n",
      "  --- Source 1 ---\n",
      "  Filename: ADVANIDE-NON-DISCLOSURE-AGREEMENT.txt\n",
      "  Directory: corpus/contractnli/ADVANIDE-NON-DISCLOSURE-AGREEMENT.txt\n",
      "  Chunk Num: 5\n",
      "  --- Source 2 ---\n",
      "  Filename: UALR-Standard-Non-disclosure-AgreementTemplate.txt\n",
      "  Directory: corpus/contractnli/UALR-Standard-Non-disclosure-AgreementTemplate.txt\n",
      "  Chunk Num: 3\n",
      "  --- Source 3 ---\n",
      "  Filename: NDA-M5-Systems.txt\n",
      "  Directory: corpus/contractnli/NDA-M5-Systems.txt\n",
      "  Chunk Num: 4\n",
      "\n",
      "--- Eval Sample Q&A (1/100) ---\n",
      "  Question: Consider the Non-Disclosure Agreement between CopAcc and ToP Mentors; Does the document indicate that the Agreement does not grant the Receiving Party any rights to the Confidential Information?\n",
      "  Generated Answer: Yes, the document indicates that the Agreement does not grant the Receiving Party any rights to the Confidential Information. It states, \"the information, relating to the other party, shall remain the property of such other party (as disclosing party) and its disclosure shall not confer on the other party (as receiving party) any rights. no license is hereby granted by either party to the other party, directly or indirectly, under any patent, trademark, trade secret or other intellectual property.\"\n",
      "  Retrieved Contexts (first 50 chars each): ['v. ensure that its employees and advisers comply w...', 'unless expressly authorized in writing by the disc...', '3. non-disclosure of confidential information. the...']\n",
      "  Ground Truths (original list): ['Any and all proprietary rights, including but not limited to rights to and in inventions, patent rights, utility models, copyrights, trademarks and trade secrets, in and to any Confidential Information shall be and remain with the Participants respectively, and Mentor shall not have any right, license, title or interest in or to any Confidential Information, except the limited right to review, assess and help develop such Confidential Information in connection with the Copernicus Accelerator 2017.']\n",
      "  Ground Truth (for RAGAS): Any and all proprietary rights, including but not limited to rights to and in inventions, patent rights, utility models, copyrights, trademarks and trade secrets, in and to any Confidential Information shall be and remain with the Participants respectively, and Mentor shall not have any right, license, title or interest in or to any Confidential Information, except the limited right to review, assess and help develop such Confidential Information in connection with the Copernicus Accelerator 2017.\n",
      "---------------------------------------\n",
      "\n",
      "\n",
      "Processing query: \"Consider the Non-Disclosure Agreement between CopAcc and ToP Mentors; Does the document state that Confidential Information shall only include technical information?\"\n"
     ]
    },
    {
     "name": "stderr",
     "output_type": "stream",
     "text": [
      "Generating RAG answers:   2%|▏         | 2/100 [00:04<03:42,  2.27s/it]"
     ]
    },
    {
     "name": "stdout",
     "output_type": "stream",
     "text": [
      "\n",
      "Generated Answer:\n",
      "No, the document does not state that Confidential Information shall only include technical information. It defines \"confidential information\" broadly to include \"technical, scientific, economic and business data, business plans, and the like,\" and explicitly includes information disclosed \"orally, visually, in writing or in any other tangible form.\"\n",
      "\n",
      "Source Documents (3 retrieved):\n",
      "  --- Source 1 ---\n",
      "  Filename: FLOTEKINDUSTRIESINCCN_05_09_2019-EX-10.1-SUPPLY AGREEMENT.txt\n",
      "  Directory: corpus/cuad/FLOTEKINDUSTRIESINCCN_05_09_2019-EX-10.1-SUPPLY AGREEMENT.txt\n",
      "  Chunk Num: 9\n",
      "  --- Source 2 ---\n",
      "  Filename: lti-two-way-cda-template.txt\n",
      "  Directory: corpus/contractnli/lti-two-way-cda-template.txt\n",
      "  Chunk Num: 2\n",
      "  --- Source 3 ---\n",
      "  Filename: ENTRUSTINC_07_24_1998-EX-10.5-STRATEGIC ALLIANCE AGREEMENT.txt\n",
      "  Directory: corpus/cuad/ENTRUSTINC_07_24_1998-EX-10.5-STRATEGIC ALLIANCE AGREEMENT.txt\n",
      "  Chunk Num: 38\n",
      "\n",
      "--- Eval Sample Q&A (2/100) ---\n",
      "  Question: Consider the Non-Disclosure Agreement between CopAcc and ToP Mentors; Does the document state that Confidential Information shall only include technical information?\n",
      "  Generated Answer: No, the document does not state that Confidential Information shall only include technical information. It defines \"confidential information\" broadly to include \"technical, scientific, economic and business data, business plans, and the like,\" and explicitly includes information disclosed \"orally, visually, in writing or in any other tangible form.\"\n",
      "  Retrieved Contexts (first 50 chars each): ['12. confidentiality. all proprietary, technical, e...', 'it may be necessary for either party to provide co...', '\"confidential information\" shall mean all informat...']\n",
      "  Ground Truths (original list): ['“Confidential Information” means any Idea disclosed to Mentor, all data and information, know-how, business concepts, software, procedures, products, services, development projects, and programmes contained in such Idea and/or its description and any conclusions.']\n",
      "  Ground Truth (for RAGAS): “Confidential Information” means any Idea disclosed to Mentor, all data and information, know-how, business concepts, software, procedures, products, services, development projects, and programmes contained in such Idea and/or its description and any conclusions.\n",
      "---------------------------------------\n",
      "\n",
      "\n",
      "Processing query: \"Consider the Non-Disclosure Agreement between CopAcc and ToP Mentors; Does the document mention that some obligations of the Agreement may survive the termination of the Agreement?\"\n"
     ]
    },
    {
     "name": "stderr",
     "output_type": "stream",
     "text": [
      "Generating RAG answers:   3%|▎         | 3/100 [00:07<03:59,  2.47s/it]"
     ]
    },
    {
     "name": "stdout",
     "output_type": "stream",
     "text": [
      "\n",
      "Generated Answer:\n",
      "Yes, the document states that \"no termination of this agreement shall affect the obligations of the parties contained in the confidentiality agreement, all of which obligations shall survive termination of this agreement.\" Additionally, it specifies that certain provisions, including confidentiality, \"shall survive the expiration of the agreement.\"\n",
      "\n",
      "Source Documents (3 retrieved):\n",
      "  --- Source 1 ---\n",
      "  Filename: ExactSciencesCorp_20180822_8-K_EX-10.1_11331629_EX-10.1_Promotion Agreement.txt\n",
      "  Directory: corpus/cuad/ExactSciencesCorp_20180822_8-K_EX-10.1_11331629_EX-10.1_Promotion Agreement.txt\n",
      "  Chunk Num: 235\n",
      "  --- Source 2 ---\n",
      "  Filename: FLIR Systems, Inc._Teledyne Technologies Incorporated.txt\n",
      "  Directory: corpus/maud/FLIR Systems, Inc._Teledyne Technologies Incorporated.txt\n",
      "  Chunk Num: 405\n",
      "  --- Source 3 ---\n",
      "  Filename: National General Holdings Corp._The Allstate Corporation.txt\n",
      "  Directory: corpus/maud/National General Holdings Corp._The Allstate Corporation.txt\n",
      "  Chunk Num: 356\n",
      "\n",
      "--- Eval Sample Q&A (3/100) ---\n",
      "  Question: Consider the Non-Disclosure Agreement between CopAcc and ToP Mentors; Does the document mention that some obligations of the Agreement may survive the termination of the Agreement?\n",
      "  Generated Answer: Yes, the document states that \"no termination of this agreement shall affect the obligations of the parties contained in the confidentiality agreement, all of which obligations shall survive termination of this agreement.\" Additionally, it specifies that certain provisions, including confidentiality, \"shall survive the expiration of the agreement.\"\n",
      "  Retrieved Contexts (first 50 chars each): ['8.9 survival of certain obligations. expiration or...', 'no termination of this agreement shall affect the ...', 'no termination of this agreement shall affect the ...']\n",
      "  Ground Truths (original list): ['Notwithstanding the termination of this Agreement, any Confidential Information must be kept confidential for as long as such Confidential Information is not publicly known unless it becomes part of the public domain through no wrongful act of Mentor.']\n",
      "  Ground Truth (for RAGAS): Notwithstanding the termination of this Agreement, any Confidential Information must be kept confidential for as long as such Confidential Information is not publicly known unless it becomes part of the public domain through no wrongful act of Mentor.\n",
      "---------------------------------------\n",
      "\n",
      "\n",
      "Processing query: \"Consider the Non-Disclosure Agreement between CopAcc and ToP Mentors; Does the document permit the Receiving Party to retain some Confidential Information even after its return or destruction?\"\n"
     ]
    },
    {
     "name": "stderr",
     "output_type": "stream",
     "text": [
      "Generating RAG answers:   4%|▍         | 4/100 [00:09<03:42,  2.32s/it]"
     ]
    },
    {
     "name": "stdout",
     "output_type": "stream",
     "text": [
      "\n",
      "Generated Answer:\n",
      "Yes, the document permits the Receiving Party to retain some Confidential Information even after its return or destruction. Specifically, section 10.6 states that \"the receiving party may retain a reasonable number of archival copies as may be required by law or its reasonable standard document retention policies.\"\n",
      "\n",
      "Source Documents (3 retrieved):\n",
      "  --- Source 1 ---\n",
      "  Filename: WaterNowInc_20191120_10-Q_EX-10.12_11900227_EX-10.12_Distributor Agreement.txt\n",
      "  Directory: corpus/cuad/WaterNowInc_20191120_10-Q_EX-10.12_11900227_EX-10.12_Distributor Agreement.txt\n",
      "  Chunk Num: 44\n",
      "  --- Source 2 ---\n",
      "  Filename: SigaTechnologiesInc_20190603_8-K_EX-10.1_11695818_EX-10.1_Promotion Agreement.txt\n",
      "  Directory: corpus/cuad/SigaTechnologiesInc_20190603_8-K_EX-10.1_11695818_EX-10.1_Promotion Agreement.txt\n",
      "  Chunk Num: 154\n",
      "  --- Source 3 ---\n",
      "  Filename: ADVANIDE-NON-DISCLOSURE-AGREEMENT.txt\n",
      "  Directory: corpus/contractnli/ADVANIDE-NON-DISCLOSURE-AGREEMENT.txt\n",
      "  Chunk Num: 5\n",
      "\n",
      "Processing query: \"Consider the Non-Disclosure Agreement between CopAcc and ToP Mentors; Does the document allow the Receiving Party to share some Confidential Information with third parties, including consultants, agents, and professional advisors?\"\n"
     ]
    },
    {
     "name": "stderr",
     "output_type": "stream",
     "text": [
      "Generating RAG answers:   5%|▌         | 5/100 [00:13<04:58,  3.14s/it]"
     ]
    },
    {
     "name": "stdout",
     "output_type": "stream",
     "text": [
      "\n",
      "Generated Answer:\n",
      "Yes, the agreement allows the Receiving Party to share some Confidential Information with third parties, including consultants, agents, and professional advisors, but under strict conditions. Specifically:\n",
      "\n",
      "- Paragraph 4 permits disclosure to \"employees, directors, officers, advisors, attorneys, auditors and agents only on a need-to-know basis in connection with the opportunity,\" with the Receiving Party liable for their actions.\n",
      "- Paragraph 10.3(a) allows disclosure of the terms of the agreement to \"advisors (including financial advisors, attorneys and accountants), actual or potential acquisition partners or private investors, and others on a need to know basis,\" provided such parties are bound by confidentiality provisions substantially equivalent to those in the agreement.\n",
      "- Paragraph 12.2 states that information may be disclosed to \"employees, agents or consultants of the receiving party,\" but only to the extent required to accomplish the agreement’s purposes and only after obtaining their prior agreement to maintain confidentiality and limit use.\n",
      "\n",
      "Thus, sharing is permitted but only with appropriate confidentiality safeguards and for purposes consistent with the agreement.\n",
      "\n",
      "Source Documents (3 retrieved):\n",
      "  --- Source 1 ---\n",
      "  Filename: MutualNDA_The_Knights_of_Unity.txt\n",
      "  Directory: corpus/contractnli/MutualNDA_The_Knights_of_Unity.txt\n",
      "  Chunk Num: 4\n",
      "  --- Source 2 ---\n",
      "  Filename: Array BioPharma Inc. - LICENSE, DEVELOPMENT AND COMMERCIALIZATION AGREEMENT.txt\n",
      "  Directory: corpus/cuad/Array BioPharma Inc. - LICENSE, DEVELOPMENT AND COMMERCIALIZATION AGREEMENT.txt\n",
      "  Chunk Num: 232\n",
      "  --- Source 3 ---\n",
      "  Filename: Microgenics Corporation - Collaborative Development and Commercialization Agreement.txt\n",
      "  Directory: corpus/cuad/Microgenics Corporation - Collaborative Development and Commercialization Agreement.txt\n",
      "  Chunk Num: 155\n",
      "\n",
      "Processing query: \"Consider the Non-Disclosure Agreement between CopAcc and ToP Mentors; Does the document require the Receiving Party to notify the Disclosing Party if they are required by law, regulation, or judicial process to disclose any Confidential Information?\"\n"
     ]
    },
    {
     "name": "stderr",
     "output_type": "stream",
     "text": [
      "Generating RAG answers:   6%|▌         | 6/100 [00:16<04:24,  2.82s/it]"
     ]
    },
    {
     "name": "stdout",
     "output_type": "stream",
     "text": [
      "\n",
      "Generated Answer:\n",
      "Yes, the document requires the Receiving Party to notify the Disclosing Party if they are required by law, regulation, or judicial process to disclose any Confidential Information. Specifically, it states that the Receiving Party shall \"give disclosing party reasonable notice of such required disclosure prior to disclosure\" and \"provide the disclosing party with prompt written notice of such requirement so that the disclosing party may seek a protective order or other appropriate relief.\"\n",
      "\n",
      "Source Documents (3 retrieved):\n",
      "  --- Source 1 ---\n",
      "  Filename: amc-general-mutual-non-disclosure-agreement-en-gb.txt\n",
      "  Directory: corpus/contractnli/amc-general-mutual-non-disclosure-agreement-en-gb.txt\n",
      "  Chunk Num: 8\n",
      "  --- Source 2 ---\n",
      "  Filename: Sonos, Inc. - Manufacturing Agreement .txt\n",
      "  Directory: corpus/cuad/Sonos, Inc. - Manufacturing Agreement .txt\n",
      "  Chunk Num: 81\n",
      "  --- Source 3 ---\n",
      "  Filename: SE_NDCA_and_PRE-QUAL_PACKAGE_March-2016.txt\n",
      "  Directory: corpus/contractnli/SE_NDCA_and_PRE-QUAL_PACKAGE_March-2016.txt\n",
      "  Chunk Num: 7\n",
      "\n",
      "Processing query: \"Consider the Non-Disclosure Agreement between CopAcc and ToP Mentors; Does the document allow the Receiving Party to acquire information similar to the Confidential Information from a third party?\"\n"
     ]
    },
    {
     "name": "stderr",
     "output_type": "stream",
     "text": [
      "Generating RAG answers:   7%|▋         | 7/100 [00:19<04:47,  3.09s/it]"
     ]
    },
    {
     "name": "stdout",
     "output_type": "stream",
     "text": [
      "\n",
      "Generated Answer:\n",
      "Yes, the document allows the Receiving Party to acquire information similar to the Confidential Information from a third party, as long as the third party has the right to make such a disclosure. This is stated in the clause: \"confidential information shall not include... (c) subsequently disclosed to the receiving party by a third party having the right to make such a disclosure.\"\n",
      "\n",
      "Source Documents (3 retrieved):\n",
      "  --- Source 1 ---\n",
      "  Filename: MutualNDA_The_Knights_of_Unity.txt\n",
      "  Directory: corpus/contractnli/MutualNDA_The_Knights_of_Unity.txt\n",
      "  Chunk Num: 4\n",
      "  --- Source 2 ---\n",
      "  Filename: SE_NDCA_and_PRE-QUAL_PACKAGE_March-2016.txt\n",
      "  Directory: corpus/contractnli/SE_NDCA_and_PRE-QUAL_PACKAGE_March-2016.txt\n",
      "  Chunk Num: 6\n",
      "  --- Source 3 ---\n",
      "  Filename: Microgenics Corporation - Collaborative Development and Commercialization Agreement.txt\n",
      "  Directory: corpus/cuad/Microgenics Corporation - Collaborative Development and Commercialization Agreement.txt\n",
      "  Chunk Num: 155\n",
      "\n",
      "Processing query: \"Consider the Non-Disclosure Agreement between CopAcc and ToP Mentors; Does the document allow the Receiving Party to share some Confidential Information with their employees?\"\n"
     ]
    },
    {
     "name": "stderr",
     "output_type": "stream",
     "text": [
      "Generating RAG answers:   8%|▊         | 8/100 [00:23<05:02,  3.29s/it]"
     ]
    },
    {
     "name": "stdout",
     "output_type": "stream",
     "text": [
      "\n",
      "Generated Answer:\n",
      "Yes, the document allows the Receiving Party to share Confidential Information with their employees, but only on a need-to-know basis and in connection with the opportunity. Specifically, paragraph 4 states that \"confidential information may be disclosed by the receiving party to its employees, directors, officers, advisors, attorneys, auditors and agents only on a need-to-know basis in connection with the opportunity,\" and that these individuals \"shall treat such confidential information in a manner consistent with this agreement.\" Additionally, before receiving any confidential information, employees must agree to abide by the terms of the agreement.\n",
      "\n",
      "Source Documents (3 retrieved):\n",
      "  --- Source 1 ---\n",
      "  Filename: MutualNDA_The_Knights_of_Unity.txt\n",
      "  Directory: corpus/contractnli/MutualNDA_The_Knights_of_Unity.txt\n",
      "  Chunk Num: 4\n",
      "  --- Source 2 ---\n",
      "  Filename: Microgenics Corporation - Collaborative Development and Commercialization Agreement.txt\n",
      "  Directory: corpus/cuad/Microgenics Corporation - Collaborative Development and Commercialization Agreement.txt\n",
      "  Chunk Num: 155\n",
      "  --- Source 3 ---\n",
      "  Filename: UALR-Standard-Non-disclosure-AgreementTemplate.txt\n",
      "  Directory: corpus/contractnli/UALR-Standard-Non-disclosure-AgreementTemplate.txt\n",
      "  Chunk Num: 3\n",
      "\n",
      "Processing query: \"Consider the Non-Disclosure Agreement between CopAcc and ToP Mentors; Does the document restrict the use of Confidential Information to the purposes stated in the Agreement?\"\n"
     ]
    },
    {
     "name": "stderr",
     "output_type": "stream",
     "text": [
      "Generating RAG answers:   9%|▉         | 9/100 [00:29<06:22,  4.20s/it]"
     ]
    },
    {
     "name": "stdout",
     "output_type": "stream",
     "text": [
      "\n",
      "Generated Answer:\n",
      "Yes, the document restricts the use of Confidential Information to the purposes stated in the Agreement. Specifically, it states that \"the recipient agrees not to use the confidential information for any purpose other than that set forth in section 1 of this agreement\" and that confidential information \"shall not be used for any purpose other than to analyze, implement or complete the transactions.\"\n",
      "\n",
      "Source Documents (3 retrieved):\n",
      "  --- Source 1 ---\n",
      "  Filename: RitterPharmaceuticalsInc_20200313_S-4A_EX-10.54_12055220_EX-10.54_Development Agreement.txt\n",
      "  Directory: corpus/cuad/RitterPharmaceuticalsInc_20200313_S-4A_EX-10.54_12055220_EX-10.54_Development Agreement.txt\n",
      "  Chunk Num: 108\n",
      "  --- Source 2 ---\n",
      "  Filename: NDA-M5-Systems.txt\n",
      "  Directory: corpus/contractnli/NDA-M5-Systems.txt\n",
      "  Chunk Num: 4\n",
      "  --- Source 3 ---\n",
      "  Filename: SE_NDCA_and_PRE-QUAL_PACKAGE_March-2016.txt\n",
      "  Directory: corpus/contractnli/SE_NDCA_and_PRE-QUAL_PACKAGE_March-2016.txt\n",
      "  Chunk Num: 6\n",
      "\n",
      "Processing query: \"Consider DBT's Mutual Non-Disclosure Agreement; Does the document indicate that the Agreement does not grant the Receiving Party any rights to the Confidential Information?\"\n"
     ]
    },
    {
     "name": "stderr",
     "output_type": "stream",
     "text": [
      "Generating RAG answers:  10%|█         | 10/100 [00:31<05:17,  3.53s/it]"
     ]
    },
    {
     "name": "stdout",
     "output_type": "stream",
     "text": [
      "\n",
      "Generated Answer:\n",
      "Yes, the agreement explicitly states that \"the information, relating to the other party, shall remain the property of such other party (as disclosing party) and its disclosure shall not confer on the other party (as receiving party) any rights.\" This means the agreement does not grant the Receiving Party any rights to the Confidential Information.\n",
      "\n",
      "Source Documents (3 retrieved):\n",
      "  --- Source 1 ---\n",
      "  Filename: DBT_20Mutual_20NDA.txt\n",
      "  Directory: corpus/contractnli/DBT_20Mutual_20NDA.txt\n",
      "  Chunk Num: 1\n",
      "  --- Source 2 ---\n",
      "  Filename: UALR-Standard-Non-disclosure-AgreementTemplate.txt\n",
      "  Directory: corpus/contractnli/UALR-Standard-Non-disclosure-AgreementTemplate.txt\n",
      "  Chunk Num: 3\n",
      "  --- Source 3 ---\n",
      "  Filename: ADVANIDE-NON-DISCLOSURE-AGREEMENT.txt\n",
      "  Directory: corpus/contractnli/ADVANIDE-NON-DISCLOSURE-AGREEMENT.txt\n",
      "  Chunk Num: 5\n",
      "\n",
      "Processing query: \"Consider DBT's Mutual Non-Disclosure Agreement; Does the document include a clause that prevents the Receiving Party from disclosing the fact that the Agreement was agreed upon or negotiated?\"\n"
     ]
    },
    {
     "name": "stderr",
     "output_type": "stream",
     "text": [
      "Generating RAG answers:  11%|█         | 11/100 [00:39<07:08,  4.82s/it]"
     ]
    },
    {
     "name": "stdout",
     "output_type": "stream",
     "text": [
      "\n",
      "Generated Answer:\n",
      "Yes, the agreement includes a clause that prevents the parties from disclosing the terms of the agreement, which would include the fact that the agreement was agreed upon or negotiated. Specifically, section 7.4 states: \"the parties hereto agree to keep the terms of this agreement confidential and not to divulge any part thereof to any third party except\" under limited exceptions. This confidentiality obligation covers disclosure of the agreement itself.\n",
      "\n",
      "Source Documents (3 retrieved):\n",
      "  --- Source 1 ---\n",
      "  Filename: DBT_20Mutual_20NDA.txt\n",
      "  Directory: corpus/contractnli/DBT_20Mutual_20NDA.txt\n",
      "  Chunk Num: 1\n",
      "  --- Source 2 ---\n",
      "  Filename: VERTICALNETINC_04_01_2002-EX-10.19-MAINTENANCE AND SUPPORT AGREEMENT.txt\n",
      "  Directory: corpus/cuad/VERTICALNETINC_04_01_2002-EX-10.19-MAINTENANCE AND SUPPORT AGREEMENT.txt\n",
      "  Chunk Num: 61\n",
      "  --- Source 3 ---\n",
      "  Filename: ADVANIDE-NON-DISCLOSURE-AGREEMENT.txt\n",
      "  Directory: corpus/contractnli/ADVANIDE-NON-DISCLOSURE-AGREEMENT.txt\n",
      "  Chunk Num: 5\n",
      "\n",
      "Processing query: \"Consider DBT's Mutual Non-Disclosure Agreement; Does the document state that Confidential Information shall only include technical information?\"\n"
     ]
    },
    {
     "name": "stderr",
     "output_type": "stream",
     "text": [
      "Generating RAG answers:  12%|█▏        | 12/100 [00:41<05:53,  4.02s/it]"
     ]
    },
    {
     "name": "stdout",
     "output_type": "stream",
     "text": [
      "\n",
      "Generated Answer:\n",
      "No, the document does not state that Confidential Information shall only include technical information. It explicitly defines \"confidential information\" to include a broad range of information such as \"technical, scientific, economic and business data, business plans,\" as well as \"records, files, analysis, documents, software, computer or electronic data disks or tapes, test data, printouts, processes, designs,\" and \"technical, financial, business plan and customer information,\" among others.\n",
      "\n",
      "Source Documents (3 retrieved):\n",
      "  --- Source 1 ---\n",
      "  Filename: DBT_20Mutual_20NDA.txt\n",
      "  Directory: corpus/contractnli/DBT_20Mutual_20NDA.txt\n",
      "  Chunk Num: 1\n",
      "  --- Source 2 ---\n",
      "  Filename: ENTRUSTINC_07_24_1998-EX-10.5-STRATEGIC ALLIANCE AGREEMENT.txt\n",
      "  Directory: corpus/cuad/ENTRUSTINC_07_24_1998-EX-10.5-STRATEGIC ALLIANCE AGREEMENT.txt\n",
      "  Chunk Num: 38\n",
      "  --- Source 3 ---\n",
      "  Filename: NDA-Seeed.txt\n",
      "  Directory: corpus/contractnli/NDA-Seeed.txt\n",
      "  Chunk Num: 3\n",
      "\n",
      "Processing query: \"Consider DBT's Mutual Non-Disclosure Agreement; Does the document require that all Confidential Information be expressly identified by the Disclosing Party?\"\n"
     ]
    },
    {
     "name": "stderr",
     "output_type": "stream",
     "text": [
      "Generating RAG answers:  13%|█▎        | 13/100 [00:43<05:03,  3.49s/it]"
     ]
    },
    {
     "name": "stdout",
     "output_type": "stream",
     "text": [
      "\n",
      "Generated Answer:\n",
      "The provided context does not state that all Confidential Information must be expressly identified by the Disclosing Party. It focuses on obligations regarding the use, protection, and limited disclosure of confidential information but does not specify a requirement that the Disclosing Party must expressly identify all Confidential Information. Therefore, based on the context given, the document does not require that all Confidential Information be expressly identified by the Disclosing Party.\n",
      "\n",
      "Source Documents (3 retrieved):\n",
      "  --- Source 1 ---\n",
      "  Filename: amc-general-mutual-non-disclosure-agreement-en-gb.txt\n",
      "  Directory: corpus/contractnli/amc-general-mutual-non-disclosure-agreement-en-gb.txt\n",
      "  Chunk Num: 8\n",
      "  --- Source 2 ---\n",
      "  Filename: VERTICALNETINC_04_01_2002-EX-10.19-MAINTENANCE AND SUPPORT AGREEMENT.txt\n",
      "  Directory: corpus/cuad/VERTICALNETINC_04_01_2002-EX-10.19-MAINTENANCE AND SUPPORT AGREEMENT.txt\n",
      "  Chunk Num: 57\n",
      "  --- Source 3 ---\n",
      "  Filename: Apollo Endosurgery - Manufacturing and Supply Agreement.txt\n",
      "  Directory: corpus/cuad/Apollo Endosurgery - Manufacturing and Supply Agreement.txt\n",
      "  Chunk Num: 48\n",
      "\n",
      "Processing query: \"Consider DBT's Mutual Non-Disclosure Agreement; Does the document allow the Receiving Party to independently develop information that is similar to the Confidential Information?\"\n"
     ]
    },
    {
     "name": "stderr",
     "output_type": "stream",
     "text": [
      "Generating RAG answers:  14%|█▍        | 14/100 [00:46<04:27,  3.11s/it]"
     ]
    },
    {
     "name": "stdout",
     "output_type": "stream",
     "text": [
      "\n",
      "Generated Answer:\n",
      "Yes, the document allows the Receiving Party to independently develop information similar to the Confidential Information. This is stated in the context: confidential information \"shall not include... (iv) is independently developed by the receiving party without reference to or use of any confidential information of the disclosing party.\"\n",
      "\n",
      "Source Documents (3 retrieved):\n",
      "  --- Source 1 ---\n",
      "  Filename: ON2TECHNOLOGIES,INC_11_17_2006-EX-10.3-SUPPORT AND MAINTENANCE AGREEMENT.txt\n",
      "  Directory: corpus/cuad/ON2TECHNOLOGIES,INC_11_17_2006-EX-10.3-SUPPORT AND MAINTENANCE AGREEMENT.txt\n",
      "  Chunk Num: 5\n",
      "  --- Source 2 ---\n",
      "  Filename: Apollo Endosurgery - Manufacturing and Supply Agreement.txt\n",
      "  Directory: corpus/cuad/Apollo Endosurgery - Manufacturing and Supply Agreement.txt\n",
      "  Chunk Num: 48\n",
      "  --- Source 3 ---\n",
      "  Filename: BEYONDCOMCORP_08_03_2000-EX-10.2-CO-HOSTING AGREEMENT.txt\n",
      "  Directory: corpus/cuad/BEYONDCOMCORP_08_03_2000-EX-10.2-CO-HOSTING AGREEMENT.txt\n",
      "  Chunk Num: 25\n",
      "\n",
      "Processing query: \"Consider DBT's Mutual Non-Disclosure Agreement; Does the document permit the Receiving Party to retain some Confidential Information even after its return or destruction?\"\n"
     ]
    },
    {
     "name": "stderr",
     "output_type": "stream",
     "text": [
      "Generating RAG answers:  15%|█▌        | 15/100 [00:47<03:52,  2.74s/it]"
     ]
    },
    {
     "name": "stdout",
     "output_type": "stream",
     "text": [
      "\n",
      "Generated Answer:\n",
      "Yes, the document permits the Receiving Party to retain some Confidential Information after its return or destruction. Specifically, section 10.6 states that \"the receiving party may retain a reasonable number of archival copies as may be required by law or its reasonable standard document retention policies.\"\n",
      "\n",
      "Source Documents (3 retrieved):\n",
      "  --- Source 1 ---\n",
      "  Filename: WaterNowInc_20191120_10-Q_EX-10.12_11900227_EX-10.12_Distributor Agreement.txt\n",
      "  Directory: corpus/cuad/WaterNowInc_20191120_10-Q_EX-10.12_11900227_EX-10.12_Distributor Agreement.txt\n",
      "  Chunk Num: 44\n",
      "  --- Source 2 ---\n",
      "  Filename: SigaTechnologiesInc_20190603_8-K_EX-10.1_11695818_EX-10.1_Promotion Agreement.txt\n",
      "  Directory: corpus/cuad/SigaTechnologiesInc_20190603_8-K_EX-10.1_11695818_EX-10.1_Promotion Agreement.txt\n",
      "  Chunk Num: 154\n",
      "  --- Source 3 ---\n",
      "  Filename: DBT_20Mutual_20NDA.txt\n",
      "  Directory: corpus/contractnli/DBT_20Mutual_20NDA.txt\n",
      "  Chunk Num: 6\n",
      "\n",
      "Processing query: \"Consider DBT's Mutual Non-Disclosure Agreement; Does the document require the Receiving Party to notify the Disclosing Party if they are required by law, regulation, or judicial process to disclose any Confidential Information?\"\n"
     ]
    },
    {
     "name": "stderr",
     "output_type": "stream",
     "text": [
      "Generating RAG answers:  16%|█▌        | 16/100 [00:49<03:31,  2.52s/it]"
     ]
    },
    {
     "name": "stdout",
     "output_type": "stream",
     "text": [
      "\n",
      "Generated Answer:\n",
      "Yes, the agreement requires the Receiving Party to notify the Disclosing Party if legally required to disclose any Confidential Information. Specifically, it states that the Receiving Party shall \"(i) give disclosing party reasonable notice of such required disclosure prior to disclosure\" and \"give, to the extent and as soon as legally permissible, prior notice of such disclosure to the other party.\"\n",
      "\n",
      "Source Documents (3 retrieved):\n",
      "  --- Source 1 ---\n",
      "  Filename: DBT_20Mutual_20NDA.txt\n",
      "  Directory: corpus/contractnli/DBT_20Mutual_20NDA.txt\n",
      "  Chunk Num: 1\n",
      "  --- Source 2 ---\n",
      "  Filename: amc-general-mutual-non-disclosure-agreement-en-gb.txt\n",
      "  Directory: corpus/contractnli/amc-general-mutual-non-disclosure-agreement-en-gb.txt\n",
      "  Chunk Num: 8\n",
      "  --- Source 3 ---\n",
      "  Filename: NDA-SqillerBetaTesters.txt\n",
      "  Directory: corpus/contractnli/NDA-SqillerBetaTesters.txt\n",
      "  Chunk Num: 7\n",
      "\n",
      "Processing query: \"Consider DBT's Mutual Non-Disclosure Agreement; Does the document allow the Receiving Party to acquire information similar to the Confidential Information from a third party?\"\n"
     ]
    },
    {
     "name": "stderr",
     "output_type": "stream",
     "text": [
      "Generating RAG answers:  17%|█▋        | 17/100 [00:52<03:38,  2.64s/it]"
     ]
    },
    {
     "name": "stdout",
     "output_type": "stream",
     "text": [
      "\n",
      "Generated Answer:\n",
      "Yes, the document allows the Receiving Party to have information similar to the Confidential Information if it \"was received from a third party not under an obligation of confidence to receiving party,\" as stated in section 3(b).\n",
      "\n",
      "Source Documents (3 retrieved):\n",
      "  --- Source 1 ---\n",
      "  Filename: UALR-Standard-Non-disclosure-AgreementTemplate.txt\n",
      "  Directory: corpus/contractnli/UALR-Standard-Non-disclosure-AgreementTemplate.txt\n",
      "  Chunk Num: 3\n",
      "  --- Source 2 ---\n",
      "  Filename: ASIANDRAGONGROUPINC_08_11_2005-EX-10.5-Reseller Agreement.txt\n",
      "  Directory: corpus/cuad/ASIANDRAGONGROUPINC_08_11_2005-EX-10.5-Reseller Agreement.txt\n",
      "  Chunk Num: 35\n",
      "  --- Source 3 ---\n",
      "  Filename: Sonos, Inc. - Manufacturing Agreement .txt\n",
      "  Directory: corpus/cuad/Sonos, Inc. - Manufacturing Agreement .txt\n",
      "  Chunk Num: 81\n",
      "\n",
      "Processing query: \"Consider DBT's Mutual Non-Disclosure Agreement; Does the document allow the Receiving Party to share some Confidential Information with their employees?\"\n"
     ]
    },
    {
     "name": "stderr",
     "output_type": "stream",
     "text": [
      "Generating RAG answers:  18%|█▊        | 18/100 [00:54<03:18,  2.41s/it]"
     ]
    },
    {
     "name": "stdout",
     "output_type": "stream",
     "text": [
      "\n",
      "Generated Answer:\n",
      "Yes, the agreement allows the Receiving Party to share Confidential Information with their employees, but only \"to the extent that such employees have a specific need to know of the confidential information, for the evaluation of the proposed transaction.\" Additionally, those employees must have read the non-disclosure agreement and agreed to abide by its terms.\n",
      "\n",
      "Source Documents (3 retrieved):\n",
      "  --- Source 1 ---\n",
      "  Filename: DBT_20Mutual_20NDA.txt\n",
      "  Directory: corpus/contractnli/DBT_20Mutual_20NDA.txt\n",
      "  Chunk Num: 1\n",
      "  --- Source 2 ---\n",
      "  Filename: UALR-Standard-Non-disclosure-AgreementTemplate.txt\n",
      "  Directory: corpus/contractnli/UALR-Standard-Non-disclosure-AgreementTemplate.txt\n",
      "  Chunk Num: 3\n",
      "  --- Source 3 ---\n",
      "  Filename: DBT_20Mutual_20NDA.txt\n",
      "  Directory: corpus/contractnli/DBT_20Mutual_20NDA.txt\n",
      "  Chunk Num: 5\n",
      "\n",
      "Processing query: \"Consider DBT's Mutual Non-Disclosure Agreement; Does the document restrict the use of Confidential Information to the purposes stated in the Agreement?\"\n"
     ]
    },
    {
     "name": "stderr",
     "output_type": "stream",
     "text": [
      "Generating RAG answers:  19%|█▉        | 19/100 [00:57<03:16,  2.42s/it]"
     ]
    },
    {
     "name": "stdout",
     "output_type": "stream",
     "text": [
      "\n",
      "Generated Answer:\n",
      "Yes, the document restricts the use of Confidential Information to the purposes stated in the Agreement. Specifically, section 9.2 states that \"each party agrees not to use the confidential information of the other party for any purpose, including trading in the financial instruments of the other party, except in its performance under this agreement.\" Additionally, section 3 reinforces this by stating that the parties \"agree not to use the confidential information disclosed to it by the other party for its own use or for any purpose except to carry out discussions concerning and the undertaking of any business relationship between the two.\"\n",
      "\n",
      "Source Documents (3 retrieved):\n",
      "  --- Source 1 ---\n",
      "  Filename: DBT_20Mutual_20NDA.txt\n",
      "  Directory: corpus/contractnli/DBT_20Mutual_20NDA.txt\n",
      "  Chunk Num: 1\n",
      "  --- Source 2 ---\n",
      "  Filename: Apollo Endosurgery - Manufacturing and Supply Agreement.txt\n",
      "  Directory: corpus/cuad/Apollo Endosurgery - Manufacturing and Supply Agreement.txt\n",
      "  Chunk Num: 48\n",
      "  --- Source 3 ---\n",
      "  Filename: QuickBooks-NDA-template.txt\n",
      "  Directory: corpus/contractnli/QuickBooks-NDA-template.txt\n",
      "  Chunk Num: 6\n",
      "\n",
      "Processing query: \"Consider the Data Use Agreement in New York City; Does the document specify whether the Receiving Party is required to destroy or return Confidential Information upon the termination of the Agreement?\"\n"
     ]
    },
    {
     "name": "stderr",
     "output_type": "stream",
     "text": [
      "Generating RAG answers:  20%|██        | 20/100 [00:59<03:14,  2.43s/it]"
     ]
    },
    {
     "name": "stdout",
     "output_type": "stream",
     "text": [
      "\n",
      "Generated Answer:\n",
      "Yes, the document specifies that upon termination of the Agreement, the Receiving Party is required to either return or destroy the Confidential Information. Specifically, it states that \"upon termination of this agreement, the receiving party shall promptly return, or upon request of the disclosing party destroy and provide written certification of such destruction, all of the disclosing party's confidential information.\" Additionally, the Receiving Party may retain a reasonable number of archival copies as required by law or document retention policies, and may keep one copy for purposes such as addressing claims, complying with legal requirements, or archival purposes.\n",
      "\n",
      "Source Documents (3 retrieved):\n",
      "  --- Source 1 ---\n",
      "  Filename: SigaTechnologiesInc_20190603_8-K_EX-10.1_11695818_EX-10.1_Promotion Agreement.txt\n",
      "  Directory: corpus/cuad/SigaTechnologiesInc_20190603_8-K_EX-10.1_11695818_EX-10.1_Promotion Agreement.txt\n",
      "  Chunk Num: 154\n",
      "  --- Source 2 ---\n",
      "  Filename: Non-Disclosure-NDA-UW-Oshkosh_FINALV2.txt\n",
      "  Directory: corpus/contractnli/Non-Disclosure-NDA-UW-Oshkosh_FINALV2.txt\n",
      "  Chunk Num: 5\n",
      "  --- Source 3 ---\n",
      "  Filename: HarpoonTherapeuticsInc_20200312_10-K_EX-10.18_12051356_EX-10.18_Development Agreement.txt\n",
      "  Directory: corpus/cuad/HarpoonTherapeuticsInc_20200312_10-K_EX-10.18_12051356_EX-10.18_Development Agreement.txt\n",
      "  Chunk Num: 241\n",
      "\n",
      "Processing query: \"Consider the Data Use Agreement in New York City; Does the document indicate that the Agreement does not grant the Receiving Party any rights to the Confidential Information?\"\n"
     ]
    },
    {
     "name": "stderr",
     "output_type": "stream",
     "text": [
      "Generating RAG answers:  21%|██        | 21/100 [01:02<03:24,  2.59s/it]"
     ]
    },
    {
     "name": "stdout",
     "output_type": "stream",
     "text": [
      "\n",
      "Generated Answer:\n",
      "Yes, the document clearly indicates that the Agreement does not grant the Receiving Party any rights to the Confidential Information. It states that \"nothing in this agreement shall be construed as granting any rights to the receiving company or any of its representatives under any patent, copyright, trademark, trade secret, or other intellectual property right,\" and that \"any confidential information shall remain the property of the disclosing party.\" Additionally, the Agreement \"shall not be construed as granting or conferring to the receiving party... any license or proprietary interest in or to any confidential information nor any right of use beyond the purpose of this agreement.\"\n",
      "\n",
      "Source Documents (3 retrieved):\n",
      "  --- Source 1 ---\n",
      "  Filename: Data Use Agreement New York City.txt\n",
      "  Directory: corpus/contractnli/Data Use Agreement New York City.txt\n",
      "  Chunk Num: 30\n",
      "  --- Source 2 ---\n",
      "  Filename: QEP-Williston-Form-of-Confidentiality-Agreement-BMO.txt\n",
      "  Directory: corpus/contractnli/QEP-Williston-Form-of-Confidentiality-Agreement-BMO.txt\n",
      "  Chunk Num: 17\n",
      "  --- Source 3 ---\n",
      "  Filename: AzulSa_20170303_F-1A_EX-10.3_9943903_EX-10.3_Maintenance Agreement1.txt\n",
      "  Directory: corpus/cuad/AzulSa_20170303_F-1A_EX-10.3_9943903_EX-10.3_Maintenance Agreement1.txt\n",
      "  Chunk Num: 97\n",
      "\n",
      "Processing query: \"Consider the Data Use Agreement in New York City; Does the document mention that some obligations of the Agreement may survive the termination of the Agreement?\"\n"
     ]
    },
    {
     "name": "stderr",
     "output_type": "stream",
     "text": [
      "Generating RAG answers:  22%|██▏       | 22/100 [01:05<03:21,  2.58s/it]"
     ]
    },
    {
     "name": "stdout",
     "output_type": "stream",
     "text": [
      "\n",
      "Generated Answer:\n",
      "Yes, the document mentions that some obligations of the Agreement may survive termination. Specifically, it states \"the provisions of this section 10.4 shall survive the termination of this agreement,\" and section 10.8 notes that \"the provisions of sections 3.6, 4, 6, 8, 9 and 11 shall survive any termination of this agreement.\" Additionally, section 8.9 states that \"expiration or termination of the agreement shall not relieve the parties of any obligation accruing before such expiration or termination,\" and lists several sections whose provisions \"shall survive the expiration of the agreement.\"\n",
      "\n",
      "Source Documents (3 retrieved):\n",
      "  --- Source 1 ---\n",
      "  Filename: SimplicityEsportsGamingCompany_20181130_8-K_EX-10.1_11444071_EX-10.1_Franchise Agreement.txt\n",
      "  Directory: corpus/cuad/SimplicityEsportsGamingCompany_20181130_8-K_EX-10.1_11444071_EX-10.1_Franchise Agreement.txt\n",
      "  Chunk Num: 33\n",
      "  --- Source 2 ---\n",
      "  Filename: CARDAX,INC_08_19_2014-EX-10.1-COLLABORATION AGREEMENT.txt\n",
      "  Directory: corpus/cuad/CARDAX,INC_08_19_2014-EX-10.1-COLLABORATION AGREEMENT.txt\n",
      "  Chunk Num: 60\n",
      "  --- Source 3 ---\n",
      "  Filename: ExactSciencesCorp_20180822_8-K_EX-10.1_11331629_EX-10.1_Promotion Agreement.txt\n",
      "  Directory: corpus/cuad/ExactSciencesCorp_20180822_8-K_EX-10.1_11331629_EX-10.1_Promotion Agreement.txt\n",
      "  Chunk Num: 235\n",
      "\n",
      "Processing query: \"Consider the Data Use Agreement in New York City; Does the document permit the Receiving Party to retain some Confidential Information even after its return or destruction?\"\n"
     ]
    },
    {
     "name": "stderr",
     "output_type": "stream",
     "text": [
      "Generating RAG answers:  23%|██▎       | 23/100 [01:07<03:18,  2.57s/it]"
     ]
    },
    {
     "name": "stdout",
     "output_type": "stream",
     "text": [
      "\n",
      "Generated Answer:\n",
      "Yes, the document permits the Receiving Party to retain some Confidential Information even after its return or destruction. Specifically, it states that the Receiving Party \"may retain a reasonable number of archival copies as may be required by law or its reasonable standard document retention policies\" (section 10.6) and \"may keep copies of all confidential information within its ordinary legal archives (including its back-up systems)\" (section 11.5). Additionally, under section 4.09, the Receiving Party may retain documents and materials necessary for beneficial use of a further project or license, provided it notifies the Disclosing Party in writing.\n",
      "\n",
      "Source Documents (3 retrieved):\n",
      "  --- Source 1 ---\n",
      "  Filename: SigaTechnologiesInc_20190603_8-K_EX-10.1_11695818_EX-10.1_Promotion Agreement.txt\n",
      "  Directory: corpus/cuad/SigaTechnologiesInc_20190603_8-K_EX-10.1_11695818_EX-10.1_Promotion Agreement.txt\n",
      "  Chunk Num: 154\n",
      "  --- Source 2 ---\n",
      "  Filename: FuelcellEnergyInc_20191106_8-K_EX-10.1_11868007_EX-10.1_Development Agreement.txt\n",
      "  Directory: corpus/cuad/FuelcellEnergyInc_20191106_8-K_EX-10.1_11868007_EX-10.1_Development Agreement.txt\n",
      "  Chunk Num: 23\n",
      "  --- Source 3 ---\n",
      "  Filename: CoherusBiosciencesInc_20200227_10-K_EX-10.29_12021376_EX-10.29_Development Agreement.txt\n",
      "  Directory: corpus/cuad/CoherusBiosciencesInc_20200227_10-K_EX-10.29_12021376_EX-10.29_Development Agreement.txt\n",
      "  Chunk Num: 129\n",
      "\n",
      "Processing query: \"Consider the Data Use Agreement in New York City; Does the document allow the Receiving Party to share some Confidential Information with third parties, including consultants, agents, and professional advisors?\"\n"
     ]
    },
    {
     "name": "stderr",
     "output_type": "stream",
     "text": [
      "Generating RAG answers:  24%|██▍       | 24/100 [01:11<03:44,  2.95s/it]"
     ]
    },
    {
     "name": "stdout",
     "output_type": "stream",
     "text": [
      "\n",
      "Generated Answer:\n",
      "Yes, the agreement allows the Receiving Party to share Confidential Information with third parties such as advisors, affiliates, agents, assigns, attorneys, employees, directors, officers, and members (\"agents\") who have a need-to-know the confidential information for the purposes of analyzing, implementing, or completing the transactions. However, the Receiving Party must require all such recipients to be bound by the terms of the agreement and remains responsible for any breach by these agents. This is stated in the clause: \"confidential information shall not be disclosed without prior written consent of disclosing party, except to those advisors, affiliates, agents, assigns, attorneys, employees, directors, officers and or members ('agents') with a need-to-know... receiving party shall require all recipients of the confidential information to be bound by the terms of this agreement.\"\n",
      "\n",
      "Source Documents (3 retrieved):\n",
      "  --- Source 1 ---\n",
      "  Filename: Data Use Agreement New York City.txt\n",
      "  Directory: corpus/contractnli/Data Use Agreement New York City.txt\n",
      "  Chunk Num: 30\n",
      "  --- Source 2 ---\n",
      "  Filename: Data Use Agreement New York City.txt\n",
      "  Directory: corpus/contractnli/Data Use Agreement New York City.txt\n",
      "  Chunk Num: 1\n",
      "  --- Source 3 ---\n",
      "  Filename: SE_NDCA_and_PRE-QUAL_PACKAGE_March-2016.txt\n",
      "  Directory: corpus/contractnli/SE_NDCA_and_PRE-QUAL_PACKAGE_March-2016.txt\n",
      "  Chunk Num: 6\n",
      "\n",
      "Processing query: \"Consider the Data Use Agreement in New York City; Does the document permit the Receiving Party to create a copy of some Confidential Information under certain circumstances?\"\n"
     ]
    },
    {
     "name": "stderr",
     "output_type": "stream",
     "text": [
      "Generating RAG answers:  25%|██▌       | 25/100 [01:13<03:09,  2.52s/it]"
     ]
    },
    {
     "name": "stdout",
     "output_type": "stream",
     "text": [
      "\n",
      "Generated Answer:\n",
      "The provided context does not specify whether the Receiving Party is permitted to create a copy of some Confidential Information under certain circumstances. Therefore, based on the information given, I do not know if the document allows this.\n",
      "\n",
      "Source Documents (3 retrieved):\n",
      "  --- Source 1 ---\n",
      "  Filename: Data Use Agreement New York City.txt\n",
      "  Directory: corpus/contractnli/Data Use Agreement New York City.txt\n",
      "  Chunk Num: 30\n",
      "  --- Source 2 ---\n",
      "  Filename: Data Use Agreement New York City.txt\n",
      "  Directory: corpus/contractnli/Data Use Agreement New York City.txt\n",
      "  Chunk Num: 1\n",
      "  --- Source 3 ---\n",
      "  Filename: Data Use Agreement New York City.txt\n",
      "  Directory: corpus/contractnli/Data Use Agreement New York City.txt\n",
      "  Chunk Num: 31\n",
      "\n",
      "Processing query: \"Consider the Data Use Agreement in New York City; Does the document allow the Receiving Party to share some Confidential Information with their employees?\"\n"
     ]
    },
    {
     "name": "stderr",
     "output_type": "stream",
     "text": [
      "Generating RAG answers:  26%|██▌       | 26/100 [01:14<02:47,  2.27s/it]"
     ]
    },
    {
     "name": "stdout",
     "output_type": "stream",
     "text": [
      "\n",
      "Generated Answer:\n",
      "Yes, the document allows the Receiving Party to share confidential information with their employees, but only \"to those employees who need to know such information\" and provided that those employees \"have previously agreed, either as a condition to employment or in order to obtain the confidential information, to be bound by terms and conditions substantially similar to those of this agreement.\"\n",
      "\n",
      "Source Documents (3 retrieved):\n",
      "  --- Source 1 ---\n",
      "  Filename: Data Use Agreement New York City.txt\n",
      "  Directory: corpus/contractnli/Data Use Agreement New York City.txt\n",
      "  Chunk Num: 1\n",
      "  --- Source 2 ---\n",
      "  Filename: Data Use Agreement New York City.txt\n",
      "  Directory: corpus/contractnli/Data Use Agreement New York City.txt\n",
      "  Chunk Num: 30\n",
      "  --- Source 3 ---\n",
      "  Filename: DBT_20Mutual_20NDA.txt\n",
      "  Directory: corpus/contractnli/DBT_20Mutual_20NDA.txt\n",
      "  Chunk Num: 5\n",
      "\n",
      "Processing query: \"Consider the Data Use Agreement in New York City; Does the document restrict the use of Confidential Information to the purposes stated in the Agreement?\"\n"
     ]
    },
    {
     "name": "stderr",
     "output_type": "stream",
     "text": [
      "Generating RAG answers:  27%|██▋       | 27/100 [01:18<03:17,  2.71s/it]"
     ]
    },
    {
     "name": "stdout",
     "output_type": "stream",
     "text": [
      "\n",
      "Generated Answer:\n",
      "Yes, the document restricts the use of data to the purposes stated in the Agreement. Specifically, it states that the data recipient \"desires to use the data for public educational or research purposes that have been approved by the dohmh,\" indicating that use is limited to approved purposes. Additionally, the interpretation clause (e) emphasizes resolving ambiguities in favor of maintaining the confidentiality and security of the data, reinforcing restricted use.\n",
      "\n",
      "Source Documents (3 retrieved):\n",
      "  --- Source 1 ---\n",
      "  Filename: Data Use Agreement New York City.txt\n",
      "  Directory: corpus/contractnli/Data Use Agreement New York City.txt\n",
      "  Chunk Num: 30\n",
      "  --- Source 2 ---\n",
      "  Filename: Data Use Agreement New York City.txt\n",
      "  Directory: corpus/contractnli/Data Use Agreement New York City.txt\n",
      "  Chunk Num: 1\n",
      "  --- Source 3 ---\n",
      "  Filename: Data Use Agreement New York City.txt\n",
      "  Directory: corpus/contractnli/Data Use Agreement New York City.txt\n",
      "  Chunk Num: 31\n",
      "\n",
      "Processing query: \"Consider the Non-Disclosure Agreement between DoiT and ICN; Does the document specify whether the Receiving Party is required to destroy or return Confidential Information upon the termination of the Agreement?\"\n"
     ]
    },
    {
     "name": "stderr",
     "output_type": "stream",
     "text": [
      "Generating RAG answers:  28%|██▊       | 28/100 [01:21<03:28,  2.90s/it]"
     ]
    },
    {
     "name": "stdout",
     "output_type": "stream",
     "text": [
      "\n",
      "Generated Answer:\n",
      "Yes, the document specifies that upon termination of the Agreement, the Receiving Party is required to \"promptly return, or upon request of the disclosing party destroy and provide written certification of such destruction, all of the disclosing party's confidential information,\" except that the Receiving Party may retain a reasonable number of archival copies as required by law or document retention policies. Additionally, the Receiving Party's designated representative may maintain one copy for addressing claims or legal requirements. This is reflected in clauses such as \"10.6 return of confidential information\" and section 4, as well as in section 9.3 which states each party \"will promptly return all confidential information... upon expiration or termination of this agreement.\"\n",
      "\n",
      "Source Documents (3 retrieved):\n",
      "  --- Source 1 ---\n",
      "  Filename: SigaTechnologiesInc_20190603_8-K_EX-10.1_11695818_EX-10.1_Promotion Agreement.txt\n",
      "  Directory: corpus/cuad/SigaTechnologiesInc_20190603_8-K_EX-10.1_11695818_EX-10.1_Promotion Agreement.txt\n",
      "  Chunk Num: 154\n",
      "  --- Source 2 ---\n",
      "  Filename: Non-Disclosure-NDA-UW-Oshkosh_FINALV2.txt\n",
      "  Directory: corpus/contractnli/Non-Disclosure-NDA-UW-Oshkosh_FINALV2.txt\n",
      "  Chunk Num: 5\n",
      "  --- Source 3 ---\n",
      "  Filename: WaterNowInc_20191120_10-Q_EX-10.12_11900227_EX-10.12_Distributor Agreement.txt\n",
      "  Directory: corpus/cuad/WaterNowInc_20191120_10-Q_EX-10.12_11900227_EX-10.12_Distributor Agreement.txt\n",
      "  Chunk Num: 44\n",
      "\n",
      "Processing query: \"Consider the Non-Disclosure Agreement between DoiT and ICN; Does the document indicate that the Agreement does not grant the Receiving Party any rights to the Confidential Information?\"\n"
     ]
    },
    {
     "name": "stderr",
     "output_type": "stream",
     "text": [
      "Generating RAG answers:  29%|██▉       | 29/100 [01:24<03:11,  2.69s/it]"
     ]
    },
    {
     "name": "stdout",
     "output_type": "stream",
     "text": [
      "\n",
      "Generated Answer:\n",
      "Yes, the document explicitly states that \"nothing contained in this non-disclosure agreement shall, by express grant, implication, estoppel or otherwise, create in either party any right, title, interest, or license in or to the proprietary information, inventions, patents, technical data, computer software, or software documentation of the other party.\" This indicates that the Agreement does not grant the Receiving Party any rights to the Confidential Information.\n",
      "\n",
      "Source Documents (3 retrieved):\n",
      "  --- Source 1 ---\n",
      "  Filename: UALR-Standard-Non-disclosure-AgreementTemplate.txt\n",
      "  Directory: corpus/contractnli/UALR-Standard-Non-disclosure-AgreementTemplate.txt\n",
      "  Chunk Num: 3\n",
      "  --- Source 2 ---\n",
      "  Filename: lti-two-way-cda-template.txt\n",
      "  Directory: corpus/contractnli/lti-two-way-cda-template.txt\n",
      "  Chunk Num: 9\n",
      "  --- Source 3 ---\n",
      "  Filename: amc-general-mutual-non-disclosure-agreement-en-gb.txt\n",
      "  Directory: corpus/contractnli/amc-general-mutual-non-disclosure-agreement-en-gb.txt\n",
      "  Chunk Num: 5\n",
      "\n",
      "Processing query: \"Consider the Non-Disclosure Agreement between DoiT and ICN; Does the document state that Confidential Information shall only include technical information?\"\n"
     ]
    },
    {
     "name": "stderr",
     "output_type": "stream",
     "text": [
      "Generating RAG answers:  30%|███       | 30/100 [01:26<02:56,  2.52s/it]"
     ]
    },
    {
     "name": "stdout",
     "output_type": "stream",
     "text": [
      "\n",
      "Generated Answer:\n",
      "No, the document does not state that Confidential Information shall only include technical information. It explicitly includes a broad range of information such as business plans, financial information, customer lists, marketing information, software products, and other non-public information. For example, one section defines confidential information to include \"technical, financial, business plan and customer information,\" and another states it includes \"all business and technical information\" as well as information the disclosing party considers confidential.\n",
      "\n",
      "Source Documents (3 retrieved):\n",
      "  --- Source 1 ---\n",
      "  Filename: DBT_20Mutual_20NDA.txt\n",
      "  Directory: corpus/contractnli/DBT_20Mutual_20NDA.txt\n",
      "  Chunk Num: 2\n",
      "  --- Source 2 ---\n",
      "  Filename: NDA-Seeed.txt\n",
      "  Directory: corpus/contractnli/NDA-Seeed.txt\n",
      "  Chunk Num: 3\n",
      "  --- Source 3 ---\n",
      "  Filename: BIOFRONTERAAG_04_29_2019-EX-4.17-SUPPLY AGREEMENT.txt\n",
      "  Directory: corpus/cuad/BIOFRONTERAAG_04_29_2019-EX-4.17-SUPPLY AGREEMENT.txt\n",
      "  Chunk Num: 5\n",
      "\n",
      "Processing query: \"Consider the Non-Disclosure Agreement between DoiT and ICN; Does the document mention that some obligations of the Agreement may survive the termination of the Agreement?\"\n"
     ]
    },
    {
     "name": "stderr",
     "output_type": "stream",
     "text": [
      "Generating RAG answers:  31%|███       | 31/100 [01:29<03:17,  2.86s/it]"
     ]
    },
    {
     "name": "stdout",
     "output_type": "stream",
     "text": [
      "\n",
      "Generated Answer:\n",
      "Yes, the document mentions that some obligations of the Agreement may survive termination. Specifically, it states that \"the receiving party's confidentiality obligations under this article 9 shall survive the termination of this agreement,\" and these obligations \"shall remain binding... until the earlier of a) the confidential information falls within one of the exceptions stated in section 9.1 and b) five (5) years from the expiration or termination of the agreement.\" Additionally, \"the confidentiality obligations contained in this article 9 shall survive termination of this agreement for a period of three (3) years,\" and \"the provisions of sections 3.3, 4.2, 5.1, 8.1 and 10.6 of this agreement shall survive any termination.\"\n",
      "\n",
      "Source Documents (3 retrieved):\n",
      "  --- Source 1 ---\n",
      "  Filename: Apollo Endosurgery - Manufacturing and Supply Agreement.txt\n",
      "  Directory: corpus/cuad/Apollo Endosurgery - Manufacturing and Supply Agreement.txt\n",
      "  Chunk Num: 49\n",
      "  --- Source 2 ---\n",
      "  Filename: LeadersonlineInc_20000427_S-1A_EX-10.8_4991089_EX-10.8_Co-Branding Agreement.txt\n",
      "  Directory: corpus/cuad/LeadersonlineInc_20000427_S-1A_EX-10.8_4991089_EX-10.8_Co-Branding Agreement.txt\n",
      "  Chunk Num: 37\n",
      "  --- Source 3 ---\n",
      "  Filename: NATIONALPROCESSINGINC_07_18_1996-EX-10.4-SPONSORSHIP AGREEMENT.txt\n",
      "  Directory: corpus/cuad/NATIONALPROCESSINGINC_07_18_1996-EX-10.4-SPONSORSHIP AGREEMENT.txt\n",
      "  Chunk Num: 28\n",
      "\n",
      "Processing query: \"Consider the Non-Disclosure Agreement between DoiT and ICN; Does the document allow the Receiving Party to independently develop information that is similar to the Confidential Information?\"\n"
     ]
    },
    {
     "name": "stderr",
     "output_type": "stream",
     "text": [
      "Generating RAG answers:  32%|███▏      | 32/100 [01:32<03:01,  2.67s/it]"
     ]
    },
    {
     "name": "stdout",
     "output_type": "stream",
     "text": [
      "\n",
      "Generated Answer:\n",
      "Yes, the agreement allows the Receiving Party to independently develop information that is similar to the Confidential Information. Specifically, clause 4 states that \"the terms of this agreement shall not be construed to limit either party's right to develop independently or acquire products without use of the other party's confidential information.\" Additionally, clause 19.6 confirms that \"nothing in this agreement will prohibit any party or its representatives from developing, manufacturing, marketing, selling, servicing, or supporting... products, concepts, systems, or techniques that are similar to or compete with the products, concepts, systems, or techniques contemplated by or embodied in the other party's confidential information; provided, that neither party nor its representatives may use the other party's confidential information in connection with such activities.\"\n",
      "\n",
      "Source Documents (3 retrieved):\n",
      "  --- Source 1 ---\n",
      "  Filename: Roundhouse-Creative-Mutual-NDA.txt\n",
      "  Directory: corpus/contractnli/Roundhouse-Creative-Mutual-NDA.txt\n",
      "  Chunk Num: 6\n",
      "  --- Source 2 ---\n",
      "  Filename: PHREESIA,INC_05_28_2019-EX-10.18-STRATEGIC ALLIANCE AGREEMENT.txt\n",
      "  Directory: corpus/cuad/PHREESIA,INC_05_28_2019-EX-10.18-STRATEGIC ALLIANCE AGREEMENT.txt\n",
      "  Chunk Num: 113\n",
      "  --- Source 3 ---\n",
      "  Filename: wayne-fueling-systems-mutual-non-disclosure-agreement-final.txt\n",
      "  Directory: corpus/contractnli/wayne-fueling-systems-mutual-non-disclosure-agreement-final.txt\n",
      "  Chunk Num: 8\n",
      "\n",
      "Processing query: \"Consider the Non-Disclosure Agreement between DoiT and ICN; Does the document allow the Receiving Party to share some Confidential Information with third parties, including consultants, agents, and professional advisors?\"\n"
     ]
    },
    {
     "name": "stderr",
     "output_type": "stream",
     "text": [
      "Generating RAG answers:  33%|███▎      | 33/100 [01:36<03:31,  3.16s/it]"
     ]
    },
    {
     "name": "stdout",
     "output_type": "stream",
     "text": [
      "\n",
      "Generated Answer:\n",
      "Yes, the Non-Disclosure Agreement allows the Receiving Party to share Confidential Information with third parties such as consultants, agents, and professional advisors, but only under specific conditions. The information may be disclosed \"only to the extent required to accomplish the purposes of this agreement\" and only after the Receiving Party obtains prior agreement from those third parties \"to hold in confidence and not to make use of such information for any purpose other than that permitted by this agreement.\" Additionally, the Receiving Party must ensure these third parties are bound by terms substantially similar to the agreement and is responsible for any breach by them. This is supported by phrases such as:\n",
      "\n",
      "- \"information provided under this agreement may be disclosed to employees, agents or consultants of the receiving party, but only to the extent required to accomplish the purposes of this agreement and only after the receiving party obtains the prior agreement of its employees, agents and consultants to whom disclosure is to be made to hold in confidence...\"\n",
      "- \"recipient will not disclose any confidential information to third parties except those directors, officers, employees, consultants and agents of recipient who are required to have the information...\"\n",
      "- \"confidential information shall not be disclosed without prior written consent of disclosing party, except to those advisors, affiliates, agents... with a need-to-know... Receiving party shall require all recipients... to be bound by the terms of this agreement.\"\n",
      "\n",
      "Source Documents (3 retrieved):\n",
      "  --- Source 1 ---\n",
      "  Filename: Microgenics Corporation - Collaborative Development and Commercialization Agreement.txt\n",
      "  Directory: corpus/cuad/Microgenics Corporation - Collaborative Development and Commercialization Agreement.txt\n",
      "  Chunk Num: 155\n",
      "  --- Source 2 ---\n",
      "  Filename: NDA-M5-Systems.txt\n",
      "  Directory: corpus/contractnli/NDA-M5-Systems.txt\n",
      "  Chunk Num: 4\n",
      "  --- Source 3 ---\n",
      "  Filename: SE_NDCA_and_PRE-QUAL_PACKAGE_March-2016.txt\n",
      "  Directory: corpus/contractnli/SE_NDCA_and_PRE-QUAL_PACKAGE_March-2016.txt\n",
      "  Chunk Num: 6\n",
      "\n",
      "Processing query: \"Consider the Non-Disclosure Agreement between DoiT and ICN; Does the document allow the Receiving Party to acquire information similar to the Confidential Information from a third party?\"\n"
     ]
    },
    {
     "name": "stderr",
     "output_type": "stream",
     "text": [
      "Generating RAG answers:  34%|███▍      | 34/100 [01:38<03:12,  2.91s/it]"
     ]
    },
    {
     "name": "stdout",
     "output_type": "stream",
     "text": [
      "\n",
      "Generated Answer:\n",
      "Yes, the Non-Disclosure Agreement allows the Receiving Party to acquire information similar to the Confidential Information from a third party, provided that the third party is not under an obligation of confidentiality. This is supported by the clauses stating confidential information does not include information \"received from a third party not under an obligation of confidence to receiving party\" and \"the receiving party lawfully receives from a third party without restriction on disclosure and without breach of a nondisclosure obligation.\"\n",
      "\n",
      "Source Documents (3 retrieved):\n",
      "  --- Source 1 ---\n",
      "  Filename: UALR-Standard-Non-disclosure-AgreementTemplate.txt\n",
      "  Directory: corpus/contractnli/UALR-Standard-Non-disclosure-AgreementTemplate.txt\n",
      "  Chunk Num: 3\n",
      "  --- Source 2 ---\n",
      "  Filename: IdeanomicsInc_20160330_10-K_EX-10.26_9512211_EX-10.26_Content License Agreement.txt\n",
      "  Directory: corpus/cuad/IdeanomicsInc_20160330_10-K_EX-10.26_9512211_EX-10.26_Content License Agreement.txt\n",
      "  Chunk Num: 40\n",
      "  --- Source 3 ---\n",
      "  Filename: lti-two-way-cda-template.txt\n",
      "  Directory: corpus/contractnli/lti-two-way-cda-template.txt\n",
      "  Chunk Num: 5\n",
      "\n",
      "Processing query: \"Consider the Non-Disclosure Agreement between DoiT and ICN; Does the document allow the Receiving Party to share some Confidential Information with their employees?\"\n"
     ]
    },
    {
     "name": "stderr",
     "output_type": "stream",
     "text": [
      "Generating RAG answers:  35%|███▌      | 35/100 [01:41<03:08,  2.90s/it]"
     ]
    },
    {
     "name": "stdout",
     "output_type": "stream",
     "text": [
      "\n",
      "Generated Answer:\n",
      "Yes, the Non-Disclosure Agreement allows the Receiving Party to share some Confidential Information with their employees, but only under specific conditions. The information may be disclosed \"only to the extent that such employees have a specific need to know of the confidential information, for the evaluation of the proposed transaction,\" and those employees must \"read this non-disclosure agreement and... acknowledge and agree to abide by the receiving party's obligations hereunder.\" Additionally, disclosure is permitted \"only to the extent required to accomplish the purposes of this agreement and only after the receiving party obtains the prior agreement of its employees... to hold in confidence and not to make use of such information for any purpose other than that permitted by this agreement.\"\n",
      "\n",
      "Source Documents (3 retrieved):\n",
      "  --- Source 1 ---\n",
      "  Filename: UALR-Standard-Non-disclosure-AgreementTemplate.txt\n",
      "  Directory: corpus/contractnli/UALR-Standard-Non-disclosure-AgreementTemplate.txt\n",
      "  Chunk Num: 3\n",
      "  --- Source 2 ---\n",
      "  Filename: QuickBooks-NDA-template.txt\n",
      "  Directory: corpus/contractnli/QuickBooks-NDA-template.txt\n",
      "  Chunk Num: 6\n",
      "  --- Source 3 ---\n",
      "  Filename: Microgenics Corporation - Collaborative Development and Commercialization Agreement.txt\n",
      "  Directory: corpus/cuad/Microgenics Corporation - Collaborative Development and Commercialization Agreement.txt\n",
      "  Chunk Num: 155\n",
      "\n",
      "Processing query: \"Consider the Non-Disclosure Agreement between DoiT and ICN; Does the document restrict the use of Confidential Information to the purposes stated in the Agreement?\"\n"
     ]
    },
    {
     "name": "stderr",
     "output_type": "stream",
     "text": [
      "Generating RAG answers:  36%|███▌      | 36/100 [01:43<02:49,  2.65s/it]"
     ]
    },
    {
     "name": "stdout",
     "output_type": "stream",
     "text": [
      "\n",
      "Generated Answer:\n",
      "Yes, the Non-Disclosure Agreement restricts the use of Confidential Information to the purposes stated in the Agreement. Specifically, it states that confidential information \"shall not be used for any other purpose\" than the authorized purpose, and the recipient \"agrees not to use the confidential information for any purpose other than that set forth in section 1 of this agreement.\"\n",
      "\n",
      "Source Documents (3 retrieved):\n",
      "  --- Source 1 ---\n",
      "  Filename: NDA-ONSemi_IndustryAnalystConf-2011.txt\n",
      "  Directory: corpus/contractnli/NDA-ONSemi_IndustryAnalystConf-2011.txt\n",
      "  Chunk Num: 4\n",
      "  --- Source 2 ---\n",
      "  Filename: NDA-M5-Systems.txt\n",
      "  Directory: corpus/contractnli/NDA-M5-Systems.txt\n",
      "  Chunk Num: 4\n",
      "  --- Source 3 ---\n",
      "  Filename: QuickBooks-NDA-template.txt\n",
      "  Directory: corpus/contractnli/QuickBooks-NDA-template.txt\n",
      "  Chunk Num: 6\n",
      "\n",
      "Processing query: \"Consider EFCA's Non-Disclosure Agreement; Does the document indicate that the Agreement does not grant the Receiving Party any rights to the Confidential Information?\"\n"
     ]
    },
    {
     "name": "stderr",
     "output_type": "stream",
     "text": [
      "Generating RAG answers:  37%|███▋      | 37/100 [01:45<02:38,  2.51s/it]"
     ]
    },
    {
     "name": "stdout",
     "output_type": "stream",
     "text": [
      "\n",
      "Generated Answer:\n",
      "Yes, the document explicitly states that the Agreement does not grant the Receiving Party any rights to the Confidential Information. Specifically, clause 4.2 provides that \"the disclosing party reserves all rights in its confidential information and no rights or obligations other than those expressly recited herein are granted or to be implied from this agreement.\" It further clarifies that \"no licence is hereby granted directly or indirectly under any patent, invention, discovery, copyright or other industrial property right now or in the future held, made, obtained or licensable by the other party.\"\n",
      "\n",
      "Source Documents (3 retrieved):\n",
      "  --- Source 1 ---\n",
      "  Filename: EFCAConfidentialityAgreement.txt\n",
      "  Directory: corpus/contractnli/EFCAConfidentialityAgreement.txt\n",
      "  Chunk Num: 6\n",
      "  --- Source 2 ---\n",
      "  Filename: EFCAConfidentialityAgreement.txt\n",
      "  Directory: corpus/contractnli/EFCAConfidentialityAgreement.txt\n",
      "  Chunk Num: 2\n",
      "  --- Source 3 ---\n",
      "  Filename: EFCAConfidentialityAgreement.txt\n",
      "  Directory: corpus/contractnli/EFCAConfidentialityAgreement.txt\n",
      "  Chunk Num: 5\n",
      "\n",
      "Processing query: \"Consider EFCA's Non-Disclosure Agreement; Does the document include a clause that prevents the Receiving Party from disclosing the fact that the Agreement was agreed upon or negotiated?\"\n"
     ]
    },
    {
     "name": "stderr",
     "output_type": "stream",
     "text": [
      "Generating RAG answers:  38%|███▊      | 38/100 [01:48<02:33,  2.47s/it]"
     ]
    },
    {
     "name": "stdout",
     "output_type": "stream",
     "text": [
      "\n",
      "Generated Answer:\n",
      "Yes, the document includes such a clause. Specifically, clause 5 states that \"EFCA agrees to keep the existence and nature of this agreement confidential and not to use the same or the name of the disclosing party... in any publicity, advertisement or other disclosure with regard to this agreement without the prior written consent of the disclosing party.\" This prevents the Receiving Party from disclosing that the Agreement was agreed upon or negotiated without prior written consent.\n",
      "\n",
      "Source Documents (3 retrieved):\n",
      "  --- Source 1 ---\n",
      "  Filename: Sonos, Inc. - Manufacturing Agreement .txt\n",
      "  Directory: corpus/cuad/Sonos, Inc. - Manufacturing Agreement .txt\n",
      "  Chunk Num: 81\n",
      "  --- Source 2 ---\n",
      "  Filename: ADVANIDE-NON-DISCLOSURE-AGREEMENT.txt\n",
      "  Directory: corpus/contractnli/ADVANIDE-NON-DISCLOSURE-AGREEMENT.txt\n",
      "  Chunk Num: 5\n",
      "  --- Source 3 ---\n",
      "  Filename: EFCAConfidentialityAgreement.txt\n",
      "  Directory: corpus/contractnli/EFCAConfidentialityAgreement.txt\n",
      "  Chunk Num: 6\n",
      "\n",
      "Processing query: \"Consider EFCA's Non-Disclosure Agreement; Does the document state that Confidential Information shall only include technical information?\"\n"
     ]
    },
    {
     "name": "stderr",
     "output_type": "stream",
     "text": [
      "Generating RAG answers:  39%|███▉      | 39/100 [01:50<02:21,  2.32s/it]"
     ]
    },
    {
     "name": "stdout",
     "output_type": "stream",
     "text": [
      "\n",
      "Generated Answer:\n",
      "No, EFCA's Non-Disclosure Agreement does not state that Confidential Information shall only include technical information. The definition includes a broad range of information such as \"data, know-how, formulae, recipes, processes, designs and design rights, photographs, drawings, plans, intentions, product information, trade secrets, market opportunities, specifications, manufacturing data,\" which goes beyond just technical information.\n",
      "\n",
      "Source Documents (3 retrieved):\n",
      "  --- Source 1 ---\n",
      "  Filename: EFCAConfidentialityAgreement.txt\n",
      "  Directory: corpus/contractnli/EFCAConfidentialityAgreement.txt\n",
      "  Chunk Num: 2\n",
      "  --- Source 2 ---\n",
      "  Filename: ENTRUSTINC_07_24_1998-EX-10.5-STRATEGIC ALLIANCE AGREEMENT.txt\n",
      "  Directory: corpus/cuad/ENTRUSTINC_07_24_1998-EX-10.5-STRATEGIC ALLIANCE AGREEMENT.txt\n",
      "  Chunk Num: 38\n",
      "  --- Source 3 ---\n",
      "  Filename: NDA-Seeed.txt\n",
      "  Directory: corpus/contractnli/NDA-Seeed.txt\n",
      "  Chunk Num: 3\n",
      "\n",
      "Processing query: \"Consider EFCA's Non-Disclosure Agreement; Does the document mention that some obligations of the Agreement may survive the termination of the Agreement?\"\n"
     ]
    },
    {
     "name": "stderr",
     "output_type": "stream",
     "text": [
      "Generating RAG answers:  40%|████      | 40/100 [01:52<02:27,  2.46s/it]"
     ]
    },
    {
     "name": "stdout",
     "output_type": "stream",
     "text": [
      "\n",
      "Generated Answer:\n",
      "Yes, the document states that \"the receiving party's confidentiality obligations under this article 9 shall survive the termination of this agreement,\" and that \"the provisions of sections ... 7 (confidentiality; publicity); 8 (term and termination) and 9 (miscellaneous) inclusive, shall survive the expiration of the agreement.\" It also specifies that \"expiration or termination of the agreement shall not relieve the parties of any obligation accruing before such expiration or termination.\"\n",
      "\n",
      "Source Documents (3 retrieved):\n",
      "  --- Source 1 ---\n",
      "  Filename: Apollo Endosurgery - Manufacturing and Supply Agreement.txt\n",
      "  Directory: corpus/cuad/Apollo Endosurgery - Manufacturing and Supply Agreement.txt\n",
      "  Chunk Num: 49\n",
      "  --- Source 2 ---\n",
      "  Filename: ExactSciencesCorp_20180822_8-K_EX-10.1_11331629_EX-10.1_Promotion Agreement.txt\n",
      "  Directory: corpus/cuad/ExactSciencesCorp_20180822_8-K_EX-10.1_11331629_EX-10.1_Promotion Agreement.txt\n",
      "  Chunk Num: 235\n",
      "  --- Source 3 ---\n",
      "  Filename: People_s United Financial, Inc._M_T Bank Corporation.txt\n",
      "  Directory: corpus/maud/People_s United Financial, Inc._M_T Bank Corporation.txt\n",
      "  Chunk Num: 443\n",
      "\n",
      "Processing query: \"Consider EFCA's Non-Disclosure Agreement; Does the document allow the Receiving Party to independently develop information that is similar to the Confidential Information?\"\n"
     ]
    },
    {
     "name": "stderr",
     "output_type": "stream",
     "text": [
      "Generating RAG answers:  41%|████      | 41/100 [01:56<02:42,  2.75s/it]"
     ]
    },
    {
     "name": "stdout",
     "output_type": "stream",
     "text": [
      "\n",
      "Generated Answer:\n",
      "Yes, the document allows the Receiving Party to independently develop information that is similar to the Confidential Information. Specifically, section 19.6 states that \"nothing in this agreement will prohibit any party or its representatives from developing, manufacturing, marketing, selling, servicing, or supporting... products, concepts, systems, or techniques that are similar to or compete with the products, concepts, systems, or techniques contemplated by or embodied in the other party's confidential information; provided, that neither party nor its representatives may use the other party's confidential information in connection with such activities.\" Additionally, clause (e) notes that information \"independently discovered or developed by or on behalf of the receiving party... without the application or use of confidential information belonging to the disclosing party\" is not restricted.\n",
      "\n",
      "Source Documents (3 retrieved):\n",
      "  --- Source 1 ---\n",
      "  Filename: CytodynInc_20200109_10-Q_EX-10.5_11941634_EX-10.5_License Agreement.txt\n",
      "  Directory: corpus/cuad/CytodynInc_20200109_10-Q_EX-10.5_11941634_EX-10.5_License Agreement.txt\n",
      "  Chunk Num: 138\n",
      "  --- Source 2 ---\n",
      "  Filename: LiiON_20NDA_202-27-2015_20v1.0.txt\n",
      "  Directory: corpus/contractnli/LiiON_20NDA_202-27-2015_20v1.0.txt\n",
      "  Chunk Num: 8\n",
      "  --- Source 3 ---\n",
      "  Filename: PHREESIA,INC_05_28_2019-EX-10.18-STRATEGIC ALLIANCE AGREEMENT.txt\n",
      "  Directory: corpus/cuad/PHREESIA,INC_05_28_2019-EX-10.18-STRATEGIC ALLIANCE AGREEMENT.txt\n",
      "  Chunk Num: 113\n",
      "\n",
      "Processing query: \"Consider EFCA's Non-Disclosure Agreement; Does the document permit the Receiving Party to retain some Confidential Information even after its return or destruction?\"\n"
     ]
    },
    {
     "name": "stderr",
     "output_type": "stream",
     "text": [
      "Generating RAG answers:  42%|████▏     | 42/100 [01:58<02:26,  2.52s/it]"
     ]
    },
    {
     "name": "stdout",
     "output_type": "stream",
     "text": [
      "\n",
      "Generated Answer:\n",
      "Yes, the document permits the Receiving Party to retain some Confidential Information even after its return or destruction. Specifically, clause 10.6 states that the Receiving Party \"may retain a reasonable number of archival copies as may be required by law or its reasonable standard document retention policies.\"\n",
      "\n",
      "Source Documents (3 retrieved):\n",
      "  --- Source 1 ---\n",
      "  Filename: EFCAConfidentialityAgreement.txt\n",
      "  Directory: corpus/contractnli/EFCAConfidentialityAgreement.txt\n",
      "  Chunk Num: 4\n",
      "  --- Source 2 ---\n",
      "  Filename: EFCAConfidentialityAgreement.txt\n",
      "  Directory: corpus/contractnli/EFCAConfidentialityAgreement.txt\n",
      "  Chunk Num: 5\n",
      "  --- Source 3 ---\n",
      "  Filename: SigaTechnologiesInc_20190603_8-K_EX-10.1_11695818_EX-10.1_Promotion Agreement.txt\n",
      "  Directory: corpus/cuad/SigaTechnologiesInc_20190603_8-K_EX-10.1_11695818_EX-10.1_Promotion Agreement.txt\n",
      "  Chunk Num: 154\n",
      "\n",
      "Processing query: \"Consider EFCA's Non-Disclosure Agreement; Does the document allow the Receiving Party to share some Confidential Information with third parties, including consultants, agents, and professional advisors?\"\n"
     ]
    },
    {
     "name": "stderr",
     "output_type": "stream",
     "text": [
      "Generating RAG answers:  43%|████▎     | 43/100 [02:11<05:19,  5.60s/it]"
     ]
    },
    {
     "name": "stdout",
     "output_type": "stream",
     "text": [
      "\n",
      "Generated Answer:\n",
      "No, the document does not allow the Receiving Party (EFCA) to share Confidential Information with third parties such as consultants, agents, or professional advisors. It explicitly states that confidential information \"shall only be disclosed to the receiving party's employees and, even then, only to the extent that such employees have a specific need to know.\" There is no provision permitting disclosure to third parties outside the receiving party's employees. Additionally, the Receiving Party \"shall not copy or disclose the confidential information to or use the confidential information for the benefit of any third party\" unless expressly authorized in writing by the disclosing party.\n",
      "\n",
      "Source Documents (3 retrieved):\n",
      "  --- Source 1 ---\n",
      "  Filename: EFCAConfidentialityAgreement.txt\n",
      "  Directory: corpus/contractnli/EFCAConfidentialityAgreement.txt\n",
      "  Chunk Num: 5\n",
      "  --- Source 2 ---\n",
      "  Filename: UALR-Standard-Non-disclosure-AgreementTemplate.txt\n",
      "  Directory: corpus/contractnli/UALR-Standard-Non-disclosure-AgreementTemplate.txt\n",
      "  Chunk Num: 3\n",
      "  --- Source 3 ---\n",
      "  Filename: EFCAConfidentialityAgreement.txt\n",
      "  Directory: corpus/contractnli/EFCAConfidentialityAgreement.txt\n",
      "  Chunk Num: 4\n",
      "\n",
      "Processing query: \"Consider EFCA's Non-Disclosure Agreement; Does the document permit the Receiving Party to create a copy of some Confidential Information under certain circumstances?\"\n"
     ]
    },
    {
     "name": "stderr",
     "output_type": "stream",
     "text": [
      "Generating RAG answers:  44%|████▍     | 44/100 [02:13<04:13,  4.52s/it]"
     ]
    },
    {
     "name": "stdout",
     "output_type": "stream",
     "text": [
      "\n",
      "Generated Answer:\n",
      "Yes, the document permits EFCA (the receiving party) to make copies of confidential information \"to the extent reasonably necessary,\" but all such copies \"shall be the property of the disclosing party.\" This is stated in the clause: \"copies or reproductions shall not be made except to the extent reasonably necessary and all copies made shall be the property of the disclosing party.\"\n",
      "\n",
      "Source Documents (3 retrieved):\n",
      "  --- Source 1 ---\n",
      "  Filename: EFCAConfidentialityAgreement.txt\n",
      "  Directory: corpus/contractnli/EFCAConfidentialityAgreement.txt\n",
      "  Chunk Num: 4\n",
      "  --- Source 2 ---\n",
      "  Filename: EFCAConfidentialityAgreement.txt\n",
      "  Directory: corpus/contractnli/EFCAConfidentialityAgreement.txt\n",
      "  Chunk Num: 5\n",
      "  --- Source 3 ---\n",
      "  Filename: UALR-Standard-Non-disclosure-AgreementTemplate.txt\n",
      "  Directory: corpus/contractnli/UALR-Standard-Non-disclosure-AgreementTemplate.txt\n",
      "  Chunk Num: 3\n",
      "\n",
      "Processing query: \"Consider EFCA's Non-Disclosure Agreement; Does the document require the Receiving Party to notify the Disclosing Party if they are required by law, regulation, or judicial process to disclose any Confidential Information?\"\n"
     ]
    },
    {
     "name": "stderr",
     "output_type": "stream",
     "text": [
      "Generating RAG answers:  45%|████▌     | 45/100 [02:15<03:29,  3.81s/it]"
     ]
    },
    {
     "name": "stdout",
     "output_type": "stream",
     "text": [
      "\n",
      "Generated Answer:\n",
      "Yes, the document requires the Receiving Party to notify the Disclosing Party if they are required by law, regulation, or judicial process to disclose any Confidential Information. Specifically, it states that the Receiving Party shall \"(i) give disclosing party reasonable notice of such required disclosure prior to disclosure,\" and \"shall provide to the relevant disclosing parties prompt written notice of such request(s)\" and \"give the disclosing party written notice of the proposed disclosure and a reasonable opportunity to review the proposed disclosure.\"\n",
      "\n",
      "Source Documents (3 retrieved):\n",
      "  --- Source 1 ---\n",
      "  Filename: amc-general-mutual-non-disclosure-agreement-en-gb.txt\n",
      "  Directory: corpus/contractnli/amc-general-mutual-non-disclosure-agreement-en-gb.txt\n",
      "  Chunk Num: 8\n",
      "  --- Source 2 ---\n",
      "  Filename: ceii-and-nda.txt\n",
      "  Directory: corpus/contractnli/ceii-and-nda.txt\n",
      "  Chunk Num: 13\n",
      "  --- Source 3 ---\n",
      "  Filename: EFCAConfidentialityAgreement.txt\n",
      "  Directory: corpus/contractnli/EFCAConfidentialityAgreement.txt\n",
      "  Chunk Num: 4\n",
      "\n",
      "Processing query: \"Consider EFCA's Non-Disclosure Agreement; Does the document allow the Receiving Party to share some Confidential Information with their employees?\"\n"
     ]
    },
    {
     "name": "stderr",
     "output_type": "stream",
     "text": [
      "Generating RAG answers:  46%|████▌     | 46/100 [02:17<03:01,  3.36s/it]"
     ]
    },
    {
     "name": "stdout",
     "output_type": "stream",
     "text": [
      "\n",
      "Generated Answer:\n",
      "Yes, EFCA's Non-Disclosure Agreement allows the Receiving Party to share Confidential Information with their employees, but only under specific conditions. The agreement states that the Receiving Party \"may disclose the confidential information to the employees, officers, directors, and affiliates of receiving party who need to know such confidential information in connection with the purpose\" and that these employees must be \"subject to the same or comparable restrictions as are contained in this agreement as evidenced by a signed non-disclosure agreement or equivalent.\" Additionally, employees must \"read this non-disclosure agreement and, by receiving such confidential information, such employee shall acknowledge and agree to abide by the receiving party's obligations hereunder.\"\n",
      "\n",
      "Source Documents (3 retrieved):\n",
      "  --- Source 1 ---\n",
      "  Filename: LiiON_20NDA_202-27-2015_20v1.0.txt\n",
      "  Directory: corpus/contractnli/LiiON_20NDA_202-27-2015_20v1.0.txt\n",
      "  Chunk Num: 8\n",
      "  --- Source 2 ---\n",
      "  Filename: UALR-Standard-Non-disclosure-AgreementTemplate.txt\n",
      "  Directory: corpus/contractnli/UALR-Standard-Non-disclosure-AgreementTemplate.txt\n",
      "  Chunk Num: 3\n",
      "  --- Source 3 ---\n",
      "  Filename: NCDG_Non-disclosure-agreement.txt\n",
      "  Directory: corpus/contractnli/NCDG_Non-disclosure-agreement.txt\n",
      "  Chunk Num: 10\n",
      "\n",
      "Processing query: \"Consider EFCA's Non-Disclosure Agreement; Does the document restrict the use of Confidential Information to the purposes stated in the Agreement?\"\n"
     ]
    },
    {
     "name": "stderr",
     "output_type": "stream",
     "text": [
      "Generating RAG answers:  47%|████▋     | 47/100 [02:22<03:14,  3.66s/it]"
     ]
    },
    {
     "name": "stdout",
     "output_type": "stream",
     "text": [
      "\n",
      "Generated Answer:\n",
      "Yes, the document restricts the use of Confidential Information to the purposes stated in the Agreement. Specifically, clause 4.1.2 states that EFCA shall \"make no commercial use of the same or any part thereof without the prior written consent of the disclosing party,\" indicating that use beyond the agreed purposes is prohibited without consent.\n",
      "\n",
      "Source Documents (3 retrieved):\n",
      "  --- Source 1 ---\n",
      "  Filename: EFCAConfidentialityAgreement.txt\n",
      "  Directory: corpus/contractnli/EFCAConfidentialityAgreement.txt\n",
      "  Chunk Num: 5\n",
      "  --- Source 2 ---\n",
      "  Filename: EFCAConfidentialityAgreement.txt\n",
      "  Directory: corpus/contractnli/EFCAConfidentialityAgreement.txt\n",
      "  Chunk Num: 2\n",
      "  --- Source 3 ---\n",
      "  Filename: EFCAConfidentialityAgreement.txt\n",
      "  Directory: corpus/contractnli/EFCAConfidentialityAgreement.txt\n",
      "  Chunk Num: 6\n",
      "\n",
      "Processing query: \"Consider Eskom's Confidentiality and Non-Disclosure Agreement; Does the document indicate that the Agreement does not grant the Receiving Party any rights to the Confidential Information?\"\n"
     ]
    },
    {
     "name": "stderr",
     "output_type": "stream",
     "text": [
      "Generating RAG answers:  48%|████▊     | 48/100 [02:24<02:56,  3.39s/it]"
     ]
    },
    {
     "name": "stdout",
     "output_type": "stream",
     "text": [
      "\n",
      "Generated Answer:\n",
      "The document does not explicitly state that the Agreement grants the Receiving Party any rights to the Confidential Information. Instead, it emphasizes restrictions on the Receiving Party, such as agreeing \"to retain the confidential information in confidence and shall not copy or disclose the confidential information to or use the confidential information for the benefit of any third party\" unless authorized in writing by the Disclosing Party (section 6.3 and related clauses). Therefore, the Agreement primarily imposes confidentiality obligations without granting rights to use the Confidential Information beyond what is expressly permitted.\n",
      "\n",
      "Source Documents (3 retrieved):\n",
      "  --- Source 1 ---\n",
      "  Filename: Eskom_20Template_20Confidentiality_20and_20Non-disclosure_20Agreement_20Rev_204_20Effective_20August_202017_11.txt\n",
      "  Directory: corpus/contractnli/Eskom_20Template_20Confidentiality_20and_20Non-disclosure_20Agreement_20Rev_204_20Effective_20August_202017_11.txt\n",
      "  Chunk Num: 6\n",
      "  --- Source 2 ---\n",
      "  Filename: Eskom_20Template_20Confidentiality_20and_20Non-disclosure_20Agreement_20Rev_204_20Effective_20August_202017_11.txt\n",
      "  Directory: corpus/contractnli/Eskom_20Template_20Confidentiality_20and_20Non-disclosure_20Agreement_20Rev_204_20Effective_20August_202017_11.txt\n",
      "  Chunk Num: 1\n",
      "  --- Source 3 ---\n",
      "  Filename: UALR-Standard-Non-disclosure-AgreementTemplate.txt\n",
      "  Directory: corpus/contractnli/UALR-Standard-Non-disclosure-AgreementTemplate.txt\n",
      "  Chunk Num: 3\n",
      "\n",
      "Processing query: \"Consider Eskom's Confidentiality and Non-Disclosure Agreement; Does the document include a clause that prevents the Receiving Party from disclosing the fact that the Agreement was agreed upon or negotiated?\"\n"
     ]
    },
    {
     "name": "stderr",
     "output_type": "stream",
     "text": [
      "Generating RAG answers:  49%|████▉     | 49/100 [02:26<02:29,  2.93s/it]"
     ]
    },
    {
     "name": "stdout",
     "output_type": "stream",
     "text": [
      "\n",
      "Generated Answer:\n",
      "The document does not explicitly include a clause that prevents the Receiving Party from disclosing the fact that the Agreement was agreed upon or negotiated. Clause 7.4 requires the parties to keep the terms of the agreement confidential and not to divulge any part thereof to any third party except under certain conditions, but it does not specifically address whether the existence or negotiation of the agreement itself is confidential.\n",
      "\n",
      "Source Documents (3 retrieved):\n",
      "  --- Source 1 ---\n",
      "  Filename: Eskom_20Template_20Confidentiality_20and_20Non-disclosure_20Agreement_20Rev_204_20Effective_20August_202017_11.txt\n",
      "  Directory: corpus/contractnli/Eskom_20Template_20Confidentiality_20and_20Non-disclosure_20Agreement_20Rev_204_20Effective_20August_202017_11.txt\n",
      "  Chunk Num: 6\n",
      "  --- Source 2 ---\n",
      "  Filename: Eskom_20Template_20Confidentiality_20and_20Non-disclosure_20Agreement_20Rev_204_20Effective_20August_202017_11.txt\n",
      "  Directory: corpus/contractnli/Eskom_20Template_20Confidentiality_20and_20Non-disclosure_20Agreement_20Rev_204_20Effective_20August_202017_11.txt\n",
      "  Chunk Num: 1\n",
      "  --- Source 3 ---\n",
      "  Filename: VERTICALNETINC_04_01_2002-EX-10.19-MAINTENANCE AND SUPPORT AGREEMENT.txt\n",
      "  Directory: corpus/cuad/VERTICALNETINC_04_01_2002-EX-10.19-MAINTENANCE AND SUPPORT AGREEMENT.txt\n",
      "  Chunk Num: 61\n",
      "\n",
      "Processing query: \"Consider Eskom's Confidentiality and Non-Disclosure Agreement; Does the document state that Confidential Information shall only include technical information?\"\n"
     ]
    },
    {
     "name": "stderr",
     "output_type": "stream",
     "text": [
      "Generating RAG answers:  50%|█████     | 50/100 [02:28<02:10,  2.62s/it]"
     ]
    },
    {
     "name": "stdout",
     "output_type": "stream",
     "text": [
      "\n",
      "Generated Answer:\n",
      "No, the document does not state that Confidential Information shall only include technical information. It defines confidential information broadly to include technical, financial, business plan, customer information, and other valuable information disclosed by the parties (see \"confidential information shall mean the following: i. all records, files, analysis, documents, software... ii. technical, financial, business plan and customer information... iii. other valuable information disclosed...\").\n",
      "\n",
      "Source Documents (3 retrieved):\n",
      "  --- Source 1 ---\n",
      "  Filename: Eskom_20Template_20Confidentiality_20and_20Non-disclosure_20Agreement_20Rev_204_20Effective_20August_202017_11.txt\n",
      "  Directory: corpus/contractnli/Eskom_20Template_20Confidentiality_20and_20Non-disclosure_20Agreement_20Rev_204_20Effective_20August_202017_11.txt\n",
      "  Chunk Num: 6\n",
      "  --- Source 2 ---\n",
      "  Filename: MPLXLP_06_17_2015-EX-10.1-TRANSPORTATION SERVICES AGREEMENT.txt\n",
      "  Directory: corpus/cuad/MPLXLP_06_17_2015-EX-10.1-TRANSPORTATION SERVICES AGREEMENT.txt\n",
      "  Chunk Num: 7\n",
      "  --- Source 3 ---\n",
      "  Filename: NDA-Seeed.txt\n",
      "  Directory: corpus/contractnli/NDA-Seeed.txt\n",
      "  Chunk Num: 3\n",
      "\n",
      "Processing query: \"Consider Eskom's Confidentiality and Non-Disclosure Agreement; Does the document require that all Confidential Information be expressly identified by the Disclosing Party?\"\n"
     ]
    },
    {
     "name": "stderr",
     "output_type": "stream",
     "text": [
      "Generating RAG answers:  51%|█████     | 51/100 [02:30<02:01,  2.47s/it]"
     ]
    },
    {
     "name": "stdout",
     "output_type": "stream",
     "text": [
      "\n",
      "Generated Answer:\n",
      "The provided context does not specify that all Confidential Information must be expressly identified by the Disclosing Party. There is no clause stating a requirement for explicit identification of confidential information.\n",
      "\n",
      "Source Documents (3 retrieved):\n",
      "  --- Source 1 ---\n",
      "  Filename: Eskom_20Template_20Confidentiality_20and_20Non-disclosure_20Agreement_20Rev_204_20Effective_20August_202017_11.txt\n",
      "  Directory: corpus/contractnli/Eskom_20Template_20Confidentiality_20and_20Non-disclosure_20Agreement_20Rev_204_20Effective_20August_202017_11.txt\n",
      "  Chunk Num: 6\n",
      "  --- Source 2 ---\n",
      "  Filename: Sonos, Inc. - Manufacturing Agreement .txt\n",
      "  Directory: corpus/cuad/Sonos, Inc. - Manufacturing Agreement .txt\n",
      "  Chunk Num: 81\n",
      "  --- Source 3 ---\n",
      "  Filename: Eskom_20Template_20Confidentiality_20and_20Non-disclosure_20Agreement_20Rev_204_20Effective_20August_202017_11.txt\n",
      "  Directory: corpus/contractnli/Eskom_20Template_20Confidentiality_20and_20Non-disclosure_20Agreement_20Rev_204_20Effective_20August_202017_11.txt\n",
      "  Chunk Num: 1\n",
      "\n",
      "Processing query: \"Consider Eskom's Confidentiality and Non-Disclosure Agreement; Does the document mention that some obligations of the Agreement may survive the termination of the Agreement?\"\n"
     ]
    },
    {
     "name": "stderr",
     "output_type": "stream",
     "text": [
      "Generating RAG answers:  52%|█████▏    | 52/100 [02:32<01:49,  2.28s/it]"
     ]
    },
    {
     "name": "stdout",
     "output_type": "stream",
     "text": [
      "\n",
      "Generated Answer:\n",
      "Yes, the document states that \"the receiving party's confidentiality obligations under this article 9 shall survive the termination of this agreement, and shall remain binding on the parties hereto until the earlier of a) the confidential information falls within one of the exceptions stated in section 9.1 and b) five (5) years from the expiration or termination of the agreement.\"\n",
      "\n",
      "Source Documents (3 retrieved):\n",
      "  --- Source 1 ---\n",
      "  Filename: Eskom_20Template_20Confidentiality_20and_20Non-disclosure_20Agreement_20Rev_204_20Effective_20August_202017_11.txt\n",
      "  Directory: corpus/contractnli/Eskom_20Template_20Confidentiality_20and_20Non-disclosure_20Agreement_20Rev_204_20Effective_20August_202017_11.txt\n",
      "  Chunk Num: 6\n",
      "  --- Source 2 ---\n",
      "  Filename: Eskom_20Template_20Confidentiality_20and_20Non-disclosure_20Agreement_20Rev_204_20Effective_20August_202017_11.txt\n",
      "  Directory: corpus/contractnli/Eskom_20Template_20Confidentiality_20and_20Non-disclosure_20Agreement_20Rev_204_20Effective_20August_202017_11.txt\n",
      "  Chunk Num: 1\n",
      "  --- Source 3 ---\n",
      "  Filename: Apollo Endosurgery - Manufacturing and Supply Agreement.txt\n",
      "  Directory: corpus/cuad/Apollo Endosurgery - Manufacturing and Supply Agreement.txt\n",
      "  Chunk Num: 49\n",
      "\n",
      "Processing query: \"Consider Eskom's Confidentiality and Non-Disclosure Agreement; Does the document allow the Receiving Party to independently develop information that is similar to the Confidential Information?\"\n"
     ]
    },
    {
     "name": "stderr",
     "output_type": "stream",
     "text": [
      "Generating RAG answers:  53%|█████▎    | 53/100 [02:34<01:45,  2.24s/it]"
     ]
    },
    {
     "name": "stdout",
     "output_type": "stream",
     "text": [
      "\n",
      "Generated Answer:\n",
      "The document does not explicitly address whether the Receiving Party may independently develop information similar to the Confidential Information. It restricts the use and disclosure of confidential information \"disclosed pursuant to this agreement\" (6.3, 6.6) but does not mention independent development. Therefore, based on the provided context, it is not clear if independent development of similar information is allowed.\n",
      "\n",
      "Source Documents (3 retrieved):\n",
      "  --- Source 1 ---\n",
      "  Filename: Eskom_20Template_20Confidentiality_20and_20Non-disclosure_20Agreement_20Rev_204_20Effective_20August_202017_11.txt\n",
      "  Directory: corpus/contractnli/Eskom_20Template_20Confidentiality_20and_20Non-disclosure_20Agreement_20Rev_204_20Effective_20August_202017_11.txt\n",
      "  Chunk Num: 6\n",
      "  --- Source 2 ---\n",
      "  Filename: Eskom_20Template_20Confidentiality_20and_20Non-disclosure_20Agreement_20Rev_204_20Effective_20August_202017_11.txt\n",
      "  Directory: corpus/contractnli/Eskom_20Template_20Confidentiality_20and_20Non-disclosure_20Agreement_20Rev_204_20Effective_20August_202017_11.txt\n",
      "  Chunk Num: 1\n",
      "  --- Source 3 ---\n",
      "  Filename: Eskom_20Template_20Confidentiality_20and_20Non-disclosure_20Agreement_20Rev_204_20Effective_20August_202017_11.txt\n",
      "  Directory: corpus/contractnli/Eskom_20Template_20Confidentiality_20and_20Non-disclosure_20Agreement_20Rev_204_20Effective_20August_202017_11.txt\n",
      "  Chunk Num: 9\n",
      "\n",
      "Processing query: \"Consider Eskom's Confidentiality and Non-Disclosure Agreement; Does the document permit the Receiving Party to retain some Confidential Information even after its return or destruction?\"\n"
     ]
    },
    {
     "name": "stderr",
     "output_type": "stream",
     "text": [
      "Generating RAG answers:  54%|█████▍    | 54/100 [02:37<01:47,  2.34s/it]"
     ]
    },
    {
     "name": "stdout",
     "output_type": "stream",
     "text": [
      "\n",
      "Generated Answer:\n",
      "Yes. According to clause 2.3, \"notwithstanding the return of the confidential information, the receiving party will continue to be bound by its obligations of confidentiality and other obligations hereunder,\" which implies that the receiving party may retain some confidential information but remains bound by confidentiality obligations. However, clause 9.3 states that confidential information \"shall be returned promptly and the non-disclosing party shall not retain any documents or materials or copies thereof containing any confidential information,\" indicating that retention is generally not permitted after return or destruction. Therefore, the agreement primarily requires return and non-retention, but confidentiality obligations continue even if some information is retained.\n",
      "\n",
      "Source Documents (3 retrieved):\n",
      "  --- Source 1 ---\n",
      "  Filename: Eskom_20Template_20Confidentiality_20and_20Non-disclosure_20Agreement_20Rev_204_20Effective_20August_202017_11.txt\n",
      "  Directory: corpus/contractnli/Eskom_20Template_20Confidentiality_20and_20Non-disclosure_20Agreement_20Rev_204_20Effective_20August_202017_11.txt\n",
      "  Chunk Num: 6\n",
      "  --- Source 2 ---\n",
      "  Filename: BT_NDA.txt\n",
      "  Directory: corpus/contractnli/BT_NDA.txt\n",
      "  Chunk Num: 7\n",
      "  --- Source 3 ---\n",
      "  Filename: WaterNowInc_20191120_10-Q_EX-10.12_11900227_EX-10.12_Distributor Agreement.txt\n",
      "  Directory: corpus/cuad/WaterNowInc_20191120_10-Q_EX-10.12_11900227_EX-10.12_Distributor Agreement.txt\n",
      "  Chunk Num: 44\n",
      "\n",
      "Processing query: \"Consider Eskom's Confidentiality and Non-Disclosure Agreement; Does the document allow verbally conveyed information to be considered as Confidential Information?\"\n"
     ]
    },
    {
     "name": "stderr",
     "output_type": "stream",
     "text": [
      "Generating RAG answers:  55%|█████▌    | 55/100 [02:38<01:34,  2.10s/it]"
     ]
    },
    {
     "name": "stdout",
     "output_type": "stream",
     "text": [
      "\n",
      "Generated Answer:\n",
      "The provided context does not explicitly address whether verbally conveyed information is considered Confidential Information under Eskom's Confidentiality and Non-Disclosure Agreement. Therefore, based on the information given, it is not clear if verbal information is included.\n",
      "\n",
      "Source Documents (3 retrieved):\n",
      "  --- Source 1 ---\n",
      "  Filename: Eskom_20Template_20Confidentiality_20and_20Non-disclosure_20Agreement_20Rev_204_20Effective_20August_202017_11.txt\n",
      "  Directory: corpus/contractnli/Eskom_20Template_20Confidentiality_20and_20Non-disclosure_20Agreement_20Rev_204_20Effective_20August_202017_11.txt\n",
      "  Chunk Num: 6\n",
      "  --- Source 2 ---\n",
      "  Filename: Eskom_20Template_20Confidentiality_20and_20Non-disclosure_20Agreement_20Rev_204_20Effective_20August_202017_11.txt\n",
      "  Directory: corpus/contractnli/Eskom_20Template_20Confidentiality_20and_20Non-disclosure_20Agreement_20Rev_204_20Effective_20August_202017_11.txt\n",
      "  Chunk Num: 1\n",
      "  --- Source 3 ---\n",
      "  Filename: EmeraldHealthBioceuticalsInc_20200218_1-A_EX1A-6 MAT CTRCT_11987205_EX1A-6 MAT CTRCT_Development Agreement.txt\n",
      "  Directory: corpus/cuad/EmeraldHealthBioceuticalsInc_20200218_1-A_EX1A-6 MAT CTRCT_11987205_EX1A-6 MAT CTRCT_Development Agreement.txt\n",
      "  Chunk Num: 13\n",
      "\n",
      "Processing query: \"Consider Eskom's Confidentiality and Non-Disclosure Agreement; Does the document allow the Receiving Party to share some Confidential Information with third parties, including consultants, agents, and professional advisors?\"\n"
     ]
    },
    {
     "name": "stderr",
     "output_type": "stream",
     "text": [
      "Generating RAG answers:  56%|█████▌    | 56/100 [02:40<01:34,  2.14s/it]"
     ]
    },
    {
     "name": "stdout",
     "output_type": "stream",
     "text": [
      "\n",
      "Generated Answer:\n",
      "Yes, the document allows the Receiving Party to share some Confidential Information with third parties such as consultants, agents, and professional advisors, but only with the prior written consent of the disclosing party and \"only to the extent of such consent,\" as stated in clause 6.3: \"the receiving party agrees that it will not... disclose the confidential information to any third party... without the prior written consent of the disclosing party and only to the extent of such consent.\" Additionally, clause 3.3 specifies that holding and subsidiary companies or agents are bound by the agreement, implying permitted sharing within those entities.\n",
      "\n",
      "Source Documents (3 retrieved):\n",
      "  --- Source 1 ---\n",
      "  Filename: Eskom_20Template_20Confidentiality_20and_20Non-disclosure_20Agreement_20Rev_204_20Effective_20August_202017_11.txt\n",
      "  Directory: corpus/contractnli/Eskom_20Template_20Confidentiality_20and_20Non-disclosure_20Agreement_20Rev_204_20Effective_20August_202017_11.txt\n",
      "  Chunk Num: 6\n",
      "  --- Source 2 ---\n",
      "  Filename: Eskom_20Template_20Confidentiality_20and_20Non-disclosure_20Agreement_20Rev_204_20Effective_20August_202017_11.txt\n",
      "  Directory: corpus/contractnli/Eskom_20Template_20Confidentiality_20and_20Non-disclosure_20Agreement_20Rev_204_20Effective_20August_202017_11.txt\n",
      "  Chunk Num: 1\n",
      "  --- Source 3 ---\n",
      "  Filename: AfriGIS_Client-NDA_Template_2019.txt\n",
      "  Directory: corpus/contractnli/AfriGIS_Client-NDA_Template_2019.txt\n",
      "  Chunk Num: 12\n",
      "\n",
      "Processing query: \"Consider Eskom's Confidentiality and Non-Disclosure Agreement; Does the document require the Receiving Party to notify the Disclosing Party if they are required by law, regulation, or judicial process to disclose any Confidential Information?\"\n"
     ]
    },
    {
     "name": "stderr",
     "output_type": "stream",
     "text": [
      "Generating RAG answers:  57%|█████▋    | 57/100 [02:43<01:35,  2.21s/it]"
     ]
    },
    {
     "name": "stdout",
     "output_type": "stream",
     "text": [
      "\n",
      "Generated Answer:\n",
      "Yes, the document requires the Receiving Party to notify the Disclosing Party if they are required by law, regulation, or judicial process to disclose any Confidential Information. Specifically, clause 12.3 states that if a receiving party is required by a \"final authorized order from a recognized and applicable government body or from a court with competent jurisdiction\" to make such a disclosure, the receiving party \"will provide the disclosing party with prompt written notice of such requirement so that the disclosing party may seek a protective order or other appropriate relief.\"\n",
      "\n",
      "Source Documents (3 retrieved):\n",
      "  --- Source 1 ---\n",
      "  Filename: Eskom_20Template_20Confidentiality_20and_20Non-disclosure_20Agreement_20Rev_204_20Effective_20August_202017_11.txt\n",
      "  Directory: corpus/contractnli/Eskom_20Template_20Confidentiality_20and_20Non-disclosure_20Agreement_20Rev_204_20Effective_20August_202017_11.txt\n",
      "  Chunk Num: 6\n",
      "  --- Source 2 ---\n",
      "  Filename: Sonos, Inc. - Manufacturing Agreement .txt\n",
      "  Directory: corpus/cuad/Sonos, Inc. - Manufacturing Agreement .txt\n",
      "  Chunk Num: 81\n",
      "  --- Source 3 ---\n",
      "  Filename: Eskom_20Template_20Confidentiality_20and_20Non-disclosure_20Agreement_20Rev_204_20Effective_20August_202017_11.txt\n",
      "  Directory: corpus/contractnli/Eskom_20Template_20Confidentiality_20and_20Non-disclosure_20Agreement_20Rev_204_20Effective_20August_202017_11.txt\n",
      "  Chunk Num: 1\n",
      "\n",
      "Processing query: \"Consider Eskom's Confidentiality and Non-Disclosure Agreement; Does the document allow the Receiving Party to acquire information similar to the Confidential Information from a third party?\"\n"
     ]
    },
    {
     "name": "stderr",
     "output_type": "stream",
     "text": [
      "Generating RAG answers:  58%|█████▊    | 58/100 [02:48<02:07,  3.05s/it]"
     ]
    },
    {
     "name": "stdout",
     "output_type": "stream",
     "text": [
      "\n",
      "Generated Answer:\n",
      "The provided context does not explicitly address whether the Receiving Party is allowed to acquire information similar to the Confidential Information from a third party. It only restricts disclosure of the disclosing party's confidential information to third parties without prior consent (6.3) and limits use and disclosure of confidential information received under the agreement (12.3). Therefore, based on the given text, **it is not stated whether the Receiving Party may acquire similar information from a third party.**\n",
      "\n",
      "Source Documents (3 retrieved):\n",
      "  --- Source 1 ---\n",
      "  Filename: Eskom_20Template_20Confidentiality_20and_20Non-disclosure_20Agreement_20Rev_204_20Effective_20August_202017_11.txt\n",
      "  Directory: corpus/contractnli/Eskom_20Template_20Confidentiality_20and_20Non-disclosure_20Agreement_20Rev_204_20Effective_20August_202017_11.txt\n",
      "  Chunk Num: 6\n",
      "  --- Source 2 ---\n",
      "  Filename: Eskom_20Template_20Confidentiality_20and_20Non-disclosure_20Agreement_20Rev_204_20Effective_20August_202017_11.txt\n",
      "  Directory: corpus/contractnli/Eskom_20Template_20Confidentiality_20and_20Non-disclosure_20Agreement_20Rev_204_20Effective_20August_202017_11.txt\n",
      "  Chunk Num: 1\n",
      "  --- Source 3 ---\n",
      "  Filename: Sonos, Inc. - Manufacturing Agreement .txt\n",
      "  Directory: corpus/cuad/Sonos, Inc. - Manufacturing Agreement .txt\n",
      "  Chunk Num: 81\n",
      "\n",
      "Processing query: \"Consider Eskom's Confidentiality and Non-Disclosure Agreement; Does the document allow the Receiving Party to share some Confidential Information with their employees?\"\n"
     ]
    },
    {
     "name": "stderr",
     "output_type": "stream",
     "text": [
      "Generating RAG answers:  59%|█████▉    | 59/100 [02:50<01:59,  2.92s/it]"
     ]
    },
    {
     "name": "stdout",
     "output_type": "stream",
     "text": [
      "\n",
      "Generated Answer:\n",
      "The document does not explicitly address sharing confidential information with the receiving party's employees. However, clause 6.3 states that the receiving party \"will not, during the existence of this agreement disclose the confidential information to any third party... without the prior written consent of the disclosing party,\" and defines a \"third party\" as \"any party who is not a signatory to this agreement.\" Since employees of the receiving party are likely signatories or part of the receiving party, sharing with them may not be prohibited, but this is not explicitly clarified in the provided context. Therefore, based on the given information, it is unclear whether sharing confidential information with employees is allowed.\n",
      "\n",
      "Source Documents (3 retrieved):\n",
      "  --- Source 1 ---\n",
      "  Filename: Eskom_20Template_20Confidentiality_20and_20Non-disclosure_20Agreement_20Rev_204_20Effective_20August_202017_11.txt\n",
      "  Directory: corpus/contractnli/Eskom_20Template_20Confidentiality_20and_20Non-disclosure_20Agreement_20Rev_204_20Effective_20August_202017_11.txt\n",
      "  Chunk Num: 6\n",
      "  --- Source 2 ---\n",
      "  Filename: Eskom_20Template_20Confidentiality_20and_20Non-disclosure_20Agreement_20Rev_204_20Effective_20August_202017_11.txt\n",
      "  Directory: corpus/contractnli/Eskom_20Template_20Confidentiality_20and_20Non-disclosure_20Agreement_20Rev_204_20Effective_20August_202017_11.txt\n",
      "  Chunk Num: 1\n",
      "  --- Source 3 ---\n",
      "  Filename: BT_NDA.txt\n",
      "  Directory: corpus/contractnli/BT_NDA.txt\n",
      "  Chunk Num: 7\n",
      "\n",
      "Processing query: \"Consider Eskom's Confidentiality and Non-Disclosure Agreement; Does the document restrict the use of Confidential Information to the purposes stated in the Agreement?\"\n"
     ]
    },
    {
     "name": "stderr",
     "output_type": "stream",
     "text": [
      "Generating RAG answers:  60%|██████    | 60/100 [02:52<01:44,  2.61s/it]"
     ]
    },
    {
     "name": "stdout",
     "output_type": "stream",
     "text": [
      "\n",
      "Generated Answer:\n",
      "Yes, the document restricts the use of Confidential Information to the purposes stated in the Agreement. Specifically, clause 6.6 states that \"the parties agree in favour of one another not to utilize, exploit or in any other manner whatsoever use the confidential information disclosed pursuant to the provisions of this agreement for any purpose whatsoever other than the project without the prior written consent of the disclosing party.\"\n",
      "\n",
      "Source Documents (3 retrieved):\n",
      "  --- Source 1 ---\n",
      "  Filename: Eskom_20Template_20Confidentiality_20and_20Non-disclosure_20Agreement_20Rev_204_20Effective_20August_202017_11.txt\n",
      "  Directory: corpus/contractnli/Eskom_20Template_20Confidentiality_20and_20Non-disclosure_20Agreement_20Rev_204_20Effective_20August_202017_11.txt\n",
      "  Chunk Num: 6\n",
      "  --- Source 2 ---\n",
      "  Filename: Eskom_20Template_20Confidentiality_20and_20Non-disclosure_20Agreement_20Rev_204_20Effective_20August_202017_11.txt\n",
      "  Directory: corpus/contractnli/Eskom_20Template_20Confidentiality_20and_20Non-disclosure_20Agreement_20Rev_204_20Effective_20August_202017_11.txt\n",
      "  Chunk Num: 1\n",
      "  --- Source 3 ---\n",
      "  Filename: Eskom_20Template_20Confidentiality_20and_20Non-disclosure_20Agreement_20Rev_204_20Effective_20August_202017_11.txt\n",
      "  Directory: corpus/contractnli/Eskom_20Template_20Confidentiality_20and_20Non-disclosure_20Agreement_20Rev_204_20Effective_20August_202017_11.txt\n",
      "  Chunk Num: 9\n",
      "\n",
      "Processing query: \"Consider Epsteen's Non-Disclosure Agreement; Does the document specify whether the Receiving Party is required to destroy or return Confidential Information upon the termination of the Agreement?\"\n"
     ]
    },
    {
     "name": "stderr",
     "output_type": "stream",
     "text": [
      "Generating RAG answers:  61%|██████    | 61/100 [02:55<01:42,  2.63s/it]"
     ]
    },
    {
     "name": "stdout",
     "output_type": "stream",
     "text": [
      "\n",
      "Generated Answer:\n",
      "Yes, the document specifies that upon termination of the agreement, the Receiving Party is required to either promptly return or, upon request of the Disclosing Party, destroy all confidential information. This is stated in multiple sections, for example: \"upon termination of this agreement, the receiving party shall promptly return, or upon request of the disclosing party destroy and provide written certification of such destruction, all of the disclosing party's confidential information\" and \"upon termination of this agreement, each receiving party shall return to the disclosing party (or at the disclosing party's direction, destroy) all confidential information.\"\n",
      "\n",
      "Source Documents (3 retrieved):\n",
      "  --- Source 1 ---\n",
      "  Filename: SigaTechnologiesInc_20190603_8-K_EX-10.1_11695818_EX-10.1_Promotion Agreement.txt\n",
      "  Directory: corpus/cuad/SigaTechnologiesInc_20190603_8-K_EX-10.1_11695818_EX-10.1_Promotion Agreement.txt\n",
      "  Chunk Num: 154\n",
      "  --- Source 2 ---\n",
      "  Filename: WaterNowInc_20191120_10-Q_EX-10.12_11900227_EX-10.12_Distributor Agreement.txt\n",
      "  Directory: corpus/cuad/WaterNowInc_20191120_10-Q_EX-10.12_11900227_EX-10.12_Distributor Agreement.txt\n",
      "  Chunk Num: 44\n",
      "  --- Source 3 ---\n",
      "  Filename: GpaqAcquisitionHoldingsInc_20200123_S-4A_EX-10.6_11951677_EX-10.6_License Agreement.txt\n",
      "  Directory: corpus/cuad/GpaqAcquisitionHoldingsInc_20200123_S-4A_EX-10.6_11951677_EX-10.6_License Agreement.txt\n",
      "  Chunk Num: 50\n",
      "\n",
      "Processing query: \"Consider Epsteen's Non-Disclosure Agreement; Does the document state that Confidential Information shall only include technical information?\"\n"
     ]
    },
    {
     "name": "stderr",
     "output_type": "stream",
     "text": [
      "Generating RAG answers:  62%|██████▏   | 62/100 [02:57<01:33,  2.46s/it]"
     ]
    },
    {
     "name": "stdout",
     "output_type": "stream",
     "text": [
      "\n",
      "Generated Answer:\n",
      "No, the document does not state that Confidential Information shall only include technical information. It explicitly includes a broad range of information beyond technical data, such as \"business plans,\" \"economic and business data,\" \"marketing information,\" \"personnel and financial information,\" \"contractual relationships,\" and many other categories. The definition states confidential information \"includes, without limitation\" various types of technical and non-technical information, indicating it is not limited to technical information alone.\n",
      "\n",
      "Source Documents (3 retrieved):\n",
      "  --- Source 1 ---\n",
      "  Filename: ENTRUSTINC_07_24_1998-EX-10.5-STRATEGIC ALLIANCE AGREEMENT.txt\n",
      "  Directory: corpus/cuad/ENTRUSTINC_07_24_1998-EX-10.5-STRATEGIC ALLIANCE AGREEMENT.txt\n",
      "  Chunk Num: 38\n",
      "  --- Source 2 ---\n",
      "  Filename: SEASPINEHOLDINGSCORP_10_10_2018-EX-10.1-SUPPLY AGREEMENT.txt\n",
      "  Directory: corpus/cuad/SEASPINEHOLDINGSCORP_10_10_2018-EX-10.1-SUPPLY AGREEMENT.txt\n",
      "  Chunk Num: 5\n",
      "  --- Source 3 ---\n",
      "  Filename: EdietsComInc_20001030_10QSB_EX-10.4_2606646_EX-10.4_Co-Branding Agreement.txt\n",
      "  Directory: corpus/cuad/EdietsComInc_20001030_10QSB_EX-10.4_2606646_EX-10.4_Co-Branding Agreement.txt\n",
      "  Chunk Num: 41\n",
      "\n",
      "Processing query: \"Consider Epsteen's Non-Disclosure Agreement; Does the document include a clause that prohibits the Receiving Party from soliciting some of the Disclosing Party's representatives?\"\n"
     ]
    },
    {
     "name": "stderr",
     "output_type": "stream",
     "text": [
      "Generating RAG answers:  63%|██████▎   | 63/100 [03:00<01:32,  2.51s/it]"
     ]
    },
    {
     "name": "stdout",
     "output_type": "stream",
     "text": [
      "\n",
      "Generated Answer:\n",
      "Yes, Epsteen's Non-Disclosure Agreement includes clauses that prohibit the Receiving Party from soliciting some of the Disclosing Party's representatives. Specifically, clause 10 states that \"during the term of this agreement and for a period of twelve (12) months after the expiration or termination of this agreement, without the disclosing party's prior written consent, the recipient and its representatives shall not contact or solicit an employee of the disclosing party for the purpose of hiring them.\" Similarly, clause 8 provides that \"the recipient will not, and the recipient will cause its representatives not to, solicit for hire or employment, directly or indirectly, any officer or employee of the disclosing party or its direct and indirect subsidiaries\" during the term of the agreement.\n",
      "\n",
      "Source Documents (3 retrieved):\n",
      "  --- Source 1 ---\n",
      "  Filename: Standard_20NDA_20by_20Axial.txt\n",
      "  Directory: corpus/contractnli/Standard_20NDA_20by_20Axial.txt\n",
      "  Chunk Num: 14\n",
      "  --- Source 2 ---\n",
      "  Filename: RROI_Confidentiality_Agreement_Final.txt\n",
      "  Directory: corpus/contractnli/RROI_Confidentiality_Agreement_Final.txt\n",
      "  Chunk Num: 18\n",
      "  --- Source 3 ---\n",
      "  Filename: VERTICALNETINC_04_01_2002-EX-10.19-MAINTENANCE AND SUPPORT AGREEMENT.txt\n",
      "  Directory: corpus/cuad/VERTICALNETINC_04_01_2002-EX-10.19-MAINTENANCE AND SUPPORT AGREEMENT.txt\n",
      "  Chunk Num: 57\n",
      "\n",
      "Processing query: \"Consider Epsteen's Non-Disclosure Agreement; Does the document allow the Receiving Party to share some Confidential Information with third parties, including consultants, agents, and professional advisors?\"\n"
     ]
    },
    {
     "name": "stderr",
     "output_type": "stream",
     "text": [
      "Generating RAG answers:  64%|██████▍   | 64/100 [03:03<01:34,  2.64s/it]"
     ]
    },
    {
     "name": "stdout",
     "output_type": "stream",
     "text": [
      "\n",
      "Generated Answer:\n",
      "Yes, Epsteen's Non-Disclosure Agreement allows the Receiving Party to share Confidential Information with certain third parties such as consultants, agents, and professional advisors, but only under specific conditions. The agreement states that confidential information \"shall only be disclosed to the receiving party's employees and, even then, only to the extent that such employees have a specific need to know\" and similarly extends to \"directors, officers, employees, consultants and agents of recipient who are required to have the information in order to carry out the purpose set forth in section 1 of this agreement.\" Additionally, these third parties must sign a non-disclosure agreement \"in content substantially similar to this agreement\" before receiving any confidential information. Disclosure is permitted only to the extent necessary to accomplish the purposes of the agreement and with prior agreement from those receiving the information to maintain confidentiality and limit use as specified.\n",
      "\n",
      "Source Documents (3 retrieved):\n",
      "  --- Source 1 ---\n",
      "  Filename: UALR-Standard-Non-disclosure-AgreementTemplate.txt\n",
      "  Directory: corpus/contractnli/UALR-Standard-Non-disclosure-AgreementTemplate.txt\n",
      "  Chunk Num: 3\n",
      "  --- Source 2 ---\n",
      "  Filename: NDA-M5-Systems.txt\n",
      "  Directory: corpus/contractnli/NDA-M5-Systems.txt\n",
      "  Chunk Num: 4\n",
      "  --- Source 3 ---\n",
      "  Filename: Microgenics Corporation - Collaborative Development and Commercialization Agreement.txt\n",
      "  Directory: corpus/cuad/Microgenics Corporation - Collaborative Development and Commercialization Agreement.txt\n",
      "  Chunk Num: 155\n",
      "\n",
      "Processing query: \"Consider Epsteen's Non-Disclosure Agreement; Does the document allow the Receiving Party to share some Confidential Information with their employees?\"\n"
     ]
    },
    {
     "name": "stderr",
     "output_type": "stream",
     "text": [
      "Generating RAG answers:  65%|██████▌   | 65/100 [03:07<01:49,  3.13s/it]"
     ]
    },
    {
     "name": "stdout",
     "output_type": "stream",
     "text": [
      "\n",
      "Generated Answer:\n",
      "Yes, Epsteen's Non-Disclosure Agreement allows the Receiving Party to share Confidential Information with their employees, but only under specific conditions. The agreement states that confidential information \"shall only be disclosed to the receiving party's employees and, even then, only to the extent that such employees have a specific need to know of the confidential information, for the evaluation of the proposed transaction.\" Additionally, before receiving any confidential information, the employees \"shall be required to read this non-disclosure agreement and... acknowledge and agree to abide by the receiving party's obligations hereunder.\" Furthermore, disclosure to employees must be subject to the same or comparable restrictions, as evidenced by a signed non-disclosure agreement or equivalent.\n",
      "\n",
      "Source Documents (3 retrieved):\n",
      "  --- Source 1 ---\n",
      "  Filename: UALR-Standard-Non-disclosure-AgreementTemplate.txt\n",
      "  Directory: corpus/contractnli/UALR-Standard-Non-disclosure-AgreementTemplate.txt\n",
      "  Chunk Num: 3\n",
      "  --- Source 2 ---\n",
      "  Filename: LiiON_20NDA_202-27-2015_20v1.0.txt\n",
      "  Directory: corpus/contractnli/LiiON_20NDA_202-27-2015_20v1.0.txt\n",
      "  Chunk Num: 8\n",
      "  --- Source 3 ---\n",
      "  Filename: ParatekPharmaceuticalsInc_20170505_10-KA_EX-10.29_10323872_EX-10.29_Outsourcing Agreement.txt\n",
      "  Directory: corpus/cuad/ParatekPharmaceuticalsInc_20170505_10-KA_EX-10.29_10323872_EX-10.29_Outsourcing Agreement.txt\n",
      "  Chunk Num: 84\n",
      "\n",
      "Processing query: \"Consider Epsteen's Non-Disclosure Agreement; Does the document restrict the use of Confidential Information to the purposes stated in the Agreement?\"\n"
     ]
    },
    {
     "name": "stderr",
     "output_type": "stream",
     "text": [
      "Generating RAG answers:  66%|██████▌   | 66/100 [03:09<01:36,  2.83s/it]"
     ]
    },
    {
     "name": "stdout",
     "output_type": "stream",
     "text": [
      "\n",
      "Generated Answer:\n",
      "Yes, Epsteen's Non-Disclosure Agreement restricts the use of Confidential Information to the purposes stated in the Agreement. For example, section 3 states that \"the recipient agrees not to use the confidential information for any purpose other than that set forth in section 1 of this agreement.\" Similarly, sections 7.2 and 12.3 emphasize that confidential information shall only be used \"as necessary to perform its obligations under this agreement\" or \"for the performance of such party's obligations or the enjoyment of such party's rights and benefits hereunder.\"\n",
      "\n",
      "Source Documents (3 retrieved):\n",
      "  --- Source 1 ---\n",
      "  Filename: VERTICALNETINC_04_01_2002-EX-10.19-MAINTENANCE AND SUPPORT AGREEMENT.txt\n",
      "  Directory: corpus/cuad/VERTICALNETINC_04_01_2002-EX-10.19-MAINTENANCE AND SUPPORT AGREEMENT.txt\n",
      "  Chunk Num: 57\n",
      "  --- Source 2 ---\n",
      "  Filename: Sonos, Inc. - Manufacturing Agreement .txt\n",
      "  Directory: corpus/cuad/Sonos, Inc. - Manufacturing Agreement .txt\n",
      "  Chunk Num: 81\n",
      "  --- Source 3 ---\n",
      "  Filename: NDA-M5-Systems.txt\n",
      "  Directory: corpus/contractnli/NDA-M5-Systems.txt\n",
      "  Chunk Num: 4\n",
      "\n",
      "Processing query: \"Consider Evelozcity's Non-Disclosure Agreement; Does the document indicate that the Agreement does not grant the Receiving Party any rights to the Confidential Information?\"\n"
     ]
    },
    {
     "name": "stderr",
     "output_type": "stream",
     "text": [
      "Generating RAG answers:  67%|██████▋   | 67/100 [03:11<01:29,  2.71s/it]"
     ]
    },
    {
     "name": "stdout",
     "output_type": "stream",
     "text": [
      "\n",
      "Generated Answer:\n",
      "The provided context does not explicitly state whether the Agreement grants or does not grant the Receiving Party any rights to the Confidential Information. Therefore, based on the information given, I do not know if the Agreement indicates that the Receiving Party is or is not granted any rights to the Confidential Information.\n",
      "\n",
      "Source Documents (3 retrieved):\n",
      "  --- Source 1 ---\n",
      "  Filename: Evelozcity_20OESA_20NDA.txt\n",
      "  Directory: corpus/contractnli/Evelozcity_20OESA_20NDA.txt\n",
      "  Chunk Num: 9\n",
      "  --- Source 2 ---\n",
      "  Filename: Evelozcity_20OESA_20NDA.txt\n",
      "  Directory: corpus/contractnli/Evelozcity_20OESA_20NDA.txt\n",
      "  Chunk Num: 1\n",
      "  --- Source 3 ---\n",
      "  Filename: UALR-Standard-Non-disclosure-AgreementTemplate.txt\n",
      "  Directory: corpus/contractnli/UALR-Standard-Non-disclosure-AgreementTemplate.txt\n",
      "  Chunk Num: 3\n",
      "\n",
      "Processing query: \"Consider Evelozcity's Non-Disclosure Agreement; Does the document state that Confidential Information shall only include technical information?\"\n"
     ]
    },
    {
     "name": "stderr",
     "output_type": "stream",
     "text": [
      "Generating RAG answers:  68%|██████▊   | 68/100 [03:13<01:18,  2.46s/it]"
     ]
    },
    {
     "name": "stdout",
     "output_type": "stream",
     "text": [
      "\n",
      "Generated Answer:\n",
      "No, the document does not state that Confidential Information shall only include technical information. It explicitly includes a broad range of information such as \"technical, scientific, economic and business data, business plans,\" \"records, files, analysis, documents, software,\" \"financial, business plan and customer information,\" and \"other valuable information\" disclosed under confidentiality. Therefore, Confidential Information encompasses more than just technical information.\n",
      "\n",
      "Source Documents (3 retrieved):\n",
      "  --- Source 1 ---\n",
      "  Filename: ENTRUSTINC_07_24_1998-EX-10.5-STRATEGIC ALLIANCE AGREEMENT.txt\n",
      "  Directory: corpus/cuad/ENTRUSTINC_07_24_1998-EX-10.5-STRATEGIC ALLIANCE AGREEMENT.txt\n",
      "  Chunk Num: 38\n",
      "  --- Source 2 ---\n",
      "  Filename: NDA-Seeed.txt\n",
      "  Directory: corpus/contractnli/NDA-Seeed.txt\n",
      "  Chunk Num: 3\n",
      "  --- Source 3 ---\n",
      "  Filename: SupplementOne-NDA.txt\n",
      "  Directory: corpus/contractnli/SupplementOne-NDA.txt\n",
      "  Chunk Num: 3\n",
      "\n",
      "Processing query: \"Consider Evelozcity's Non-Disclosure Agreement; Does the document require that all Confidential Information be expressly identified by the Disclosing Party?\"\n"
     ]
    },
    {
     "name": "stderr",
     "output_type": "stream",
     "text": [
      "Generating RAG answers:  69%|██████▉   | 69/100 [03:16<01:17,  2.50s/it]"
     ]
    },
    {
     "name": "stdout",
     "output_type": "stream",
     "text": [
      "\n",
      "Generated Answer:\n",
      "No, the document does not require that all Confidential Information be expressly identified by the Disclosing Party. It includes \"any oral or visual information discloser designates as 'confidential' at the time of disclosure\" (which must be expressly identified), but also covers \"any source code and any names of actual or potential disclosers, whether or not marked as confidential,\" and \"any other nonpublic, sensitive or third party information that is possession of discloser and is disclosed to recipient under this agreement,\" which may not be expressly identified as confidential.\n",
      "\n",
      "Source Documents (3 retrieved):\n",
      "  --- Source 1 ---\n",
      "  Filename: SupplementOne-NDA.txt\n",
      "  Directory: corpus/contractnli/SupplementOne-NDA.txt\n",
      "  Chunk Num: 3\n",
      "  --- Source 2 ---\n",
      "  Filename: amc-general-mutual-non-disclosure-agreement-en-gb.txt\n",
      "  Directory: corpus/contractnli/amc-general-mutual-non-disclosure-agreement-en-gb.txt\n",
      "  Chunk Num: 8\n",
      "  --- Source 3 ---\n",
      "  Filename: Evelozcity_20OESA_20NDA.txt\n",
      "  Directory: corpus/contractnli/Evelozcity_20OESA_20NDA.txt\n",
      "  Chunk Num: 1\n",
      "\n",
      "Processing query: \"Consider Evelozcity's Non-Disclosure Agreement; Does the document mention that some obligations of the Agreement may survive the termination of the Agreement?\"\n"
     ]
    },
    {
     "name": "stderr",
     "output_type": "stream",
     "text": [
      "Generating RAG answers:  70%|███████   | 70/100 [03:19<01:18,  2.60s/it]"
     ]
    },
    {
     "name": "stdout",
     "output_type": "stream",
     "text": [
      "\n",
      "Generated Answer:\n",
      "Yes, the document states in section 8.9 \"survival of certain obligations\" that \"expiration or termination of the agreement shall not relieve the parties of any obligation accruing before such expiration or termination,\" and specifies that certain provisions, including sections 1, 2.5, 3.2(d), 3.2(e)(iii), 3.2(j), 4.4, 4.7, 6, 7, 8, and 9, \"shall survive the expiration of the agreement.\"\n",
      "\n",
      "Source Documents (3 retrieved):\n",
      "  --- Source 1 ---\n",
      "  Filename: Evelozcity_20OESA_20NDA.txt\n",
      "  Directory: corpus/contractnli/Evelozcity_20OESA_20NDA.txt\n",
      "  Chunk Num: 9\n",
      "  --- Source 2 ---\n",
      "  Filename: ExactSciencesCorp_20180822_8-K_EX-10.1_11331629_EX-10.1_Promotion Agreement.txt\n",
      "  Directory: corpus/cuad/ExactSciencesCorp_20180822_8-K_EX-10.1_11331629_EX-10.1_Promotion Agreement.txt\n",
      "  Chunk Num: 235\n",
      "  --- Source 3 ---\n",
      "  Filename: Evelozcity_20OESA_20NDA.txt\n",
      "  Directory: corpus/contractnli/Evelozcity_20OESA_20NDA.txt\n",
      "  Chunk Num: 1\n",
      "\n",
      "Processing query: \"Consider Evelozcity's Non-Disclosure Agreement; Does the document allow the Receiving Party to independently develop information that is similar to the Confidential Information?\"\n"
     ]
    },
    {
     "name": "stderr",
     "output_type": "stream",
     "text": [
      "Generating RAG answers:  71%|███████   | 71/100 [03:23<01:26,  2.98s/it]"
     ]
    },
    {
     "name": "stdout",
     "output_type": "stream",
     "text": [
      "\n",
      "Generated Answer:\n",
      "Yes, the document allows the Receiving Party to independently develop information that is similar to the Confidential Information. Specifically, clause 4 states that \"nothing in this agreement will prohibit the recipient from developing or having developed for it products, concepts, systems or techniques that are similar to or compete with the products, concepts, systems or techniques contemplated by or embodied in the confidential information provided that the recipient does not violate any of its obligations under this agreement in connection with such development.\"\n",
      "\n",
      "Source Documents (3 retrieved):\n",
      "  --- Source 1 ---\n",
      "  Filename: ON2TECHNOLOGIES,INC_11_17_2006-EX-10.3-SUPPORT AND MAINTENANCE AGREEMENT.txt\n",
      "  Directory: corpus/cuad/ON2TECHNOLOGIES,INC_11_17_2006-EX-10.3-SUPPORT AND MAINTENANCE AGREEMENT.txt\n",
      "  Chunk Num: 5\n",
      "  --- Source 2 ---\n",
      "  Filename: lti-two-way-cda-template.txt\n",
      "  Directory: corpus/contractnli/lti-two-way-cda-template.txt\n",
      "  Chunk Num: 5\n",
      "  --- Source 3 ---\n",
      "  Filename: Roundhouse-Creative-Mutual-NDA.txt\n",
      "  Directory: corpus/contractnli/Roundhouse-Creative-Mutual-NDA.txt\n",
      "  Chunk Num: 6\n",
      "\n",
      "Processing query: \"Consider Evelozcity's Non-Disclosure Agreement; Does the document allow verbally conveyed information to be considered as Confidential Information?\"\n"
     ]
    },
    {
     "name": "stderr",
     "output_type": "stream",
     "text": [
      "Generating RAG answers:  72%|███████▏  | 72/100 [03:25<01:21,  2.93s/it]"
     ]
    },
    {
     "name": "stdout",
     "output_type": "stream",
     "text": [
      "\n",
      "Generated Answer:\n",
      "Yes, the document allows verbally conveyed information to be considered as Confidential Information. It states that \"confidential information may be disclosed in writing, in other tangible form, orally or visually,\" and defines \"confidential information\" as including \"any oral or visual information discloser designates as 'confidential' at the time of disclosure.\"\n",
      "\n",
      "Source Documents (3 retrieved):\n",
      "  --- Source 1 ---\n",
      "  Filename: SupplementOne-NDA.txt\n",
      "  Directory: corpus/contractnli/SupplementOne-NDA.txt\n",
      "  Chunk Num: 3\n",
      "  --- Source 2 ---\n",
      "  Filename: ENTRUSTINC_07_24_1998-EX-10.5-STRATEGIC ALLIANCE AGREEMENT.txt\n",
      "  Directory: corpus/cuad/ENTRUSTINC_07_24_1998-EX-10.5-STRATEGIC ALLIANCE AGREEMENT.txt\n",
      "  Chunk Num: 38\n",
      "  --- Source 3 ---\n",
      "  Filename: EdietsComInc_20001030_10QSB_EX-10.4_2606646_EX-10.4_Co-Branding Agreement.txt\n",
      "  Directory: corpus/cuad/EdietsComInc_20001030_10QSB_EX-10.4_2606646_EX-10.4_Co-Branding Agreement.txt\n",
      "  Chunk Num: 41\n",
      "\n",
      "Processing query: \"Consider Evelozcity's Non-Disclosure Agreement; Does the document allow the Receiving Party to share some Confidential Information with third parties, including consultants, agents, and professional advisors?\"\n"
     ]
    },
    {
     "name": "stderr",
     "output_type": "stream",
     "text": [
      "Generating RAG answers:  73%|███████▎  | 73/100 [03:28<01:18,  2.91s/it]"
     ]
    },
    {
     "name": "stdout",
     "output_type": "stream",
     "text": [
      "\n",
      "Generated Answer:\n",
      "Yes, Evelozcity's Non-Disclosure Agreement allows the Receiving Party to share some Confidential Information with third parties such as consultants, agents, and professional advisors, but only under strict conditions. Specifically, confidential information \"may be disclosed by the receiving party to its employees, directors, officers, advisors, attorneys, auditors and agents only on a need-to-know basis in connection with the opportunity\" (paragraph 4). Additionally, such third parties must agree to hold the information in confidence and not use it for any unauthorized purpose, as the Receiving Party \"obtains the prior agreement of its employees, agents and consultants to whom disclosure is to be made to hold in confidence\" (section 12.2). The Receiving Party is also liable for all acts and omissions of these persons.\n",
      "\n",
      "Source Documents (3 retrieved):\n",
      "  --- Source 1 ---\n",
      "  Filename: MutualNDA_The_Knights_of_Unity.txt\n",
      "  Directory: corpus/contractnli/MutualNDA_The_Knights_of_Unity.txt\n",
      "  Chunk Num: 4\n",
      "  --- Source 2 ---\n",
      "  Filename: Microgenics Corporation - Collaborative Development and Commercialization Agreement.txt\n",
      "  Directory: corpus/cuad/Microgenics Corporation - Collaborative Development and Commercialization Agreement.txt\n",
      "  Chunk Num: 155\n",
      "  --- Source 3 ---\n",
      "  Filename: NDA-M5-Systems.txt\n",
      "  Directory: corpus/contractnli/NDA-M5-Systems.txt\n",
      "  Chunk Num: 4\n",
      "\n",
      "Processing query: \"Consider Evelozcity's Non-Disclosure Agreement; Does the document require the Receiving Party to notify the Disclosing Party if they are required by law, regulation, or judicial process to disclose any Confidential Information?\"\n"
     ]
    },
    {
     "name": "stderr",
     "output_type": "stream",
     "text": [
      "Generating RAG answers:  74%|███████▍  | 74/100 [03:30<01:08,  2.65s/it]"
     ]
    },
    {
     "name": "stdout",
     "output_type": "stream",
     "text": [
      "\n",
      "Generated Answer:\n",
      "Yes, the agreement requires the Receiving Party to notify the Disclosing Party if legally required to disclose any Confidential Information. Specifically, it states the Receiving Party shall \"(i) give disclosing party reasonable notice of such required disclosure prior to disclosure,\" and \"provide the disclosing party with prompt written notice of such requirement so that the disclosing party may seek a protective order or other appropriate relief.\"\n",
      "\n",
      "Source Documents (3 retrieved):\n",
      "  --- Source 1 ---\n",
      "  Filename: amc-general-mutual-non-disclosure-agreement-en-gb.txt\n",
      "  Directory: corpus/contractnli/amc-general-mutual-non-disclosure-agreement-en-gb.txt\n",
      "  Chunk Num: 8\n",
      "  --- Source 2 ---\n",
      "  Filename: Sonos, Inc. - Manufacturing Agreement .txt\n",
      "  Directory: corpus/cuad/Sonos, Inc. - Manufacturing Agreement .txt\n",
      "  Chunk Num: 81\n",
      "  --- Source 3 ---\n",
      "  Filename: Standard_20NDA_20by_20Axial.txt\n",
      "  Directory: corpus/contractnli/Standard_20NDA_20by_20Axial.txt\n",
      "  Chunk Num: 9\n",
      "\n",
      "Processing query: \"Consider Evelozcity's Non-Disclosure Agreement; Does the document allow the Receiving Party to acquire information similar to the Confidential Information from a third party?\"\n"
     ]
    },
    {
     "name": "stderr",
     "output_type": "stream",
     "text": [
      "Generating RAG answers:  75%|███████▌  | 75/100 [03:33<01:03,  2.52s/it]"
     ]
    },
    {
     "name": "stdout",
     "output_type": "stream",
     "text": [
      "\n",
      "Generated Answer:\n",
      "Yes, the Non-Disclosure Agreement allows the Receiving Party to acquire information similar to the Confidential Information from a third party, provided that the third party is not under an obligation of confidence to the Receiving Party. This is supported by the clause stating that confidential information \"shall not include any information which... was received from a third party not under an obligation of confidence to receiving party.\"\n",
      "\n",
      "Source Documents (3 retrieved):\n",
      "  --- Source 1 ---\n",
      "  Filename: UALR-Standard-Non-disclosure-AgreementTemplate.txt\n",
      "  Directory: corpus/contractnli/UALR-Standard-Non-disclosure-AgreementTemplate.txt\n",
      "  Chunk Num: 3\n",
      "  --- Source 2 ---\n",
      "  Filename: Sonos, Inc. - Manufacturing Agreement .txt\n",
      "  Directory: corpus/cuad/Sonos, Inc. - Manufacturing Agreement .txt\n",
      "  Chunk Num: 81\n",
      "  --- Source 3 ---\n",
      "  Filename: FTENETWORKS,INC_02_18_2016-EX-99.4-STRATEGIC ALLIANCE AGREEMENT.txt\n",
      "  Directory: corpus/cuad/FTENETWORKS,INC_02_18_2016-EX-99.4-STRATEGIC ALLIANCE AGREEMENT.txt\n",
      "  Chunk Num: 54\n",
      "\n",
      "Processing query: \"Consider Evelozcity's Non-Disclosure Agreement; Does the document allow the Receiving Party to share some Confidential Information with their employees?\"\n"
     ]
    },
    {
     "name": "stderr",
     "output_type": "stream",
     "text": [
      "Generating RAG answers:  76%|███████▌  | 76/100 [03:38<01:23,  3.48s/it]"
     ]
    },
    {
     "name": "stdout",
     "output_type": "stream",
     "text": [
      "\n",
      "Generated Answer:\n",
      "Yes, the document allows the Receiving Party to share some Confidential Information with their employees, but only under specific conditions. According to the context:\n",
      "\n",
      "- Confidential information \"may be disclosed by the receiving party to its employees, directors, officers, advisors, attorneys, auditors and agents only on a need-to-know basis in connection with the opportunity\" (paragraph 4).\n",
      "- Those employees must treat the information \"in a manner consistent with this agreement,\" and the receiving party is liable for their acts and omissions.\n",
      "- Disclosure to employees is permitted only if they \"have a specific need to know of the confidential information, for the evaluation of the proposed transaction.\"\n",
      "- Before receiving any confidential information, employees \"shall be required to read this non-disclosure agreement and... acknowledge and agree to abide by the receiving party's obligations hereunder.\"\n",
      "- Additionally, employees must have \"agreed in writing to confidentiality obligations at least as protective of the disclosing party as those set forth herein\" (paragraph 12.3).\n",
      "\n",
      "Therefore, sharing confidential information with employees is allowed but strictly limited to those who need to know for the purpose of the agreement and who are bound by confidentiality obligations.\n",
      "\n",
      "Source Documents (3 retrieved):\n",
      "  --- Source 1 ---\n",
      "  Filename: MutualNDA_The_Knights_of_Unity.txt\n",
      "  Directory: corpus/contractnli/MutualNDA_The_Knights_of_Unity.txt\n",
      "  Chunk Num: 4\n",
      "  --- Source 2 ---\n",
      "  Filename: Sonos, Inc. - Manufacturing Agreement .txt\n",
      "  Directory: corpus/cuad/Sonos, Inc. - Manufacturing Agreement .txt\n",
      "  Chunk Num: 81\n",
      "  --- Source 3 ---\n",
      "  Filename: UALR-Standard-Non-disclosure-AgreementTemplate.txt\n",
      "  Directory: corpus/contractnli/UALR-Standard-Non-disclosure-AgreementTemplate.txt\n",
      "  Chunk Num: 3\n",
      "\n",
      "Processing query: \"Consider Evelozcity's Non-Disclosure Agreement; Does the document restrict the use of Confidential Information to the purposes stated in the Agreement?\"\n"
     ]
    },
    {
     "name": "stderr",
     "output_type": "stream",
     "text": [
      "Generating RAG answers:  77%|███████▋  | 77/100 [03:42<01:19,  3.47s/it]"
     ]
    },
    {
     "name": "stdout",
     "output_type": "stream",
     "text": [
      "\n",
      "Generated Answer:\n",
      "Yes, the document restricts the use of Confidential Information to the purposes stated in the Agreement. Specifically, section 12.3 states that \"each party agrees not to use any confidential information of the other party for any purpose except as necessary to perform its obligations under this agreement.\"\n",
      "\n",
      "Source Documents (3 retrieved):\n",
      "  --- Source 1 ---\n",
      "  Filename: Evelozcity_20OESA_20NDA.txt\n",
      "  Directory: corpus/contractnli/Evelozcity_20OESA_20NDA.txt\n",
      "  Chunk Num: 9\n",
      "  --- Source 2 ---\n",
      "  Filename: Evelozcity_20OESA_20NDA.txt\n",
      "  Directory: corpus/contractnli/Evelozcity_20OESA_20NDA.txt\n",
      "  Chunk Num: 1\n",
      "  --- Source 3 ---\n",
      "  Filename: Sonos, Inc. - Manufacturing Agreement .txt\n",
      "  Directory: corpus/cuad/Sonos, Inc. - Manufacturing Agreement .txt\n",
      "  Chunk Num: 81\n",
      "\n",
      "Processing query: \"Consider Excelerate's Non-Disclosure Agreement; Does the document specify whether the Receiving Party is required to destroy or return Confidential Information upon the termination of the Agreement?\"\n"
     ]
    },
    {
     "name": "stderr",
     "output_type": "stream",
     "text": [
      "Generating RAG answers:  78%|███████▊  | 78/100 [03:45<01:12,  3.27s/it]"
     ]
    },
    {
     "name": "stdout",
     "output_type": "stream",
     "text": [
      "\n",
      "Generated Answer:\n",
      "Yes, the document specifies that upon termination or expiration of the Agreement, the Receiving Party is required to either return or destroy all Confidential Information received from the Disclosing Party. Specifically, section 10.6 states that \"upon termination of this agreement, the receiving party shall promptly return, or upon request of the disclosing party destroy and provide written certification of such destruction, all of the disclosing party's confidential information.\" Additionally, section 19.4 reinforces this by requiring the Receiving Party to \"promptly return or destroy all confidential information received from the disclosing party,\" with the allowance to retain one copy only for limited purposes such as exercising surviving rights or for archival/disaster recovery reasons.\n",
      "\n",
      "Source Documents (3 retrieved):\n",
      "  --- Source 1 ---\n",
      "  Filename: SigaTechnologiesInc_20190603_8-K_EX-10.1_11695818_EX-10.1_Promotion Agreement.txt\n",
      "  Directory: corpus/cuad/SigaTechnologiesInc_20190603_8-K_EX-10.1_11695818_EX-10.1_Promotion Agreement.txt\n",
      "  Chunk Num: 154\n",
      "  --- Source 2 ---\n",
      "  Filename: BERKELEYLIGHTS,INC_06_26_2020-EX-10.12-COLLABORATION AGREEMENT.txt\n",
      "  Directory: corpus/cuad/BERKELEYLIGHTS,INC_06_26_2020-EX-10.12-COLLABORATION AGREEMENT.txt\n",
      "  Chunk Num: 195\n",
      "  --- Source 3 ---\n",
      "  Filename: PHREESIA,INC_05_28_2019-EX-10.18-STRATEGIC ALLIANCE AGREEMENT.txt\n",
      "  Directory: corpus/cuad/PHREESIA,INC_05_28_2019-EX-10.18-STRATEGIC ALLIANCE AGREEMENT.txt\n",
      "  Chunk Num: 111\n",
      "\n",
      "Processing query: \"Consider Excelerate's Non-Disclosure Agreement; Does the document indicate that the Agreement does not grant the Receiving Party any rights to the Confidential Information?\"\n"
     ]
    },
    {
     "name": "stderr",
     "output_type": "stream",
     "text": [
      "Generating RAG answers:  79%|███████▉  | 79/100 [03:47<01:00,  2.90s/it]"
     ]
    },
    {
     "name": "stdout",
     "output_type": "stream",
     "text": [
      "\n",
      "Generated Answer:\n",
      "Yes, the agreement explicitly states that \"nothing in this agreement shall be construed as granting any rights to the receiving company or any of its representatives under any patent, copyright, trademark, trade secret, or other intellectual property right of owner,\" and that it \"shall not be construed to grant to the receiving company or any of its representatives any licenses or other rights in or to the confidential information except the limited right to review the confidential information solely for the purposes of determining whether to enter into the transaction.\"\n",
      "\n",
      "Source Documents (3 retrieved):\n",
      "  --- Source 1 ---\n",
      "  Filename: ExcelerateStandardNDAFormat.txt\n",
      "  Directory: corpus/contractnli/ExcelerateStandardNDAFormat.txt\n",
      "  Chunk Num: 1\n",
      "  --- Source 2 ---\n",
      "  Filename: UALR-Standard-Non-disclosure-AgreementTemplate.txt\n",
      "  Directory: corpus/contractnli/UALR-Standard-Non-disclosure-AgreementTemplate.txt\n",
      "  Chunk Num: 3\n",
      "  --- Source 3 ---\n",
      "  Filename: QEP-Williston-Form-of-Confidentiality-Agreement-BMO.txt\n",
      "  Directory: corpus/contractnli/QEP-Williston-Form-of-Confidentiality-Agreement-BMO.txt\n",
      "  Chunk Num: 17\n",
      "\n",
      "Processing query: \"Consider Excelerate's Non-Disclosure Agreement; Does the document state that Confidential Information shall only include technical information?\"\n"
     ]
    },
    {
     "name": "stderr",
     "output_type": "stream",
     "text": [
      "Generating RAG answers:  80%|████████  | 80/100 [03:48<00:51,  2.58s/it]"
     ]
    },
    {
     "name": "stdout",
     "output_type": "stream",
     "text": [
      "\n",
      "Generated Answer:\n",
      "No, the document does not state that Confidential Information shall only include technical information. It explicitly includes a broad range of information such as \"technical, scientific, economic and business data, business plans, and the like,\" as well as \"personnel and financial information, product cost information, contractual relationships,\" and many other categories beyond just technical information.\n",
      "\n",
      "Source Documents (3 retrieved):\n",
      "  --- Source 1 ---\n",
      "  Filename: ExcelerateStandardNDAFormat.txt\n",
      "  Directory: corpus/contractnli/ExcelerateStandardNDAFormat.txt\n",
      "  Chunk Num: 3\n",
      "  --- Source 2 ---\n",
      "  Filename: SEASPINEHOLDINGSCORP_10_10_2018-EX-10.1-SUPPLY AGREEMENT.txt\n",
      "  Directory: corpus/cuad/SEASPINEHOLDINGSCORP_10_10_2018-EX-10.1-SUPPLY AGREEMENT.txt\n",
      "  Chunk Num: 5\n",
      "  --- Source 3 ---\n",
      "  Filename: ENTRUSTINC_07_24_1998-EX-10.5-STRATEGIC ALLIANCE AGREEMENT.txt\n",
      "  Directory: corpus/cuad/ENTRUSTINC_07_24_1998-EX-10.5-STRATEGIC ALLIANCE AGREEMENT.txt\n",
      "  Chunk Num: 38\n",
      "\n",
      "Processing query: \"Consider Excelerate's Non-Disclosure Agreement; Does the document require that all Confidential Information be expressly identified by the Disclosing Party?\"\n"
     ]
    },
    {
     "name": "stderr",
     "output_type": "stream",
     "text": [
      "Generating RAG answers:  81%|████████  | 81/100 [03:51<00:48,  2.53s/it]"
     ]
    },
    {
     "name": "stdout",
     "output_type": "stream",
     "text": [
      "\n",
      "Generated Answer:\n",
      "The provided context does not state that all Confidential Information must be expressly identified by the Disclosing Party. It focuses on the obligations regarding disclosure, confidentiality, and exceptions, but does not include a requirement that Confidential Information be expressly identified. Therefore, based on the context given, the document does not require that all Confidential Information be expressly identified by the Disclosing Party.\n",
      "\n",
      "Source Documents (3 retrieved):\n",
      "  --- Source 1 ---\n",
      "  Filename: DovaPharmaceuticalsInc_20181108_10-Q_EX-10.2_11414857_EX-10.2_Promotion Agreement.txt\n",
      "  Directory: corpus/cuad/DovaPharmaceuticalsInc_20181108_10-Q_EX-10.2_11414857_EX-10.2_Promotion Agreement.txt\n",
      "  Chunk Num: 156\n",
      "  --- Source 2 ---\n",
      "  Filename: amc-general-mutual-non-disclosure-agreement-en-gb.txt\n",
      "  Directory: corpus/contractnli/amc-general-mutual-non-disclosure-agreement-en-gb.txt\n",
      "  Chunk Num: 8\n",
      "  --- Source 3 ---\n",
      "  Filename: UALR-Standard-Non-disclosure-AgreementTemplate.txt\n",
      "  Directory: corpus/contractnli/UALR-Standard-Non-disclosure-AgreementTemplate.txt\n",
      "  Chunk Num: 3\n",
      "\n",
      "Processing query: \"Consider Excelerate's Non-Disclosure Agreement; Does the document mention that some obligations of the Agreement may survive the termination of the Agreement?\"\n"
     ]
    },
    {
     "name": "stderr",
     "output_type": "stream",
     "text": [
      "Generating RAG answers:  82%|████████▏ | 82/100 [03:55<00:55,  3.10s/it]"
     ]
    },
    {
     "name": "stdout",
     "output_type": "stream",
     "text": [
      "\n",
      "Generated Answer:\n",
      "Yes, the document mentions that some obligations of the Agreement may survive termination. Specifically, it states that \"none of the representations, warranties, obligations, covenants and agreements in this agreement... shall survive the effective time, except for section 6.8 and for those other obligations, covenants and agreements contained in this agreement which by their terms apply in whole or in part after the effective time.\" Additionally, it notes that the confidentiality agreement \"will (a) not be superseded; (b) survive any termination of this agreement; and (c) continue in full force and effect until the earlier to occur of the effective time and the date on which the confidentiality agreement expires.\" Also, section 8.9 confirms that \"expiration or termination of the agreement shall not relieve the parties of any obligation accruing before such expiration or termination,\" and lists several sections whose provisions \"shall survive the expiration of the agreement.\"\n",
      "\n",
      "Source Documents (3 retrieved):\n",
      "  --- Source 1 ---\n",
      "  Filename: People_s United Financial, Inc._M_T Bank Corporation.txt\n",
      "  Directory: corpus/maud/People_s United Financial, Inc._M_T Bank Corporation.txt\n",
      "  Chunk Num: 443\n",
      "  --- Source 2 ---\n",
      "  Filename: Nuance Communications, Inc._Microsoft Corporation.txt\n",
      "  Directory: corpus/maud/Nuance Communications, Inc._Microsoft Corporation.txt\n",
      "  Chunk Num: 468\n",
      "  --- Source 3 ---\n",
      "  Filename: ExactSciencesCorp_20180822_8-K_EX-10.1_11331629_EX-10.1_Promotion Agreement.txt\n",
      "  Directory: corpus/cuad/ExactSciencesCorp_20180822_8-K_EX-10.1_11331629_EX-10.1_Promotion Agreement.txt\n",
      "  Chunk Num: 235\n",
      "\n",
      "Processing query: \"Consider Excelerate's Non-Disclosure Agreement; Does the document allow the Receiving Party to independently develop information that is similar to the Confidential Information?\"\n"
     ]
    },
    {
     "name": "stderr",
     "output_type": "stream",
     "text": [
      "Generating RAG answers:  83%|████████▎ | 83/100 [03:58<00:51,  3.05s/it]"
     ]
    },
    {
     "name": "stdout",
     "output_type": "stream",
     "text": [
      "\n",
      "Generated Answer:\n",
      "Yes, the document allows the Receiving Party to independently develop information that is similar to the Confidential Information. Specifically, section 4 states that \"the terms of this agreement shall not be construed to limit either party's right to develop independently or acquire products without use of the other party's confidential information.\" Additionally, section 19.6 confirms that \"nothing in this agreement will prohibit any party or its representatives from developing, manufacturing, marketing, selling, servicing, or supporting... products, concepts, systems, or techniques that are similar to or compete with the products, concepts, systems, or techniques contemplated by or embodied in the other party's confidential information,\" provided they do not use the other party's confidential information in connection with such activities.\n",
      "\n",
      "Source Documents (3 retrieved):\n",
      "  --- Source 1 ---\n",
      "  Filename: PHREESIA,INC_05_28_2019-EX-10.18-STRATEGIC ALLIANCE AGREEMENT.txt\n",
      "  Directory: corpus/cuad/PHREESIA,INC_05_28_2019-EX-10.18-STRATEGIC ALLIANCE AGREEMENT.txt\n",
      "  Chunk Num: 113\n",
      "  --- Source 2 ---\n",
      "  Filename: Roundhouse-Creative-Mutual-NDA.txt\n",
      "  Directory: corpus/contractnli/Roundhouse-Creative-Mutual-NDA.txt\n",
      "  Chunk Num: 6\n",
      "  --- Source 3 ---\n",
      "  Filename: lti-two-way-cda-template.txt\n",
      "  Directory: corpus/contractnli/lti-two-way-cda-template.txt\n",
      "  Chunk Num: 5\n",
      "\n",
      "Processing query: \"Consider Excelerate's Non-Disclosure Agreement; Does the document permit the Receiving Party to retain some Confidential Information even after its return or destruction?\"\n"
     ]
    },
    {
     "name": "stderr",
     "output_type": "stream",
     "text": [
      "Generating RAG answers:  84%|████████▍ | 84/100 [04:01<00:45,  2.87s/it]"
     ]
    },
    {
     "name": "stdout",
     "output_type": "stream",
     "text": [
      "\n",
      "Generated Answer:\n",
      "Yes, the document permits the Receiving Party to retain some Confidential Information even after its return or destruction. Specifically, it states that the Receiving Party \"may retain a reasonable number of archival copies as may be required by law or its reasonable standard document retention policies\" and \"may keep copies of all confidential information within its ordinary legal archives (including its back-up systems).\"\n",
      "\n",
      "Source Documents (3 retrieved):\n",
      "  --- Source 1 ---\n",
      "  Filename: SigaTechnologiesInc_20190603_8-K_EX-10.1_11695818_EX-10.1_Promotion Agreement.txt\n",
      "  Directory: corpus/cuad/SigaTechnologiesInc_20190603_8-K_EX-10.1_11695818_EX-10.1_Promotion Agreement.txt\n",
      "  Chunk Num: 154\n",
      "  --- Source 2 ---\n",
      "  Filename: EdietsComInc_20001030_10QSB_EX-10.4_2606646_EX-10.4_Co-Branding Agreement.txt\n",
      "  Directory: corpus/cuad/EdietsComInc_20001030_10QSB_EX-10.4_2606646_EX-10.4_Co-Branding Agreement.txt\n",
      "  Chunk Num: 43\n",
      "  --- Source 3 ---\n",
      "  Filename: CoherusBiosciencesInc_20200227_10-K_EX-10.29_12021376_EX-10.29_Development Agreement.txt\n",
      "  Directory: corpus/cuad/CoherusBiosciencesInc_20200227_10-K_EX-10.29_12021376_EX-10.29_Development Agreement.txt\n",
      "  Chunk Num: 129\n",
      "\n",
      "Processing query: \"Consider Excelerate's Non-Disclosure Agreement; Does the document allow verbally conveyed information to be considered as Confidential Information?\"\n"
     ]
    },
    {
     "name": "stderr",
     "output_type": "stream",
     "text": [
      "Generating RAG answers:  85%|████████▌ | 85/100 [04:02<00:38,  2.54s/it]"
     ]
    },
    {
     "name": "stdout",
     "output_type": "stream",
     "text": [
      "\n",
      "Generated Answer:\n",
      "Yes, the document allows verbally conveyed information to be considered as Confidential Information. It states that \"confidential information may be disclosed in writing, in other tangible form, orally or visually,\" and defines \"confidential information\" as including information disclosed \"orally, visually, in writing or in any other tangible form.\"\n",
      "\n",
      "Source Documents (3 retrieved):\n",
      "  --- Source 1 ---\n",
      "  Filename: EdietsComInc_20001030_10QSB_EX-10.4_2606646_EX-10.4_Co-Branding Agreement.txt\n",
      "  Directory: corpus/cuad/EdietsComInc_20001030_10QSB_EX-10.4_2606646_EX-10.4_Co-Branding Agreement.txt\n",
      "  Chunk Num: 41\n",
      "  --- Source 2 ---\n",
      "  Filename: ENTRUSTINC_07_24_1998-EX-10.5-STRATEGIC ALLIANCE AGREEMENT.txt\n",
      "  Directory: corpus/cuad/ENTRUSTINC_07_24_1998-EX-10.5-STRATEGIC ALLIANCE AGREEMENT.txt\n",
      "  Chunk Num: 38\n",
      "  --- Source 3 ---\n",
      "  Filename: SupplementOne-NDA.txt\n",
      "  Directory: corpus/contractnli/SupplementOne-NDA.txt\n",
      "  Chunk Num: 3\n",
      "\n",
      "Processing query: \"Consider Excelerate's Non-Disclosure Agreement; Does the document allow the Receiving Party to share some Confidential Information with third parties, including consultants, agents, and professional advisors?\"\n"
     ]
    },
    {
     "name": "stderr",
     "output_type": "stream",
     "text": [
      "Generating RAG answers:  86%|████████▌ | 86/100 [04:06<00:40,  2.93s/it]"
     ]
    },
    {
     "name": "stdout",
     "output_type": "stream",
     "text": [
      "\n",
      "Generated Answer:\n",
      "Yes, the agreement allows the Receiving Party to share Confidential Information with certain third parties such as employees, agents, consultants, advisors, attorneys, auditors, and officers, but only under strict conditions. Specifically, paragraph 4 states that confidential information \"may be disclosed by the receiving party to its employees, directors, officers, advisors, attorneys, auditors and agents only on a need-to-know basis in connection with the opportunity,\" and these individuals must treat the information \"in a manner consistent with this agreement.\" Additionally, section 12.2 permits disclosure \"to employees, agents or consultants of the receiving party, but only to the extent required to accomplish the purposes of this agreement and only after the receiving party obtains the prior agreement of its employees, agents and consultants... to hold in confidence and not to make use of such information for any purpose other than that permitted by this agreement.\" Therefore, sharing is allowed but limited to necessary parties who agree to confidentiality obligations.\n",
      "\n",
      "Source Documents (3 retrieved):\n",
      "  --- Source 1 ---\n",
      "  Filename: MutualNDA_The_Knights_of_Unity.txt\n",
      "  Directory: corpus/contractnli/MutualNDA_The_Knights_of_Unity.txt\n",
      "  Chunk Num: 4\n",
      "  --- Source 2 ---\n",
      "  Filename: UALR-Standard-Non-disclosure-AgreementTemplate.txt\n",
      "  Directory: corpus/contractnli/UALR-Standard-Non-disclosure-AgreementTemplate.txt\n",
      "  Chunk Num: 3\n",
      "  --- Source 3 ---\n",
      "  Filename: Microgenics Corporation - Collaborative Development and Commercialization Agreement.txt\n",
      "  Directory: corpus/cuad/Microgenics Corporation - Collaborative Development and Commercialization Agreement.txt\n",
      "  Chunk Num: 155\n",
      "\n",
      "Processing query: \"Consider Excelerate's Non-Disclosure Agreement; Does the document permit the Receiving Party to create a copy of some Confidential Information under certain circumstances?\"\n"
     ]
    },
    {
     "name": "stderr",
     "output_type": "stream",
     "text": [
      "Generating RAG answers:  87%|████████▋ | 87/100 [04:09<00:36,  2.83s/it]"
     ]
    },
    {
     "name": "stdout",
     "output_type": "stream",
     "text": [
      "\n",
      "Generated Answer:\n",
      "Yes, the Non-Disclosure Agreement permits the Receiving Party to create copies of Confidential Information only as necessary for the evaluation of the proposed transaction and strictly within the limits of the agreement. Specifically, the Receiving Party \"agrees to retain the confidential information in confidence and shall not copy or disclose the confidential information... except as described in paragraph 4,\" which allows disclosure to employees and certain representatives \"only on a need-to-know basis in connection with the opportunity.\" Therefore, copying is implicitly permitted to the extent required for internal use by authorized individuals under the agreement.\n",
      "\n",
      "Source Documents (3 retrieved):\n",
      "  --- Source 1 ---\n",
      "  Filename: UALR-Standard-Non-disclosure-AgreementTemplate.txt\n",
      "  Directory: corpus/contractnli/UALR-Standard-Non-disclosure-AgreementTemplate.txt\n",
      "  Chunk Num: 3\n",
      "  --- Source 2 ---\n",
      "  Filename: MutualNDA_The_Knights_of_Unity.txt\n",
      "  Directory: corpus/contractnli/MutualNDA_The_Knights_of_Unity.txt\n",
      "  Chunk Num: 4\n",
      "  --- Source 3 ---\n",
      "  Filename: lti-two-way-cda-template.txt\n",
      "  Directory: corpus/contractnli/lti-two-way-cda-template.txt\n",
      "  Chunk Num: 5\n",
      "\n",
      "Processing query: \"Consider Excelerate's Non-Disclosure Agreement; Does the document require the Receiving Party to notify the Disclosing Party if they are required by law, regulation, or judicial process to disclose any Confidential Information?\"\n"
     ]
    },
    {
     "name": "stderr",
     "output_type": "stream",
     "text": [
      "Generating RAG answers:  88%|████████▊ | 88/100 [04:11<00:31,  2.61s/it]"
     ]
    },
    {
     "name": "stdout",
     "output_type": "stream",
     "text": [
      "\n",
      "Generated Answer:\n",
      "Yes, the agreement requires the Receiving Party to notify the Disclosing Party if legally required to disclose Confidential Information. Specifically, it states the Receiving Party shall \"(i) give disclosing party reasonable notice of such required disclosure prior to disclosure,\" and \"if a receiving party is required by a final authorized order... to make any disclosure... the receiving party will provide the disclosing party with prompt written notice of such requirement so that the disclosing party may seek a protective order or other appropriate relief.\"\n",
      "\n",
      "Source Documents (3 retrieved):\n",
      "  --- Source 1 ---\n",
      "  Filename: amc-general-mutual-non-disclosure-agreement-en-gb.txt\n",
      "  Directory: corpus/contractnli/amc-general-mutual-non-disclosure-agreement-en-gb.txt\n",
      "  Chunk Num: 8\n",
      "  --- Source 2 ---\n",
      "  Filename: DovaPharmaceuticalsInc_20181108_10-Q_EX-10.2_11414857_EX-10.2_Promotion Agreement.txt\n",
      "  Directory: corpus/cuad/DovaPharmaceuticalsInc_20181108_10-Q_EX-10.2_11414857_EX-10.2_Promotion Agreement.txt\n",
      "  Chunk Num: 156\n",
      "  --- Source 3 ---\n",
      "  Filename: Sonos, Inc. - Manufacturing Agreement .txt\n",
      "  Directory: corpus/cuad/Sonos, Inc. - Manufacturing Agreement .txt\n",
      "  Chunk Num: 81\n",
      "\n",
      "Processing query: \"Consider Excelerate's Non-Disclosure Agreement; Does the document allow the Receiving Party to acquire information similar to the Confidential Information from a third party?\"\n"
     ]
    },
    {
     "name": "stderr",
     "output_type": "stream",
     "text": [
      "Generating RAG answers:  89%|████████▉ | 89/100 [04:13<00:27,  2.46s/it]"
     ]
    },
    {
     "name": "stdout",
     "output_type": "stream",
     "text": [
      "\n",
      "Generated Answer:\n",
      "Yes, the document allows the Receiving Party to acquire information similar to the Confidential Information from a third party, provided that the third party is not under an obligation of confidentiality to the disclosing party. This is supported by the clause stating confidential information \"shall not include any information which... was received from a third party not under an obligation of confidence to receiving party\" and \"is disclosed to the receiving party by a third party with no confidentiality obligations to the disclosing party.\"\n",
      "\n",
      "Source Documents (3 retrieved):\n",
      "  --- Source 1 ---\n",
      "  Filename: UALR-Standard-Non-disclosure-AgreementTemplate.txt\n",
      "  Directory: corpus/contractnli/UALR-Standard-Non-disclosure-AgreementTemplate.txt\n",
      "  Chunk Num: 3\n",
      "  --- Source 2 ---\n",
      "  Filename: lti-two-way-cda-template.txt\n",
      "  Directory: corpus/contractnli/lti-two-way-cda-template.txt\n",
      "  Chunk Num: 5\n",
      "  --- Source 3 ---\n",
      "  Filename: LiiON_20NDA_202-27-2015_20v1.0.txt\n",
      "  Directory: corpus/contractnli/LiiON_20NDA_202-27-2015_20v1.0.txt\n",
      "  Chunk Num: 8\n",
      "\n",
      "Processing query: \"Consider Excelerate's Non-Disclosure Agreement; Does the document allow the Receiving Party to share some Confidential Information with their employees?\"\n"
     ]
    },
    {
     "name": "stderr",
     "output_type": "stream",
     "text": [
      "Generating RAG answers:  90%|█████████ | 90/100 [04:16<00:25,  2.59s/it]"
     ]
    },
    {
     "name": "stdout",
     "output_type": "stream",
     "text": [
      "\n",
      "Generated Answer:\n",
      "Yes, the document allows the Receiving Party to share Confidential Information with their employees, but only \"to the extent that such employees have a specific need to know of the confidential information, for the evaluation of the proposed transaction.\" Additionally, before receiving any confidential information, the employees must read the non-disclosure agreement and agree to abide by its terms. The disclosure must be on a need-to-know basis and subject to the same confidentiality obligations.\n",
      "\n",
      "Source Documents (3 retrieved):\n",
      "  --- Source 1 ---\n",
      "  Filename: UALR-Standard-Non-disclosure-AgreementTemplate.txt\n",
      "  Directory: corpus/contractnli/UALR-Standard-Non-disclosure-AgreementTemplate.txt\n",
      "  Chunk Num: 3\n",
      "  --- Source 2 ---\n",
      "  Filename: MutualNDA_The_Knights_of_Unity.txt\n",
      "  Directory: corpus/contractnli/MutualNDA_The_Knights_of_Unity.txt\n",
      "  Chunk Num: 4\n",
      "  --- Source 3 ---\n",
      "  Filename: LiiON_20NDA_202-27-2015_20v1.0.txt\n",
      "  Directory: corpus/contractnli/LiiON_20NDA_202-27-2015_20v1.0.txt\n",
      "  Chunk Num: 8\n",
      "\n",
      "Processing query: \"Consider Excelerate's Non-Disclosure Agreement; Does the document restrict the use of Confidential Information to the purposes stated in the Agreement?\"\n"
     ]
    },
    {
     "name": "stderr",
     "output_type": "stream",
     "text": [
      "Generating RAG answers:  91%|█████████ | 91/100 [04:18<00:20,  2.32s/it]"
     ]
    },
    {
     "name": "stdout",
     "output_type": "stream",
     "text": [
      "\n",
      "Generated Answer:\n",
      "Yes, the document restricts the use of Confidential Information to the purposes stated in the Agreement. Specifically, section 11.3 states that \"each party agrees to use the confidential information of the other party solely to the extent necessary to fulfill its obligations or exercise its rights hereunder, and not for any other purpose.\"\n",
      "\n",
      "Source Documents (3 retrieved):\n",
      "  --- Source 1 ---\n",
      "  Filename: ExcelerateStandardNDAFormat.txt\n",
      "  Directory: corpus/contractnli/ExcelerateStandardNDAFormat.txt\n",
      "  Chunk Num: 1\n",
      "  --- Source 2 ---\n",
      "  Filename: EdietsComInc_20001030_10QSB_EX-10.4_2606646_EX-10.4_Co-Branding Agreement.txt\n",
      "  Directory: corpus/cuad/EdietsComInc_20001030_10QSB_EX-10.4_2606646_EX-10.4_Co-Branding Agreement.txt\n",
      "  Chunk Num: 42\n",
      "  --- Source 3 ---\n",
      "  Filename: JOINTCORP_09_19_2014-EX-10.15-FRANCHISE AGREEMENT.txt\n",
      "  Directory: corpus/cuad/JOINTCORP_09_19_2014-EX-10.15-FRANCHISE AGREEMENT.txt\n",
      "  Chunk Num: 99\n",
      "\n",
      "Processing query: \"Consider FNHA's Non-Disclosure Agreement; Does the document specify whether the Receiving Party is required to destroy or return Confidential Information upon the termination of the Agreement?\"\n"
     ]
    },
    {
     "name": "stderr",
     "output_type": "stream",
     "text": [
      "Generating RAG answers:  92%|█████████▏| 92/100 [04:20<00:19,  2.40s/it]"
     ]
    },
    {
     "name": "stdout",
     "output_type": "stream",
     "text": [
      "\n",
      "Generated Answer:\n",
      "Yes, the document specifies that upon termination of the agreement, the Receiving Party is required to either promptly return or, upon request of the Disclosing Party, destroy all confidential information. Specifically, section 10.6 states: \"upon termination of this agreement, the receiving party shall promptly return, or upon request of the disclosing party destroy and provide written certification of such destruction, all of the disclosing party's confidential information.\" Additionally, the company agrees to \"return confidential information to fnha, if fnha so directs, or to destroy confidential information once the rfp process completes or earlier if fnha so directs.\"\n",
      "\n",
      "Source Documents (3 retrieved):\n",
      "  --- Source 1 ---\n",
      "  Filename: SigaTechnologiesInc_20190603_8-K_EX-10.1_11695818_EX-10.1_Promotion Agreement.txt\n",
      "  Directory: corpus/cuad/SigaTechnologiesInc_20190603_8-K_EX-10.1_11695818_EX-10.1_Promotion Agreement.txt\n",
      "  Chunk Num: 154\n",
      "  --- Source 2 ---\n",
      "  Filename: WaterNowInc_20191120_10-Q_EX-10.12_11900227_EX-10.12_Distributor Agreement.txt\n",
      "  Directory: corpus/cuad/WaterNowInc_20191120_10-Q_EX-10.12_11900227_EX-10.12_Distributor Agreement.txt\n",
      "  Chunk Num: 44\n",
      "  --- Source 3 ---\n",
      "  Filename: FNHA-2019RFP-02-NDA-form.txt\n",
      "  Directory: corpus/contractnli/FNHA-2019RFP-02-NDA-form.txt\n",
      "  Chunk Num: 3\n",
      "\n",
      "Processing query: \"Consider FNHA's Non-Disclosure Agreement; Does the document indicate that the Agreement does not grant the Receiving Party any rights to the Confidential Information?\"\n"
     ]
    },
    {
     "name": "stderr",
     "output_type": "stream",
     "text": [
      "Generating RAG answers:  93%|█████████▎| 93/100 [04:22<00:15,  2.15s/it]"
     ]
    },
    {
     "name": "stdout",
     "output_type": "stream",
     "text": [
      "\n",
      "Generated Answer:\n",
      "Yes, the document explicitly states that \"nothing contained in this agreement will be construed as granting [the company] any rights, by license or otherwise, to any confidential information.\"\n",
      "\n",
      "Source Documents (3 retrieved):\n",
      "  --- Source 1 ---\n",
      "  Filename: FNHA-2019RFP-02-NDA-form.txt\n",
      "  Directory: corpus/contractnli/FNHA-2019RFP-02-NDA-form.txt\n",
      "  Chunk Num: 4\n",
      "  --- Source 2 ---\n",
      "  Filename: FNHA-2019RFP-02-NDA-form.txt\n",
      "  Directory: corpus/contractnli/FNHA-2019RFP-02-NDA-form.txt\n",
      "  Chunk Num: 3\n",
      "  --- Source 3 ---\n",
      "  Filename: UALR-Standard-Non-disclosure-AgreementTemplate.txt\n",
      "  Directory: corpus/contractnli/UALR-Standard-Non-disclosure-AgreementTemplate.txt\n",
      "  Chunk Num: 3\n",
      "\n",
      "Processing query: \"Consider FNHA's Non-Disclosure Agreement; Does the document include a clause that prevents the Receiving Party from disclosing the fact that the Agreement was agreed upon or negotiated?\"\n"
     ]
    },
    {
     "name": "stderr",
     "output_type": "stream",
     "text": [
      "Generating RAG answers:  94%|█████████▍| 94/100 [04:25<00:14,  2.39s/it]"
     ]
    },
    {
     "name": "stdout",
     "output_type": "stream",
     "text": [
      "\n",
      "Generated Answer:\n",
      "The provided context does not include any clause that explicitly prevents the Receiving Party from disclosing the fact that the Agreement was agreed upon or negotiated. The non-disclosure provisions focus on preventing the disclosure of confidential information itself, but there is no mention of restricting disclosure about the existence or negotiation of the Agreement.\n",
      "\n",
      "Source Documents (3 retrieved):\n",
      "  --- Source 1 ---\n",
      "  Filename: FNHA-2019RFP-02-NDA-form.txt\n",
      "  Directory: corpus/contractnli/FNHA-2019RFP-02-NDA-form.txt\n",
      "  Chunk Num: 4\n",
      "  --- Source 2 ---\n",
      "  Filename: FNHA-2019RFP-02-NDA-form.txt\n",
      "  Directory: corpus/contractnli/FNHA-2019RFP-02-NDA-form.txt\n",
      "  Chunk Num: 3\n",
      "  --- Source 3 ---\n",
      "  Filename: Sonos, Inc. - Manufacturing Agreement .txt\n",
      "  Directory: corpus/cuad/Sonos, Inc. - Manufacturing Agreement .txt\n",
      "  Chunk Num: 81\n",
      "\n",
      "Processing query: \"Consider FNHA's Non-Disclosure Agreement; Does the document require that all Confidential Information be expressly identified by the Disclosing Party?\"\n"
     ]
    },
    {
     "name": "stderr",
     "output_type": "stream",
     "text": [
      "Generating RAG answers:  95%|█████████▌| 95/100 [04:27<00:11,  2.25s/it]"
     ]
    },
    {
     "name": "stdout",
     "output_type": "stream",
     "text": [
      "\n",
      "Generated Answer:\n",
      "Yes, the document requires that all confidential information be \"expressly marked or designated in writing by the disclosing party in a manner to indicate its confidential, proprietary or otherwise non-public nature.\"\n",
      "\n",
      "Source Documents (3 retrieved):\n",
      "  --- Source 1 ---\n",
      "  Filename: NDA-Template-Media-News-Group-inc.txt\n",
      "  Directory: corpus/contractnli/NDA-Template-Media-News-Group-inc.txt\n",
      "  Chunk Num: 4\n",
      "  --- Source 2 ---\n",
      "  Filename: FNHA-2019RFP-02-NDA-form.txt\n",
      "  Directory: corpus/contractnli/FNHA-2019RFP-02-NDA-form.txt\n",
      "  Chunk Num: 3\n",
      "  --- Source 3 ---\n",
      "  Filename: Apollo Endosurgery - Manufacturing and Supply Agreement.txt\n",
      "  Directory: corpus/cuad/Apollo Endosurgery - Manufacturing and Supply Agreement.txt\n",
      "  Chunk Num: 48\n",
      "\n",
      "Processing query: \"Consider FNHA's Non-Disclosure Agreement; Does the document allow verbally conveyed information to be considered as Confidential Information?\"\n"
     ]
    },
    {
     "name": "stderr",
     "output_type": "stream",
     "text": [
      "Generating RAG answers:  96%|█████████▌| 96/100 [04:28<00:08,  2.06s/it]"
     ]
    },
    {
     "name": "stdout",
     "output_type": "stream",
     "text": [
      "\n",
      "Generated Answer:\n",
      "Yes, the document allows verbally conveyed information to be considered as Confidential Information. It states that confidential information includes \"all information clearly identified as confidential at the time of disclosure (or, in the case of information disclosed orally, within thirty (30) days of the date of disclosure).\"\n",
      "\n",
      "Source Documents (3 retrieved):\n",
      "  --- Source 1 ---\n",
      "  Filename: FNHA-2019RFP-02-NDA-form.txt\n",
      "  Directory: corpus/contractnli/FNHA-2019RFP-02-NDA-form.txt\n",
      "  Chunk Num: 4\n",
      "  --- Source 2 ---\n",
      "  Filename: FNHA-2019RFP-02-NDA-form.txt\n",
      "  Directory: corpus/contractnli/FNHA-2019RFP-02-NDA-form.txt\n",
      "  Chunk Num: 3\n",
      "  --- Source 3 ---\n",
      "  Filename: OASYSMOBILE,INC_07_05_2001-EX-10.17-OUTSOURCING AGREEMENT.txt\n",
      "  Directory: corpus/cuad/OASYSMOBILE,INC_07_05_2001-EX-10.17-OUTSOURCING AGREEMENT.txt\n",
      "  Chunk Num: 30\n",
      "\n",
      "Processing query: \"Consider FNHA's Non-Disclosure Agreement; Does the document allow the Receiving Party to share some Confidential Information with third parties, including consultants, agents, and professional advisors?\"\n"
     ]
    },
    {
     "name": "stderr",
     "output_type": "stream",
     "text": [
      "Generating RAG answers:  97%|█████████▋| 97/100 [04:31<00:06,  2.21s/it]"
     ]
    },
    {
     "name": "stdout",
     "output_type": "stream",
     "text": [
      "\n",
      "Generated Answer:\n",
      "The document does not explicitly allow the Receiving Party to share Confidential Information with third parties such as consultants, agents, or professional advisors. It states that confidential information \"shall only be disclosed to the receiving party's employees and, even then, only to the extent that such employees have a specific need to know,\" and requires employees to agree to the non-disclosure obligations. There is no mention of permitting disclosure to third parties outside the receiving party's employees unless expressly authorized in writing by FNHA. Therefore, sharing with third parties like consultants or agents is not permitted unless FNHA provides explicit written authorization.\n",
      "\n",
      "Source Documents (3 retrieved):\n",
      "  --- Source 1 ---\n",
      "  Filename: FNHA-2019RFP-02-NDA-form.txt\n",
      "  Directory: corpus/contractnli/FNHA-2019RFP-02-NDA-form.txt\n",
      "  Chunk Num: 4\n",
      "  --- Source 2 ---\n",
      "  Filename: FNHA-2019RFP-02-NDA-form.txt\n",
      "  Directory: corpus/contractnli/FNHA-2019RFP-02-NDA-form.txt\n",
      "  Chunk Num: 3\n",
      "  --- Source 3 ---\n",
      "  Filename: UALR-Standard-Non-disclosure-AgreementTemplate.txt\n",
      "  Directory: corpus/contractnli/UALR-Standard-Non-disclosure-AgreementTemplate.txt\n",
      "  Chunk Num: 3\n",
      "\n",
      "Processing query: \"Consider FNHA's Non-Disclosure Agreement; Does the document permit the Receiving Party to create a copy of some Confidential Information under certain circumstances?\"\n"
     ]
    },
    {
     "name": "stderr",
     "output_type": "stream",
     "text": [
      "Generating RAG answers:  98%|█████████▊| 98/100 [04:33<00:04,  2.23s/it]"
     ]
    },
    {
     "name": "stdout",
     "output_type": "stream",
     "text": [
      "\n",
      "Generated Answer:\n",
      "Yes, the document permits the Receiving Party to create copies of Confidential Information only to the extent necessary for evaluation purposes and subject to strict conditions. Specifically, the Receiving Party \"shall not copy or disclose the confidential information to or use the confidential information for the benefit of any third party,\" but confidential information \"shall only be disclosed to the receiving party's employees... to the extent that such employees have a specific need to know of the confidential information, for the evaluation of the proposed transaction.\" This implies limited copying may be allowed internally for evaluation, but no unauthorized copying or dissemination is permitted.\n",
      "\n",
      "Source Documents (3 retrieved):\n",
      "  --- Source 1 ---\n",
      "  Filename: FNHA-2019RFP-02-NDA-form.txt\n",
      "  Directory: corpus/contractnli/FNHA-2019RFP-02-NDA-form.txt\n",
      "  Chunk Num: 3\n",
      "  --- Source 2 ---\n",
      "  Filename: FNHA-2019RFP-02-NDA-form.txt\n",
      "  Directory: corpus/contractnli/FNHA-2019RFP-02-NDA-form.txt\n",
      "  Chunk Num: 4\n",
      "  --- Source 3 ---\n",
      "  Filename: UALR-Standard-Non-disclosure-AgreementTemplate.txt\n",
      "  Directory: corpus/contractnli/UALR-Standard-Non-disclosure-AgreementTemplate.txt\n",
      "  Chunk Num: 3\n",
      "\n",
      "Processing query: \"Consider FNHA's Non-Disclosure Agreement; Does the document allow the Receiving Party to share some Confidential Information with their employees?\"\n"
     ]
    },
    {
     "name": "stderr",
     "output_type": "stream",
     "text": [
      "Generating RAG answers:  99%|█████████▉| 99/100 [04:35<00:02,  2.19s/it]"
     ]
    },
    {
     "name": "stdout",
     "output_type": "stream",
     "text": [
      "\n",
      "Generated Answer:\n",
      "Yes, the document allows the Receiving Party to share some Confidential Information with their employees, but only \"to the extent that such employees have a specific need to know of the confidential information, for the evaluation of the proposed transaction.\" Additionally, before receiving any part of the confidential information, these employees \"shall be required to read this non-disclosure agreement and, by receiving such confidential information, such employee shall acknowledge and agree to abide by the receiving party's obligations hereunder.\"\n",
      "\n",
      "Source Documents (3 retrieved):\n",
      "  --- Source 1 ---\n",
      "  Filename: FNHA-2019RFP-02-NDA-form.txt\n",
      "  Directory: corpus/contractnli/FNHA-2019RFP-02-NDA-form.txt\n",
      "  Chunk Num: 3\n",
      "  --- Source 2 ---\n",
      "  Filename: FNHA-2019RFP-02-NDA-form.txt\n",
      "  Directory: corpus/contractnli/FNHA-2019RFP-02-NDA-form.txt\n",
      "  Chunk Num: 4\n",
      "  --- Source 3 ---\n",
      "  Filename: UALR-Standard-Non-disclosure-AgreementTemplate.txt\n",
      "  Directory: corpus/contractnli/UALR-Standard-Non-disclosure-AgreementTemplate.txt\n",
      "  Chunk Num: 3\n",
      "\n",
      "Processing query: \"Consider FNHA's Non-Disclosure Agreement; Does the document restrict the use of Confidential Information to the purposes stated in the Agreement?\"\n"
     ]
    },
    {
     "name": "stderr",
     "output_type": "stream",
     "text": [
      "Generating RAG answers: 100%|██████████| 100/100 [04:37<00:00,  2.77s/it]"
     ]
    },
    {
     "name": "stdout",
     "output_type": "stream",
     "text": [
      "\n",
      "Generated Answer:\n",
      "Yes, the document restricts the use of Confidential Information to the purposes stated in the Agreement. Specifically, it states that the \"company will not use the confidential information for any purpose other than responding to the rfp.\"\n",
      "\n",
      "Source Documents (3 retrieved):\n",
      "  --- Source 1 ---\n",
      "  Filename: FNHA-2019RFP-02-NDA-form.txt\n",
      "  Directory: corpus/contractnli/FNHA-2019RFP-02-NDA-form.txt\n",
      "  Chunk Num: 4\n",
      "  --- Source 2 ---\n",
      "  Filename: FNHA-2019RFP-02-NDA-form.txt\n",
      "  Directory: corpus/contractnli/FNHA-2019RFP-02-NDA-form.txt\n",
      "  Chunk Num: 3\n",
      "  --- Source 3 ---\n",
      "  Filename: FNHA-2019RFP-02-NDA-form.txt\n",
      "  Directory: corpus/contractnli/FNHA-2019RFP-02-NDA-form.txt\n",
      "  Chunk Num: 5\n",
      "\n",
      "Calculating ROUGE and BLEU scores...\n"
     ]
    },
    {
     "name": "stderr",
     "output_type": "stream",
     "text": [
      "\n"
     ]
    },
    {
     "data": {
      "application/vnd.jupyter.widget-view+json": {
       "model_id": "93ee08eaf40647fcadb40f811e0dbb5b",
       "version_major": 2,
       "version_minor": 0
      },
      "text/plain": [
       "Downloading builder script: 0.00B [00:00, ?B/s]"
      ]
     },
     "metadata": {},
     "output_type": "display_data"
    },
    {
     "data": {
      "application/vnd.jupyter.widget-view+json": {
       "model_id": "72027cdec5334945bd2d0a835bdf98ed",
       "version_major": 2,
       "version_minor": 0
      },
      "text/plain": [
       "Downloading extra modules: 0.00B [00:00, ?B/s]"
      ]
     },
     "metadata": {},
     "output_type": "display_data"
    },
    {
     "name": "stdout",
     "output_type": "stream",
     "text": [
      "BLEU metric loaded successfully from Hugging Face evaluate.\n",
      "Calculating ROUGE and BLEU scores for 100 responses...\n"
     ]
    },
    {
     "name": "stderr",
     "output_type": "stream",
     "text": [
      "Evaluating ROUGE/BLEU: 100%|██████████| 100/100 [00:00<00:00, 552.97it/s]"
     ]
    },
    {
     "name": "stdout",
     "output_type": "stream",
     "text": [
      "\n",
      "--- Evaluation Metrics Summary (ROUGE/BLEU) ---\n",
      "  Average ROUGE1 F1: 0.3637\n",
      "  Average ROUGE2 F1: 0.1344\n",
      "  Average ROUGEL F1: 0.2433\n",
      "  Average BLEU: 0.0000\n",
      "----------------------------------\n",
      "\n",
      "Calculating RAGAS scores...\n"
     ]
    },
    {
     "name": "stderr",
     "output_type": "stream",
     "text": [
      "\n"
     ]
    },
    {
     "data": {
      "application/vnd.jupyter.widget-view+json": {
       "model_id": "6e9abc32bfd54ee08c742c4ce2b1a139",
       "version_major": 2,
       "version_minor": 0
      },
      "text/plain": [
       "Evaluating:   0%|          | 0/500 [00:00<?, ?it/s]"
      ]
     },
     "metadata": {},
     "output_type": "display_data"
    },
    {
     "name": "stderr",
     "output_type": "stream",
     "text": [
      "ERROR:ragas.executor:Exception raised in Job[363]: InternalServerError(upstream connect error or disconnect/reset before headers. reset reason: connection timeout)\n",
      "ERROR:ragas.executor:Exception raised in Job[397]: InternalServerError(upstream connect error or disconnect/reset before headers. reset reason: connection termination)\n"
     ]
    },
    {
     "name": "stdout",
     "output_type": "stream",
     "text": [
      "\n",
      "--- RAGAS Metrics Summary ---\n",
      "{'faithfulness': 0.9508, 'answer_relevancy': 0.7007, 'context_precision': 0.5488, 'context_recall': 0.4899, 'answer_correctness': 0.3421}\n",
      "-----------------------------\n",
      "\n",
      "============================================================\n",
      "OVERALL RAG PIPELINE - ROUGE/BLEU SUMMARY\n",
      "============================================================\n",
      "Evaluated on: 100 questions\n",
      "  Average ROUGE1 F1: 0.3637\n",
      "  Average ROUGE2 F1: 0.1344\n",
      "  Average ROUGEL F1: 0.2433\n",
      "  Average BLEU: 0.0000\n",
      "============================================================\n",
      "\n",
      "============================================================\n",
      "OVERALL RAG PIPELINE - RAGAS SUMMARY\n",
      "============================================================\n",
      "Evaluated on: 100 questions\n",
      "  RAGAS scores object could not be parsed into a printable dictionary.\n",
      "  Raw RAGAS result: {'faithfulness': 0.9508, 'answer_relevancy': 0.7007, 'context_precision': 0.5488, 'context_recall': 0.4899, 'answer_correctness': 0.3421}\n",
      "============================================================\n"
     ]
    }
   ],
   "source": [
    "openai_api_key = os.getenv(\"OPENAI_API_KEY\")\n",
    "\n",
    "ragas_eval_llm_model_name = \"gpt-4.1-mini\"\n",
    "ragas_eval_llm = None\n",
    "ragas_eval_embeddings = None\n",
    "\n",
    "if openai_api_key:\n",
    "    try:\n",
    "        ragas_eval_llm = ChatOpenAI(model_name=ragas_eval_llm_model_name, openai_api_key=openai_api_key, temperature=0)\n",
    "        ragas_eval_embeddings = OpenAIEmbeddings(openai_api_key=openai_api_key, model=\"text-embedding-3-small\")\n",
    "        print(f\"RAGAS LLM ({ragas_eval_llm_model_name}) and Embeddings initialized.\")\n",
    "    except Exception as e:\n",
    "        print(f\"Error initializing RAGAS LLM/Embeddings: {e}. RAGAS will be skipped.\")\n",
    "        ragas_eval_llm = None \n",
    "else:\n",
    "    print(\"CRITICAL: OpenAI API Key not found. RAGAS evaluation will be skipped.\")\n",
    "\n",
    "NUM_QUESTIONS_FOR_OVERALL_EVAL = 100 # adjust as needed\n",
    "\n",
    "# check readiness for final evaluation\n",
    "ready_for_final_eval = True\n",
    "final_rouge_bleu_metrics = None\n",
    "final_ragas_result_object = None\n",
    "\n",
    "try:\n",
    "\n",
    "    if not rag_chain_instance: ready_for_final_eval = False; print(\"Skipping: `rag_chain_instance` not available.\")\n",
    "    if not evaluation_questions: ready_for_final_eval = False; print(\"Skipping: `evaluation_questions` not available.\")\n",
    "    if not evaluation_ground_truths: ready_for_final_eval = False; print(\"Skipping: `evaluation_ground_truths` not available.\")\n",
    "except NameError as e:\n",
    "    print(f\"Skipping final evaluation: A key variable ('{e.name}') was not defined. Please run all prerequisite cells.\")\n",
    "    ready_for_final_eval = False\n",
    "\n",
    "if not ragas_eval_llm: \n",
    "    print(\"Note: RAGAS part of the evaluation will be skipped as its LLM is not available.\")\n",
    "\n",
    "# perform Evaluation ---\n",
    "if ready_for_final_eval:\n",
    "    print(f\"\\nInitiating RAG pipeline evaluation on up to {NUM_QUESTIONS_FOR_OVERALL_EVAL} question(s).\")\n",
    "    \n",
    "    final_rouge_bleu_metrics, final_ragas_result_object = perform_full_evaluation(\n",
    "        rag_pipeline=rag_chain_instance,\n",
    "        questions_list=evaluation_questions,\n",
    "        ground_truth_answers_list=evaluation_ground_truths,\n",
    "        max_questions_to_eval=NUM_QUESTIONS_FOR_OVERALL_EVAL,\n",
    "        ragas_llm=ragas_eval_llm, \n",
    "        ragas_embeddings=ragas_eval_embeddings\n",
    "    )\n",
    "\n",
    "    # print ROUGE/BLEU Results ---\n",
    "    if final_rouge_bleu_metrics:\n",
    "        print(\"\\n\" + \"=\"*60)\n",
    "        print(\"OVERALL RAG PIPELINE - ROUGE/BLEU SUMMARY\")\n",
    "        print(\"=\"*60)\n",
    "        actual_eval_count_display = min(NUM_QUESTIONS_FOR_OVERALL_EVAL, len(evaluation_questions) if evaluation_questions else 0)\n",
    "        print(f\"Evaluated on: {actual_eval_count_display} questions\")\n",
    "        for metric_name, score_value in final_rouge_bleu_metrics.items():\n",
    "            print(f\"  Average {metric_name.replace('_f1', ' F1').upper()}: {score_value:.4f}\")\n",
    "        print(\"=\"*60)\n",
    "        \n",
    "    # print RAGAS Results ---\n",
    "    if final_ragas_result_object:\n",
    "        actual_eval_count_display = min(NUM_QUESTIONS_FOR_OVERALL_EVAL, len(evaluation_questions) if evaluation_questions else 0)\n",
    "        if isinstance(final_ragas_result_object, dict) and \"error\" in final_ragas_result_object:\n",
    "            print(\"\\n\" + \"=\"*60)\n",
    "            print(\"RAGAS EVALUATION ERROR\")\n",
    "            print(f\"Error details: {final_ragas_result_object['error']}\")\n",
    "            print(\"=\"*60)\n",
    "        elif isinstance(final_ragas_result_object, dict) and \"status\" in final_ragas_result_object and final_ragas_result_object[\"status\"] == \"skipped_no_llm\":\n",
    "            print(\"\\n\" + \"=\"*60)\n",
    "            print(\"RAGAS EVALUATION SKIPPED (No LLM or API Key issue for RAGAS)\")\n",
    "            print(\"=\"*60)\n",
    "        # Check if it's the RAGAS EvaluationResult object or a dict of scores\n",
    "        elif hasattr(final_ragas_result_object, 'scores') or isinstance(final_ragas_result_object, dict):\n",
    "            print(\"\\n\" + \"=\"*60)\n",
    "            print(\"OVERALL RAG PIPELINE - RAGAS SUMMARY\")\n",
    "            print(\"=\"*60)\n",
    "            print(f\"Evaluated on: {actual_eval_count_display} questions\")\n",
    "            \n",
    "            scores_to_print = {}\n",
    "            if hasattr(final_ragas_result_object, 'to_dict'): \n",
    "                 scores_to_print = final_ragas_result_object.to_dict()\n",
    "            elif isinstance(final_ragas_result_object, dict): \n",
    "                 scores_to_print = final_ragas_result_object\n",
    "\n",
    "            if scores_to_print:\n",
    "                for metric_name, score_value in scores_to_print.items():\n",
    "                    if isinstance(score_value, (float, np.floating, int)):\n",
    "                        print(f\"  Average {metric_name.replace('_', ' ').title()}: {score_value:.4f}\")\n",
    "            else:\n",
    "                print(\"  RAGAS scores object could not be parsed into a printable dictionary.\")\n",
    "                print(f\"  Raw RAGAS result: {final_ragas_result_object}\")\n",
    "            print(\"=\"*60)\n",
    "        else:\n",
    "            print(\"\\n\" + \"=\"*60)\n",
    "            print(\"RAGAS EVALUATION - UNKNOWN RESULT FORMAT\")\n",
    "            print(f\"Raw RAGAS result: {final_ragas_result_object}\")\n",
    "            print(\"=\"*60)\n",
    "else:\n",
    "    print(\"\\nFinal evaluation was not performed. Check logs above for reasons (e.g., missing variables, API key).\")"
   ]
  },
  {
   "cell_type": "markdown",
   "metadata": {},
   "source": [
    " ## **4. Conclusion**"
   ]
  },
  {
   "cell_type": "markdown",
   "metadata": {},
   "source": [
    " ### **4.1 Conclusions and insights**"
   ]
  },
  {
   "cell_type": "markdown",
   "metadata": {},
   "source": [
    " #### **4.1.1**\n",
    "\n",
    " Conclude with the results here. Include the insights gained about the data, model pipeline, the RAG process and the results obtained."
   ]
  },
  {
   "cell_type": "markdown",
   "metadata": {},
   "source": [
    "This project successfully developed and evaluated an end-to-end Retrieval-Augmented Generation (RAG) pipeline for extracting information from a diverse corpus of legal documents.\n",
    "\n",
    "*   **Pipeline Overview:**\n",
    "    *   The methodology encompassed data loading, meticulous legal-specific preprocessing, Exploratory Data Analysis (EDA), strategic document chunking, vector embedding, and answer generation.\n",
    "    *   **698 documents** were processed, resulting in **90,230 chunks** with an average length of **841.84 characters** (median 927.00 characters, min 50, max 1200).\n",
    "    *   Utilized LangChain, OpenAI's `text-embedding-3-small` for embeddings, ChromaDB for vector storage, and an OpenAI LLM (`gpt-4.1-mini`) for both the RAG chain's answer generation and for RAGAS evaluation, guided by a custom legal Q&A prompt.\n",
    "\n",
    "*   **Data & EDA Insights:**\n",
    "    *   The legal corpus demonstrated significant lexical and structural diversity (NDAs, contracts, etc.).\n",
    "    *   TF-IDF similarity analysis of the **first 10 documents (New Plot 2)** reaffirmed a very strong cluster of high similarity (scores 0.88-0.95) among `Doc7 (Century Bancorp)`, `Doc8 (GP_Strategies_C)`, and `Doc9 (Virtusa Corpora)`, common in related corporate/financial agreements. Moderate similarities were noted between potential online service/tech contracts (e.g., `Doc0 (Groupon.txt)`-`Doc1 (fiverr.txt)` at 0.55; `Doc2 (Keep.txt)`-`Doc6 (Viber Messenger)` at 0.41). Documents outside this cluster showed low similarity, indicating lexical diversity.\n",
    "    *   TF-IDF analysis of **10 randomly selected documents (New Plot 2)** showed a more dispersed pattern. The highest off-diagonal similarity was between `Doc1 (KIROMICBIOPHARM)` and `Doc3 (GLOBALTECHNOLOG)` at 0.79, suggesting industry or contractual framework similarities. Moderate pairings like `Doc0 (Vine_Energy_Inc)`-`Doc4 (Select_Bancorp_)` (0.53) also appeared. Many pairs exhibited very low similarity, highlighting broad corpus diversity.\n",
    "    *   These EDA views confirmed the corpus's varied nature, validating the RAG approach.\n",
    "\n",
    "*   **RAG Pipeline Performance (Evaluated on 100 Benchmark Questions):**\n",
    "    *   **Lexical Similarity Metrics (ROUGE & BLEU):**\n",
    "        *   Average ROUGE-1 F1: **0.3637** (some keyword overlap)\n",
    "        *   Average ROUGE-2 F1: **0.1344** (less phrase overlap)\n",
    "        *   Average ROUGE-L F1: **0.2433** (some sentence structure similarity)\n",
    "        *   Average BLEU: **0.0000**. This persistent zero score, despite non-zero ROUGE, suggests generated answers rarely share exact n-gram sequences with the specific ground truth snippets, likely due to phrasing differences or tokenization nuances not fully mitigated by lowercasing.\n",
    "    *   **RAGAS Metrics (using `gpt-4.1-mini` as evaluation LLM):**\n",
    "        *   **Faithfulness: 0.9508 (Excellent)** - Answers generated were strongly grounded in the retrieved context, minimizing hallucination.\n",
    "        *   **Answer Relevancy: 0.7007 (Good)** - Generated answers were generally pertinent to the questions asked.\n",
    "        *   **Context Precision: 0.5488 (Moderate)** - Over half the retrieved context was relevant, indicating some irrelevant information might still be passed to the LLM.\n",
    "        *   **Context Recall: 0.4899 (Moderate)** - The retriever fetched slightly less than half the necessary information from the corpus to answer questions comprehensively. This remains a key area for improvement.\n",
    "        *   **Answer Correctness: 0.3421 (Relatively Low)** - While answers were faithful to *retrieved context* and relevant to the *question*, they often differed semantically or lexically from the *ground truth answers*. This likely stems from the specific nature of ground truths (often direct snippets) vs. the LLM's paraphrased responses, compounded by limitations in context recall.\n",
    "\n",
    "*   **Overall Conclusion:**\n",
    "    *   The RAG system provides a solid, reliable foundation for legal document analysis, particularly excelling in generating answers faithful to the evidence it retrieves.\n",
    "    *   The evaluation highlights a common challenge in complex domains: aligning generated, natural language answers with very specific, often extractive, ground truths for lexical metrics.\n",
    "\n",
    "*   **Future Directions & Improvements:**\n",
    "    *   **Enhance Retrieval:** Focus on improving `Context Recall` and `Context Precision`.\n",
    "        *   Experiment with different `k` values for retrieval.\n",
    "        *   Explore advanced retrieval strategies like MMR (Maximal Marginal Relevance).\n",
    "        *   Consider implementing a re-ranking step.\n",
    "    *   **Refine Chunking:** Further experiment with chunk size/overlap or semantic chunking.\n",
    "    *   **Prompt Engineering:** Iteratively refine RAG chain prompts to guide the LLM towards outputs that might better align with benchmark answer styles or detail.\n",
    "    *   **Investigate BLEU Score:** Conduct a targeted analysis of the zero BLEU scores (e.g., manual tokenization comparison for sample cases, different BLEU settings).\n",
    "    *   **Qualitative Analysis:** Increase manual, qualitative review of Q&A pairs to understand the nuances of system performance beyond quantitative scores.\n",
    "    *   The project demonstrates RAG's viability for legal tech, with clear pathways for optimization.\n",
    "\n",
    "---"
   ]
  }
 ],
 "metadata": {
  "kernelspec": {
   "display_name": "upgrad",
   "language": "python",
   "name": "python3"
  },
  "language_info": {
   "codemirror_mode": {
    "name": "ipython",
    "version": 3
   },
   "file_extension": ".py",
   "mimetype": "text/x-python",
   "name": "python",
   "nbconvert_exporter": "python",
   "pygments_lexer": "ipython3",
   "version": "3.10.13"
  }
 },
 "nbformat": 4,
 "nbformat_minor": 2
}
